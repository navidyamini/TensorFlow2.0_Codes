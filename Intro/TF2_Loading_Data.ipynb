{
  "nbformat": 4,
  "nbformat_minor": 0,
  "metadata": {
    "colab": {
      "provenance": [],
      "authorship_tag": "ABX9TyP80cYt2i7ZqcGrnJmL9U9d",
      "include_colab_link": true
    },
    "kernelspec": {
      "name": "python3",
      "display_name": "Python 3"
    },
    "language_info": {
      "name": "python"
    }
  },
  "cells": [
    {
      "cell_type": "markdown",
      "metadata": {
        "id": "view-in-github",
        "colab_type": "text"
      },
      "source": [
        "<a href=\"https://colab.research.google.com/github/navidyamini/TensorFlow2.0_Codes/blob/main/Intro/TF2_Loading_Data.ipynb\" target=\"_parent\"><img src=\"https://colab.research.google.com/assets/colab-badge.svg\" alt=\"Open In Colab\"/></a>"
      ]
    },
    {
      "cell_type": "code",
      "execution_count": null,
      "metadata": {
        "id": "-1O73-Hy-U1I"
      },
      "outputs": [],
      "source": [
        "# download the data from a URL\n",
        "# source: https://archive.ics.uci.edu/ml/datasets/Arrhythmia\n",
        "# alternate URL: https://lazyprogrammer.me/course_files/arrhythmia.data\n",
        "#!wget --no-check-certificate https://archive.ics.uci.edu/ml/machine-learning-databases/arrhythmia/arrhythmia.data\n",
        "!wget https://lazyprogrammer.me/course_files/arrhythmia.data"
      ]
    },
    {
      "cell_type": "code",
      "source": [
        "!ls\n"
      ],
      "metadata": {
        "id": "S-SK3x2q_FpI"
      },
      "execution_count": null,
      "outputs": []
    },
    {
      "cell_type": "code",
      "source": [
        "!head arrhythmia.data"
      ],
      "metadata": {
        "id": "TIskQFS__HGW"
      },
      "execution_count": null,
      "outputs": []
    },
    {
      "cell_type": "code",
      "source": [
        "import pandas as pd\n",
        "df = pd.read_csv('arrhythmia.data', header = None)"
      ],
      "metadata": {
        "id": "BNJIrk61_Mgl"
      },
      "execution_count": null,
      "outputs": []
    },
    {
      "cell_type": "code",
      "source": [
        "data = df [[0,1,2,3,4,5]]\n",
        "data.columns = ['age','sex','height','weight','ORS duration', 'P-R interval']"
      ],
      "metadata": {
        "id": "Zqo70Kl1_h9k"
      },
      "execution_count": null,
      "outputs": []
    },
    {
      "cell_type": "code",
      "source": [
        "import matplotlib.pyplot as plt\n",
        "plt.rcParams['figure.figsize'] = [15, 15]\n",
        "data.hist();"
      ],
      "metadata": {
        "id": "56KPCnaK_r0U"
      },
      "execution_count": null,
      "outputs": []
    },
    {
      "cell_type": "code",
      "source": [
        "from pandas.plotting import scatter_matrix\n",
        "scatter_matrix(data);"
      ],
      "metadata": {
        "id": "VIzq-hNGAqV6"
      },
      "execution_count": null,
      "outputs": []
    },
    {
      "cell_type": "markdown",
      "source": [
        "# Part 2: Using tf.keras"
      ],
      "metadata": {
        "id": "KVErCkkCBALy"
      }
    },
    {
      "cell_type": "code",
      "source": [
        "# use keras get_file to download the auto MPG dataset\n",
        "# source: https://archive.ics.uci.edu/ml/datasets/Auto+MPG\n",
        "url = 'https://archive.ics.uci.edu/ml/machine-learning-databases/auto-mpg/auto-mpg.data'\n"
      ],
      "metadata": {
        "id": "alF7PlfABGvU"
      },
      "execution_count": null,
      "outputs": []
    },
    {
      "cell_type": "code",
      "source": [
        "import tensorflow as tf\n",
        "print(tf.__version__)"
      ],
      "metadata": {
        "id": "JIrwt2iyBZz0"
      },
      "execution_count": null,
      "outputs": []
    },
    {
      "cell_type": "code",
      "source": [
        "tf.keras.utils.get_file('auto-mpg.data', url)"
      ],
      "metadata": {
        "id": "QQvDh6y_BmAb"
      },
      "execution_count": null,
      "outputs": []
    },
    {
      "cell_type": "code",
      "source": [
        "!head /root/.keras/datasets/auto-mpg.data"
      ],
      "metadata": {
        "id": "Pg0rFSFgB5QG"
      },
      "execution_count": null,
      "outputs": []
    },
    {
      "cell_type": "code",
      "source": [
        "df = pd.read_csv('/root/.keras/datasets/auto-mpg.data', header = None, delim_whitespace= True)\n",
        "df.head()"
      ],
      "metadata": {
        "id": "Qu31umtlCBTC"
      },
      "execution_count": null,
      "outputs": []
    },
    {
      "cell_type": "markdown",
      "source": [
        "# Part3: Upload the file yourself"
      ],
      "metadata": {
        "id": "LdEaTMBmCzv3"
      }
    },
    {
      "cell_type": "code",
      "source": [
        "from google.colab import files\n",
        "uploaded =files.upload()"
      ],
      "metadata": {
        "id": "Us1C0O11C61b"
      },
      "execution_count": null,
      "outputs": []
    },
    {
      "cell_type": "code",
      "source": [
        "uploaded"
      ],
      "metadata": {
        "id": "j4UaoIiBEVAU"
      },
      "execution_count": null,
      "outputs": []
    },
    {
      "cell_type": "code",
      "source": [
        "!ls\n"
      ],
      "metadata": {
        "id": "b7zcDjOfEYsM"
      },
      "execution_count": null,
      "outputs": []
    },
    {
      "cell_type": "code",
      "source": [
        "df = pd.read_csv('file_name.csv',header=None, error_bad_lines=False)\n",
        "df.head()"
      ],
      "metadata": {
        "id": "SbvxXb7REeso"
      },
      "execution_count": null,
      "outputs": []
    },
    {
      "cell_type": "code",
      "source": [
        "!pwd"
      ],
      "metadata": {
        "id": "7glfH0KeFIK1"
      },
      "execution_count": null,
      "outputs": []
    },
    {
      "cell_type": "markdown",
      "source": [
        "# Part4: Access files from google drive"
      ],
      "metadata": {
        "id": "AViR9oR0FdOC"
      }
    },
    {
      "cell_type": "code",
      "source": [
        "from google.colab import drive\n",
        "drive.mount('/content/gdrive')"
      ],
      "metadata": {
        "id": "MCkAfeTjFi_G"
      },
      "execution_count": null,
      "outputs": []
    },
    {
      "cell_type": "code",
      "source": [
        "!rm -rf crypto_transactions_record_20220104_120346.csv"
      ],
      "metadata": {
        "id": "fVH35vGmGHPf"
      },
      "execution_count": null,
      "outputs": []
    },
    {
      "cell_type": "code",
      "source": [
        "!ls"
      ],
      "metadata": {
        "id": "5ZN5duvjGXMW"
      },
      "execution_count": null,
      "outputs": []
    }
  ]
}
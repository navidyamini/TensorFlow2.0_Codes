{
  "nbformat": 4,
  "nbformat_minor": 0,
  "metadata": {
    "colab": {
      "provenance": [],
      "authorship_tag": "ABX9TyNPOJNUCPkjxRR1vT28Ylt8",
      "include_colab_link": true
    },
    "kernelspec": {
      "name": "python3",
      "display_name": "Python 3"
    },
    "language_info": {
      "name": "python"
    }
  },
  "cells": [
    {
      "cell_type": "markdown",
      "metadata": {
        "id": "view-in-github",
        "colab_type": "text"
      },
      "source": [
        "<a href=\"https://colab.research.google.com/github/navidyamini/TensorFlow2.0_Codes/blob/main/code/TF2_0_Autoregressive_Model.ipynb\" target=\"_parent\"><img src=\"https://colab.research.google.com/assets/colab-badge.svg\" alt=\"Open In Colab\"/></a>"
      ]
    },
    {
      "cell_type": "code",
      "execution_count": 1,
      "metadata": {
        "id": "pdq6kmPIUcHt"
      },
      "outputs": [],
      "source": [
        "import tensorflow as tf\n",
        "from tensorflow.keras.layers import Input, Dense\n",
        "from tensorflow.keras.models import Model\n",
        "from tensorflow.keras.optimizers import SGD, Adam\n",
        "\n",
        "import numpy as np\n",
        "import pandas as pd\n",
        "import matplotlib.pyplot as plt"
      ]
    },
    {
      "cell_type": "code",
      "source": [
        "# make the original data\n",
        "series = np.sin(0.1*np.arange(200)) + np.random.randn(200)*0.1\n",
        "\n",
        "# plot it\n",
        "plt.plot(series)\n",
        "plt.show()"
      ],
      "metadata": {
        "colab": {
          "base_uri": "https://localhost:8080/",
          "height": 265
        },
        "id": "TMsezuTlWQoo",
        "outputId": "531eec79-8cb8-448d-eb40-fb3b389dd2de"
      },
      "execution_count": 2,
      "outputs": [
        {
          "output_type": "display_data",
          "data": {
            "text/plain": [
              "<Figure size 432x288 with 1 Axes>"
            ],
            "image/png": "[encoded data removed]"
          },
          "metadata": {
            "needs_background": "light"
          }
        }
      ]
    },
    {
      "cell_type": "code",
      "source": [
        "### build the dataset\n",
        "# let's see if we can use T past values to predict the next value\n",
        "T = 10\n",
        "X = []\n",
        "Y = []\n",
        "for t in range(len(series) - T ):\n",
        "  x = series[t:t+T]\n",
        "  X.append(x)\n",
        "  y = series[t+T]\n",
        "  Y.append(y)\n",
        "\n",
        "X = np.array(X).reshape(-1, T)\n",
        "Y = np.array(Y)\n",
        "N = len(X)\n",
        "print(\"X.shape\", X.shape, \"Y.shape\", Y.shape)"
      ],
      "metadata": {
        "colab": {
          "base_uri": "https://localhost:8080/"
        },
        "id": "blawSX0jWzBU",
        "outputId": "2c131c23-1eb8-44d4-85fe-cf47e5013a11"
      },
      "execution_count": 3,
      "outputs": [
        {
          "output_type": "stream",
          "name": "stdout",
          "text": [
            "X.shape (190, 10) Y.shape (190,)\n"
          ]
        }
      ]
    },
    {
      "cell_type": "code",
      "source": [
        "### try autoregressive liner model\n",
        "i = Input(shape=(T,))\n",
        "x = Dense(1)(i)\n",
        "model = Model(i, x)\n",
        "model.compile(\n",
        "    loss='mse',\n",
        "    optimizer=Adam(lr=0.1)\n",
        ")\n",
        "# train the RNN\n",
        "r = model.fit(\n",
        "    X[:-N//2], Y[:-N//2],\n",
        "    epochs=80,\n",
        "    validation_data=(X[-N//2:], Y[-N//2:]),\n",
        ")"
      ],
      "metadata": {
        "colab": {
          "base_uri": "https://localhost:8080/"
        },
        "id": "_fuc5F18Z0FP",
        "outputId": "963b0eed-79a1-45d6-9532-bbf9ed411b4c"
      },
      "execution_count": 4,
      "outputs": [
        {
          "output_type": "stream",
          "name": "stdout",
          "text": [
            "Epoch 1/80\n"
          ]
        },
        {
          "output_type": "stream",
          "name": "stderr",
          "text": [
            "/usr/local/lib/python3.8/dist-packages/keras/optimizers/optimizer_v2/adam.py:110: UserWarning: The `lr` argument is deprecated, use `learning_rate` instead.\n",
            "  super(Adam, self).__init__(name, **kwargs)\n"
          ]
        },
        {
          "output_type": "stream",
          "name": "stdout",
          "text": [
            "3/3 [==============================] - 1s 204ms/step - loss: 1.3626 - val_loss: 0.2971\n",
            "Epoch 2/80\n",
            "3/3 [==============================] - 0s 31ms/step - loss: 0.5046 - val_loss: 0.9086\n",
            "Epoch 3/80\n",
            "3/3 [==============================] - 0s 27ms/step - loss: 0.6275 - val_loss: 0.2705\n",
            "Epoch 4/80\n",
            "3/3 [==============================] - 0s 42ms/step - loss: 0.1263 - val_loss: 0.1724\n",
            "Epoch 5/80\n",
            "3/3 [==============================] - 0s 32ms/step - loss: 0.2654 - val_loss: 0.2298\n",
            "Epoch 6/80\n",
            "3/3 [==============================] - 0s 30ms/step - loss: 0.1651 - val_loss: 0.0467\n",
            "Epoch 7/80\n",
            "3/3 [==============================] - 0s 37ms/step - loss: 0.0413 - val_loss: 0.0809\n",
            "Epoch 8/80\n",
            "3/3 [==============================] - 0s 23ms/step - loss: 0.1212 - val_loss: 0.0809\n",
            "Epoch 9/80\n",
            "3/3 [==============================] - 0s 46ms/step - loss: 0.0638 - val_loss: 0.0317\n",
            "Epoch 10/80\n",
            "3/3 [==============================] - 0s 29ms/step - loss: 0.0375 - val_loss: 0.0696\n",
            "Epoch 11/80\n",
            "3/3 [==============================] - 0s 34ms/step - loss: 0.0657 - val_loss: 0.0426\n",
            "Epoch 12/80\n",
            "3/3 [==============================] - 0s 30ms/step - loss: 0.0329 - val_loss: 0.0372\n",
            "Epoch 13/80\n",
            "3/3 [==============================] - 0s 42ms/step - loss: 0.0356 - val_loss: 0.0480\n",
            "Epoch 14/80\n",
            "3/3 [==============================] - 0s 28ms/step - loss: 0.0350 - val_loss: 0.0278\n",
            "Epoch 15/80\n",
            "3/3 [==============================] - 0s 55ms/step - loss: 0.0215 - val_loss: 0.0350\n",
            "Epoch 16/80\n",
            "3/3 [==============================] - 0s 32ms/step - loss: 0.0262 - val_loss: 0.0317\n",
            "Epoch 17/80\n",
            "3/3 [==============================] - 0s 31ms/step - loss: 0.0203 - val_loss: 0.0260\n",
            "Epoch 18/80\n",
            "3/3 [==============================] - 0s 31ms/step - loss: 0.0220 - val_loss: 0.0282\n",
            "Epoch 19/80\n",
            "3/3 [==============================] - 0s 40ms/step - loss: 0.0198 - val_loss: 0.0251\n",
            "Epoch 20/80\n",
            "3/3 [==============================] - 0s 23ms/step - loss: 0.0188 - val_loss: 0.0269\n",
            "Epoch 21/80\n",
            "3/3 [==============================] - 0s 29ms/step - loss: 0.0196 - val_loss: 0.0252\n",
            "Epoch 22/80\n",
            "3/3 [==============================] - 0s 45ms/step - loss: 0.0176 - val_loss: 0.0257\n",
            "Epoch 23/80\n",
            "3/3 [==============================] - 0s 29ms/step - loss: 0.0184 - val_loss: 0.0245\n",
            "Epoch 24/80\n",
            "3/3 [==============================] - 0s 42ms/step - loss: 0.0176 - val_loss: 0.0246\n",
            "Epoch 25/80\n",
            "3/3 [==============================] - 0s 30ms/step - loss: 0.0172 - val_loss: 0.0241\n",
            "Epoch 26/80\n",
            "3/3 [==============================] - 0s 29ms/step - loss: 0.0169 - val_loss: 0.0237\n",
            "Epoch 27/80\n",
            "3/3 [==============================] - 0s 23ms/step - loss: 0.0167 - val_loss: 0.0234\n",
            "Epoch 28/80\n",
            "3/3 [==============================] - 0s 41ms/step - loss: 0.0162 - val_loss: 0.0232\n",
            "Epoch 29/80\n",
            "3/3 [==============================] - 0s 41ms/step - loss: 0.0164 - val_loss: 0.0232\n",
            "Epoch 30/80\n",
            "3/3 [==============================] - 0s 26ms/step - loss: 0.0162 - val_loss: 0.0229\n",
            "Epoch 31/80\n",
            "3/3 [==============================] - 0s 21ms/step - loss: 0.0170 - val_loss: 0.0233\n",
            "Epoch 32/80\n",
            "3/3 [==============================] - 0s 35ms/step - loss: 0.0161 - val_loss: 0.0227\n",
            "Epoch 33/80\n",
            "3/3 [==============================] - 0s 31ms/step - loss: 0.0157 - val_loss: 0.0227\n",
            "Epoch 34/80\n",
            "3/3 [==============================] - 0s 42ms/step - loss: 0.0160 - val_loss: 0.0225\n",
            "Epoch 35/80\n",
            "3/3 [==============================] - 0s 28ms/step - loss: 0.0153 - val_loss: 0.0222\n",
            "Epoch 36/80\n",
            "3/3 [==============================] - 0s 35ms/step - loss: 0.0154 - val_loss: 0.0221\n",
            "Epoch 37/80\n",
            "3/3 [==============================] - 0s 31ms/step - loss: 0.0152 - val_loss: 0.0218\n",
            "Epoch 38/80\n",
            "3/3 [==============================] - 0s 65ms/step - loss: 0.0151 - val_loss: 0.0219\n",
            "Epoch 39/80\n",
            "3/3 [==============================] - 0s 34ms/step - loss: 0.0149 - val_loss: 0.0215\n",
            "Epoch 40/80\n",
            "3/3 [==============================] - 0s 29ms/step - loss: 0.0150 - val_loss: 0.0215\n",
            "Epoch 41/80\n",
            "3/3 [==============================] - 0s 34ms/step - loss: 0.0148 - val_loss: 0.0214\n",
            "Epoch 42/80\n",
            "3/3 [==============================] - 0s 36ms/step - loss: 0.0153 - val_loss: 0.0213\n",
            "Epoch 43/80\n",
            "3/3 [==============================] - 0s 50ms/step - loss: 0.0152 - val_loss: 0.0216\n",
            "Epoch 44/80\n",
            "3/3 [==============================] - 0s 37ms/step - loss: 0.0150 - val_loss: 0.0210\n",
            "Epoch 45/80\n",
            "3/3 [==============================] - 0s 49ms/step - loss: 0.0145 - val_loss: 0.0213\n",
            "Epoch 46/80\n",
            "3/3 [==============================] - 0s 86ms/step - loss: 0.0142 - val_loss: 0.0206\n",
            "Epoch 47/80\n",
            "3/3 [==============================] - 0s 49ms/step - loss: 0.0143 - val_loss: 0.0206\n",
            "Epoch 48/80\n",
            "3/3 [==============================] - 0s 29ms/step - loss: 0.0138 - val_loss: 0.0204\n",
            "Epoch 49/80\n",
            "3/3 [==============================] - 0s 36ms/step - loss: 0.0139 - val_loss: 0.0204\n",
            "Epoch 50/80\n",
            "3/3 [==============================] - 0s 88ms/step - loss: 0.0136 - val_loss: 0.0201\n",
            "Epoch 51/80\n",
            "3/3 [==============================] - 0s 35ms/step - loss: 0.0137 - val_loss: 0.0199\n",
            "Epoch 52/80\n",
            "3/3 [==============================] - 0s 30ms/step - loss: 0.0134 - val_loss: 0.0199\n",
            "Epoch 53/80\n",
            "3/3 [==============================] - 0s 52ms/step - loss: 0.0137 - val_loss: 0.0198\n",
            "Epoch 54/80\n",
            "3/3 [==============================] - 0s 47ms/step - loss: 0.0133 - val_loss: 0.0198\n",
            "Epoch 55/80\n",
            "3/3 [==============================] - 0s 21ms/step - loss: 0.0134 - val_loss: 0.0194\n",
            "Epoch 56/80\n",
            "3/3 [==============================] - 0s 32ms/step - loss: 0.0132 - val_loss: 0.0194\n",
            "Epoch 57/80\n",
            "3/3 [==============================] - 0s 63ms/step - loss: 0.0131 - val_loss: 0.0193\n",
            "Epoch 58/80\n",
            "3/3 [==============================] - 0s 29ms/step - loss: 0.0130 - val_loss: 0.0191\n",
            "Epoch 59/80\n",
            "3/3 [==============================] - 0s 47ms/step - loss: 0.0129 - val_loss: 0.0190\n",
            "Epoch 60/80\n",
            "3/3 [==============================] - 0s 51ms/step - loss: 0.0127 - val_loss: 0.0189\n",
            "Epoch 61/80\n",
            "3/3 [==============================] - 0s 33ms/step - loss: 0.0127 - val_loss: 0.0188\n",
            "Epoch 62/80\n",
            "3/3 [==============================] - 0s 43ms/step - loss: 0.0126 - val_loss: 0.0188\n",
            "Epoch 63/80\n",
            "3/3 [==============================] - 0s 34ms/step - loss: 0.0126 - val_loss: 0.0185\n",
            "Epoch 64/80\n",
            "3/3 [==============================] - 0s 36ms/step - loss: 0.0126 - val_loss: 0.0185\n",
            "Epoch 65/80\n",
            "3/3 [==============================] - 0s 47ms/step - loss: 0.0123 - val_loss: 0.0184\n",
            "Epoch 66/80\n",
            "3/3 [==============================] - 0s 46ms/step - loss: 0.0123 - val_loss: 0.0182\n",
            "Epoch 67/80\n",
            "3/3 [==============================] - 0s 31ms/step - loss: 0.0124 - val_loss: 0.0181\n",
            "Epoch 68/80\n",
            "3/3 [==============================] - 0s 85ms/step - loss: 0.0123 - val_loss: 0.0180\n",
            "Epoch 69/80\n",
            "3/3 [==============================] - 0s 48ms/step - loss: 0.0120 - val_loss: 0.0180\n",
            "Epoch 70/80\n",
            "3/3 [==============================] - 0s 45ms/step - loss: 0.0122 - val_loss: 0.0182\n",
            "Epoch 71/80\n",
            "3/3 [==============================] - 0s 31ms/step - loss: 0.0119 - val_loss: 0.0178\n",
            "Epoch 72/80\n",
            "3/3 [==============================] - 0s 84ms/step - loss: 0.0118 - val_loss: 0.0177\n",
            "Epoch 73/80\n",
            "3/3 [==============================] - 0s 49ms/step - loss: 0.0120 - val_loss: 0.0176\n",
            "Epoch 74/80\n",
            "3/3 [==============================] - 0s 62ms/step - loss: 0.0120 - val_loss: 0.0176\n",
            "Epoch 75/80\n",
            "3/3 [==============================] - 0s 48ms/step - loss: 0.0119 - val_loss: 0.0179\n",
            "Epoch 76/80\n",
            "3/3 [==============================] - 0s 32ms/step - loss: 0.0118 - val_loss: 0.0175\n",
            "Epoch 77/80\n",
            "3/3 [==============================] - 0s 49ms/step - loss: 0.0118 - val_loss: 0.0173\n",
            "Epoch 78/80\n",
            "3/3 [==============================] - 0s 32ms/step - loss: 0.0117 - val_loss: 0.0173\n",
            "Epoch 79/80\n",
            "3/3 [==============================] - 0s 31ms/step - loss: 0.0116 - val_loss: 0.0173\n",
            "Epoch 80/80\n",
            "3/3 [==============================] - 0s 50ms/step - loss: 0.0117 - val_loss: 0.0174\n"
          ]
        }
      ]
    },
    {
      "cell_type": "code",
      "source": [
        "# plot loss per iteration\n",
        "plt.plot(r.history['loss'], label='loaa')\n",
        "plt.plot(r.history['val_loss'], label='val_loss')\n",
        "plt.legend()"
      ],
      "metadata": {
        "colab": {
          "base_uri": "https://localhost:8080/",
          "height": 283
        },
        "id": "xi_joXOObNe1",
        "outputId": "5b42e622-7752-4d3c-fa98-acea8166db22"
      },
      "execution_count": 5,
      "outputs": [
        {
          "output_type": "execute_result",
          "data": {
            "text/plain": [
              "<matplotlib.legend.Legend at 0x7f4a73f12c70>"
            ]
          },
          "metadata": {},
          "execution_count": 5
        },
        {
          "output_type": "display_data",
          "data": {
            "text/plain": [
              "<Figure size 432x288 with 1 Axes>"
            ],
            "image/png": "[encoded data removed]"
          },
          "metadata": {
            "needs_background": "light"
          }
        }
      ]
    },
    {
      "cell_type": "code",
      "source": [
        "# \"Wrong forecast using true targets\"\n",
        "\n",
        "validation_target = Y[-N//2:]\n",
        "validation_predictions = []\n",
        "\n",
        "# index of first validation input\n",
        "i = -N//2\n",
        "\n",
        "while len(validation_predictions) < len(validation_target):\n",
        "  p = model.predict(X[i].reshape(1, -1))[0,0] # 1X1 array -> scalar\n",
        "  i += 1\n",
        "\n",
        "  # update the predictions list\n",
        "  validation_predictions.append(p)"
      ],
      "metadata": {
        "colab": {
          "base_uri": "https://localhost:8080/"
        },
        "id": "ZaxBcA3Sb73q",
        "outputId": "08a563d0-a8ec-475e-992b-4c9a6b95c2dd"
      },
      "execution_count": 6,
      "outputs": [
        {
          "output_type": "stream",
          "name": "stdout",
          "text": [
            "1/1 [==============================] - 0s 158ms/step\n",
            "1/1 [==============================] - 0s 31ms/step\n",
            "1/1 [==============================] - 0s 141ms/step\n",
            "1/1 [==============================] - 0s 88ms/step\n",
            "1/1 [==============================] - 0s 58ms/step\n",
            "1/1 [==============================] - 0s 44ms/step\n",
            "1/1 [==============================] - 0s 35ms/step\n",
            "1/1 [==============================] - 0s 30ms/step\n",
            "1/1 [==============================] - 0s 28ms/step\n",
            "1/1 [==============================] - 0s 29ms/step\n",
            "1/1 [==============================] - 0s 54ms/step\n",
            "1/1 [==============================] - 0s 32ms/step\n",
            "1/1 [==============================] - 0s 47ms/step\n",
            "1/1 [==============================] - 0s 20ms/step\n",
            "1/1 [==============================] - 0s 19ms/step\n",
            "1/1 [==============================] - 0s 23ms/step\n",
            "1/1 [==============================] - 0s 18ms/step\n",
            "1/1 [==============================] - 0s 18ms/step\n",
            "1/1 [==============================] - 0s 17ms/step\n",
            "1/1 [==============================] - 0s 17ms/step\n",
            "1/1 [==============================] - 0s 17ms/step\n",
            "1/1 [==============================] - 0s 18ms/step\n",
            "1/1 [==============================] - 0s 18ms/step\n",
            "1/1 [==============================] - 0s 20ms/step\n",
            "1/1 [==============================] - 0s 16ms/step\n",
            "1/1 [==============================] - 0s 16ms/step\n",
            "1/1 [==============================] - 0s 19ms/step\n",
            "1/1 [==============================] - 0s 17ms/step\n",
            "1/1 [==============================] - 0s 17ms/step\n",
            "1/1 [==============================] - 0s 18ms/step\n",
            "1/1 [==============================] - 0s 19ms/step\n",
            "1/1 [==============================] - 0s 18ms/step\n",
            "1/1 [==============================] - 0s 20ms/step\n",
            "1/1 [==============================] - 0s 21ms/step\n",
            "1/1 [==============================] - 0s 18ms/step\n",
            "1/1 [==============================] - 0s 18ms/step\n",
            "1/1 [==============================] - 0s 16ms/step\n",
            "1/1 [==============================] - 0s 17ms/step\n",
            "1/1 [==============================] - 0s 23ms/step\n",
            "1/1 [==============================] - 0s 17ms/step\n",
            "1/1 [==============================] - 0s 29ms/step\n",
            "1/1 [==============================] - 0s 19ms/step\n",
            "1/1 [==============================] - 0s 19ms/step\n",
            "1/1 [==============================] - 0s 20ms/step\n",
            "1/1 [==============================] - 0s 54ms/step\n",
            "1/1 [==============================] - 0s 17ms/step\n",
            "1/1 [==============================] - 0s 17ms/step\n",
            "1/1 [==============================] - 0s 20ms/step\n",
            "1/1 [==============================] - 0s 27ms/step\n",
            "1/1 [==============================] - 0s 18ms/step\n",
            "1/1 [==============================] - 0s 17ms/step\n",
            "1/1 [==============================] - 0s 17ms/step\n",
            "1/1 [==============================] - 0s 22ms/step\n",
            "1/1 [==============================] - 0s 26ms/step\n",
            "1/1 [==============================] - 0s 17ms/step\n",
            "1/1 [==============================] - 0s 18ms/step\n",
            "1/1 [==============================] - 0s 18ms/step\n",
            "1/1 [==============================] - 0s 18ms/step\n",
            "1/1 [==============================] - 0s 19ms/step\n",
            "1/1 [==============================] - 0s 20ms/step\n",
            "1/1 [==============================] - 0s 30ms/step\n",
            "1/1 [==============================] - 0s 21ms/step\n",
            "1/1 [==============================] - 0s 21ms/step\n",
            "1/1 [==============================] - 0s 18ms/step\n",
            "1/1 [==============================] - 0s 18ms/step\n",
            "1/1 [==============================] - 0s 18ms/step\n",
            "1/1 [==============================] - 0s 17ms/step\n",
            "1/1 [==============================] - 0s 17ms/step\n",
            "1/1 [==============================] - 0s 18ms/step\n",
            "1/1 [==============================] - 0s 20ms/step\n",
            "1/1 [==============================] - 0s 27ms/step\n",
            "1/1 [==============================] - 0s 17ms/step\n",
            "1/1 [==============================] - 0s 17ms/step\n",
            "1/1 [==============================] - 0s 28ms/step\n",
            "1/1 [==============================] - 0s 20ms/step\n",
            "1/1 [==============================] - 0s 20ms/step\n",
            "1/1 [==============================] - 0s 20ms/step\n",
            "1/1 [==============================] - 0s 19ms/step\n",
            "1/1 [==============================] - 0s 18ms/step\n",
            "1/1 [==============================] - 0s 18ms/step\n",
            "1/1 [==============================] - 0s 21ms/step\n",
            "1/1 [==============================] - 0s 23ms/step\n",
            "1/1 [==============================] - 0s 21ms/step\n",
            "1/1 [==============================] - 0s 20ms/step\n",
            "1/1 [==============================] - 0s 19ms/step\n",
            "1/1 [==============================] - 0s 20ms/step\n",
            "1/1 [==============================] - 0s 18ms/step\n",
            "1/1 [==============================] - 0s 24ms/step\n",
            "1/1 [==============================] - 0s 18ms/step\n",
            "1/1 [==============================] - 0s 18ms/step\n",
            "1/1 [==============================] - 0s 20ms/step\n",
            "1/1 [==============================] - 0s 19ms/step\n",
            "1/1 [==============================] - 0s 18ms/step\n",
            "1/1 [==============================] - 0s 17ms/step\n",
            "1/1 [==============================] - 0s 17ms/step\n"
          ]
        }
      ]
    },
    {
      "cell_type": "code",
      "source": [
        "plt.plot(validation_target, label='forecast_target')\n",
        "plt.plot(validation_predictions, label='forecast prediction')\n",
        "plt.legend()"
      ],
      "metadata": {
        "colab": {
          "base_uri": "https://localhost:8080/",
          "height": 283
        },
        "id": "l2YhKcSrdnD4",
        "outputId": "6a339e7b-2ff2-4f97-db89-3b9a805143d9"
      },
      "execution_count": 7,
      "outputs": [
        {
          "output_type": "execute_result",
          "data": {
            "text/plain": [
              "<matplotlib.legend.Legend at 0x7f4a7811e190>"
            ]
          },
          "metadata": {},
          "execution_count": 7
        },
        {
          "output_type": "display_data",
          "data": {
            "text/plain": [
              "<Figure size 432x288 with 1 Axes>"
            ],
            "image/png": "[encoded data removed]"
          },
          "metadata": {
            "needs_background": "light"
          }
        }
      ]
    },
    {
      "cell_type": "code",
      "source": [
        "# Forecast future values (use only self-predictions for making future predictions)\n",
        "\n",
        "validation_target = Y[-N//2:]\n",
        "validation_predictions = []\n",
        "\n",
        "# last train input\n",
        "last_x = X[-N//2] # 1-D array of length T\n",
        "\n",
        "while len(validation_predictions) < len(validation_target):\n",
        "  p = model.predict(last_x.reshape(1, -1))[0,0] # 1x1 array -> scalar\n",
        "\n",
        "  # update the predictions list\n",
        "  validation_predictions.append(p)\n",
        "\n",
        "  # make the new input\n",
        "  last_x = np.roll(last_x, -1)\n",
        "  last_x[-1] = p"
      ],
      "metadata": {
        "colab": {
          "base_uri": "https://localhost:8080/"
        },
        "id": "nnCimENmeFAZ",
        "outputId": "a3a8d886-3c92-4318-8d14-6127f02ded34"
      },
      "execution_count": 8,
      "outputs": [
        {
          "output_type": "stream",
          "name": "stdout",
          "text": [
            "1/1 [==============================] - 0s 23ms/step\n",
            "1/1 [==============================] - 0s 18ms/step\n",
            "1/1 [==============================] - 0s 19ms/step\n",
            "1/1 [==============================] - 0s 17ms/step\n",
            "1/1 [==============================] - 0s 20ms/step\n",
            "1/1 [==============================] - 0s 19ms/step\n",
            "1/1 [==============================] - 0s 18ms/step\n",
            "1/1 [==============================] - 0s 17ms/step\n",
            "1/1 [==============================] - 0s 17ms/step\n",
            "1/1 [==============================] - 0s 19ms/step\n",
            "1/1 [==============================] - 0s 18ms/step\n",
            "1/1 [==============================] - 0s 18ms/step\n",
            "1/1 [==============================] - 0s 20ms/step\n",
            "1/1 [==============================] - 0s 18ms/step\n",
            "1/1 [==============================] - 0s 17ms/step\n",
            "1/1 [==============================] - 0s 18ms/step\n",
            "1/1 [==============================] - 0s 21ms/step\n",
            "1/1 [==============================] - 0s 21ms/step\n",
            "1/1 [==============================] - 0s 19ms/step\n",
            "1/1 [==============================] - 0s 20ms/step\n",
            "1/1 [==============================] - 0s 22ms/step\n",
            "1/1 [==============================] - 0s 25ms/step\n",
            "1/1 [==============================] - 0s 17ms/step\n",
            "1/1 [==============================] - 0s 17ms/step\n",
            "1/1 [==============================] - 0s 17ms/step\n",
            "1/1 [==============================] - 0s 17ms/step\n",
            "1/1 [==============================] - 0s 19ms/step\n",
            "1/1 [==============================] - 0s 20ms/step\n",
            "1/1 [==============================] - 0s 22ms/step\n",
            "1/1 [==============================] - 0s 22ms/step\n",
            "1/1 [==============================] - 0s 20ms/step\n",
            "1/1 [==============================] - 0s 18ms/step\n",
            "1/1 [==============================] - 0s 18ms/step\n",
            "1/1 [==============================] - 0s 17ms/step\n",
            "1/1 [==============================] - 0s 22ms/step\n",
            "1/1 [==============================] - 0s 17ms/step\n",
            "1/1 [==============================] - 0s 17ms/step\n",
            "1/1 [==============================] - 0s 25ms/step\n",
            "1/1 [==============================] - 0s 20ms/step\n",
            "1/1 [==============================] - 0s 21ms/step\n",
            "1/1 [==============================] - 0s 17ms/step\n",
            "1/1 [==============================] - 0s 22ms/step\n",
            "1/1 [==============================] - 0s 17ms/step\n",
            "1/1 [==============================] - 0s 17ms/step\n",
            "1/1 [==============================] - 0s 18ms/step\n",
            "1/1 [==============================] - 0s 17ms/step\n",
            "1/1 [==============================] - 0s 18ms/step\n",
            "1/1 [==============================] - 0s 19ms/step\n",
            "1/1 [==============================] - 0s 18ms/step\n",
            "1/1 [==============================] - 0s 18ms/step\n",
            "1/1 [==============================] - 0s 17ms/step\n",
            "1/1 [==============================] - 0s 18ms/step\n",
            "1/1 [==============================] - 0s 20ms/step\n",
            "1/1 [==============================] - 0s 21ms/step\n",
            "1/1 [==============================] - 0s 19ms/step\n",
            "1/1 [==============================] - 0s 24ms/step\n",
            "1/1 [==============================] - 0s 17ms/step\n",
            "1/1 [==============================] - 0s 17ms/step\n",
            "1/1 [==============================] - 0s 26ms/step\n",
            "1/1 [==============================] - 0s 23ms/step\n",
            "1/1 [==============================] - 0s 22ms/step\n",
            "1/1 [==============================] - 0s 21ms/step\n",
            "1/1 [==============================] - 0s 18ms/step\n",
            "1/1 [==============================] - 0s 22ms/step\n",
            "1/1 [==============================] - 0s 24ms/step\n",
            "1/1 [==============================] - 0s 18ms/step\n",
            "1/1 [==============================] - 0s 18ms/step\n",
            "1/1 [==============================] - 0s 21ms/step\n",
            "1/1 [==============================] - 0s 20ms/step\n",
            "1/1 [==============================] - 0s 21ms/step\n",
            "1/1 [==============================] - 0s 18ms/step\n",
            "1/1 [==============================] - 0s 25ms/step\n",
            "1/1 [==============================] - 0s 21ms/step\n",
            "1/1 [==============================] - 0s 21ms/step\n",
            "1/1 [==============================] - 0s 17ms/step\n",
            "1/1 [==============================] - 0s 18ms/step\n",
            "1/1 [==============================] - 0s 17ms/step\n",
            "1/1 [==============================] - 0s 18ms/step\n",
            "1/1 [==============================] - 0s 18ms/step\n",
            "1/1 [==============================] - 0s 24ms/step\n",
            "1/1 [==============================] - 0s 21ms/step\n",
            "1/1 [==============================] - 0s 21ms/step\n",
            "1/1 [==============================] - 0s 18ms/step\n",
            "1/1 [==============================] - 0s 20ms/step\n",
            "1/1 [==============================] - 0s 18ms/step\n",
            "1/1 [==============================] - 0s 18ms/step\n",
            "1/1 [==============================] - 0s 18ms/step\n",
            "1/1 [==============================] - 0s 19ms/step\n",
            "1/1 [==============================] - 0s 21ms/step\n",
            "1/1 [==============================] - 0s 17ms/step\n",
            "1/1 [==============================] - 0s 17ms/step\n",
            "1/1 [==============================] - 0s 22ms/step\n",
            "1/1 [==============================] - 0s 21ms/step\n",
            "1/1 [==============================] - 0s 16ms/step\n",
            "1/1 [==============================] - 0s 20ms/step\n"
          ]
        }
      ]
    },
    {
      "cell_type": "code",
      "source": [
        "plt.plot(validation_target, label='forecast target')\n",
        "plt.plot(validation_predictions, label='forecast prediction')\n",
        "plt.legend()"
      ],
      "metadata": {
        "colab": {
          "base_uri": "https://localhost:8080/",
          "height": 283
        },
        "id": "ndHRg031ffif",
        "outputId": "8aae7d2d-93eb-4725-acdc-8bee8353eba1"
      },
      "execution_count": 9,
      "outputs": [
        {
          "output_type": "execute_result",
          "data": {
            "text/plain": [
              "<matplotlib.legend.Legend at 0x7f4a77f504c0>"
            ]
          },
          "metadata": {},
          "execution_count": 9
        },
        {
          "output_type": "display_data",
          "data": {
            "text/plain": [
              "<Figure size 432x288 with 1 Axes>"
            ],
            "image/png": "[encoded data removed]"
          },
          "metadata": {
            "needs_background": "light"
          }
        }
      ]
    }
  ]
}
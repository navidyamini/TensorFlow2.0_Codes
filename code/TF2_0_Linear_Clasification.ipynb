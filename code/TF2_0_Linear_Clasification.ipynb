{
  "nbformat": 4,
  "nbformat_minor": 0,
  "metadata": {
    "colab": {
      "provenance": [],
      "authorship_tag": "ABX9TyMfhIo18aQiomM1O4eLOfXe",
      "include_colab_link": true
    },
    "kernelspec": {
      "name": "python3",
      "display_name": "Python 3"
    },
    "language_info": {
      "name": "python"
    }
  },
  "cells": [
    {
      "cell_type": "markdown",
      "metadata": {
        "id": "view-in-github",
        "colab_type": "text"
      },
      "source": [
        "<a href=\"https://colab.research.google.com/github/navidyamini/TensorFlow2.0_Codes/blob/main/code/TF2_0_Linear_Clasification.ipynb\" target=\"_parent\"><img src=\"https://colab.research.google.com/assets/colab-badge.svg\" alt=\"Open In Colab\"/></a>"
      ]
    },
    {
      "cell_type": "code",
      "execution_count": 19,
      "metadata": {
        "id": "sylKis8QKCrX",
        "colab": {
          "base_uri": "https://localhost:8080/"
        },
        "outputId": "f219c3f7-4b0a-41b6-ec03-32a1087ed273"
      },
      "outputs": [
        {
          "output_type": "stream",
          "name": "stdout",
          "text": [
            "2.9.2\n"
          ]
        }
      ],
      "source": [
        "import tensorflow as tf\n",
        "print(tf.__version__) "
      ]
    },
    {
      "cell_type": "code",
      "source": [
        "# Load in the data\n",
        "from sklearn.datasets import load_breast_cancer\n",
        "from sklearn.model_selection import train_test_split\n",
        "from sklearn.preprocessing import StandardScaler\n",
        "import numpy as np\n",
        "import matplotlib.pyplot as plt"
      ],
      "metadata": {
        "id": "hzBaSjMEPRQv"
      },
      "execution_count": 20,
      "outputs": []
    },
    {
      "cell_type": "code",
      "source": [
        "# Load in data\n",
        "data = load_breast_cancer()"
      ],
      "metadata": {
        "id": "oFaMgGp8QsDc"
      },
      "execution_count": 21,
      "outputs": []
    },
    {
      "cell_type": "code",
      "source": [
        "# Check the type of data\n",
        "type(data)"
      ],
      "metadata": {
        "colab": {
          "base_uri": "https://localhost:8080/"
        },
        "id": "8o8l7nuPQ5Xx",
        "outputId": "de8cf1ef-b1c5-45a2-f379-72d796a54b7c"
      },
      "execution_count": 22,
      "outputs": [
        {
          "output_type": "execute_result",
          "data": {
            "text/plain": [
              "sklearn.utils.Bunch"
            ]
          },
          "metadata": {},
          "execution_count": 22
        }
      ]
    },
    {
      "cell_type": "code",
      "source": [
        "# IT is a Bunch object\n",
        "# this basicaly acts like a dictionary where you can reat the keays like attributes\n",
        "data.keys()"
      ],
      "metadata": {
        "colab": {
          "base_uri": "https://localhost:8080/"
        },
        "id": "Se-dMkkxRGvb",
        "outputId": "d2ef5c69-42b0-40c7-d5f9-68d663f697d8"
      },
      "execution_count": 23,
      "outputs": [
        {
          "output_type": "execute_result",
          "data": {
            "text/plain": [
              "dict_keys(['data', 'target', 'frame', 'target_names', 'DESCR', 'feature_names', 'filename', 'data_module'])"
            ]
          },
          "metadata": {},
          "execution_count": 23
        }
      ]
    },
    {
      "cell_type": "code",
      "source": [
        "# 'data' the attribute means the input data\n",
        "data.data.shape"
      ],
      "metadata": {
        "colab": {
          "base_uri": "https://localhost:8080/"
        },
        "id": "MAyPzAIRRZkQ",
        "outputId": "13cc3da1-c5f3-4d34-b9b6-46344d89d2e6"
      },
      "execution_count": 24,
      "outputs": [
        {
          "output_type": "execute_result",
          "data": {
            "text/plain": [
              "(569, 30)"
            ]
          },
          "metadata": {},
          "execution_count": 24
        }
      ]
    },
    {
      "cell_type": "code",
      "source": [
        "# 'target'\n",
        "data.target"
      ],
      "metadata": {
        "colab": {
          "base_uri": "https://localhost:8080/"
        },
        "id": "k5q5-SbqSz3G",
        "outputId": "0e57e932-c8ff-44bf-ccb0-a6857ab3723a"
      },
      "execution_count": 25,
      "outputs": [
        {
          "output_type": "execute_result",
          "data": {
            "text/plain": [
              "array([0, 0, 0, 0, 0, 0, 0, 0, 0, 0, 0, 0, 0, 0, 0, 0, 0, 0, 0, 1, 1, 1,\n",
              "       0, 0, 0, 0, 0, 0, 0, 0, 0, 0, 0, 0, 0, 0, 0, 1, 0, 0, 0, 0, 0, 0,\n",
              "       0, 0, 1, 0, 1, 1, 1, 1, 1, 0, 0, 1, 0, 0, 1, 1, 1, 1, 0, 1, 0, 0,\n",
              "       1, 1, 1, 1, 0, 1, 0, 0, 1, 0, 1, 0, 0, 1, 1, 1, 0, 0, 1, 0, 0, 0,\n",
              "       1, 1, 1, 0, 1, 1, 0, 0, 1, 1, 1, 0, 0, 1, 1, 1, 1, 0, 1, 1, 0, 1,\n",
              "       1, 1, 1, 1, 1, 1, 1, 0, 0, 0, 1, 0, 0, 1, 1, 1, 0, 0, 1, 0, 1, 0,\n",
              "       0, 1, 0, 0, 1, 1, 0, 1, 1, 0, 1, 1, 1, 1, 0, 1, 1, 1, 1, 1, 1, 1,\n",
              "       1, 1, 0, 1, 1, 1, 1, 0, 0, 1, 0, 1, 1, 0, 0, 1, 1, 0, 0, 1, 1, 1,\n",
              "       1, 0, 1, 1, 0, 0, 0, 1, 0, 1, 0, 1, 1, 1, 0, 1, 1, 0, 0, 1, 0, 0,\n",
              "       0, 0, 1, 0, 0, 0, 1, 0, 1, 0, 1, 1, 0, 1, 0, 0, 0, 0, 1, 1, 0, 0,\n",
              "       1, 1, 1, 0, 1, 1, 1, 1, 1, 0, 0, 1, 1, 0, 1, 1, 0, 0, 1, 0, 1, 1,\n",
              "       1, 1, 0, 1, 1, 1, 1, 1, 0, 1, 0, 0, 0, 0, 0, 0, 0, 0, 0, 0, 0, 0,\n",
              "       0, 0, 1, 1, 1, 1, 1, 1, 0, 1, 0, 1, 1, 0, 1, 1, 0, 1, 0, 0, 1, 1,\n",
              "       1, 1, 1, 1, 1, 1, 1, 1, 1, 1, 1, 0, 1, 1, 0, 1, 0, 1, 1, 1, 1, 1,\n",
              "       1, 1, 1, 1, 1, 1, 1, 1, 1, 0, 1, 1, 1, 0, 1, 0, 1, 1, 1, 1, 0, 0,\n",
              "       0, 1, 1, 1, 1, 0, 1, 0, 1, 0, 1, 1, 1, 0, 1, 1, 1, 1, 1, 1, 1, 0,\n",
              "       0, 0, 1, 1, 1, 1, 1, 1, 1, 1, 1, 1, 1, 0, 0, 1, 0, 0, 0, 1, 0, 0,\n",
              "       1, 1, 1, 1, 1, 0, 1, 1, 1, 1, 1, 0, 1, 1, 1, 0, 1, 1, 0, 0, 1, 1,\n",
              "       1, 1, 1, 1, 0, 1, 1, 1, 1, 1, 1, 1, 0, 1, 1, 1, 1, 1, 0, 1, 1, 0,\n",
              "       1, 1, 1, 1, 1, 1, 1, 1, 1, 1, 1, 1, 0, 1, 0, 0, 1, 0, 1, 1, 1, 1,\n",
              "       1, 0, 1, 1, 0, 1, 0, 1, 1, 0, 1, 0, 1, 1, 1, 1, 1, 1, 1, 1, 0, 0,\n",
              "       1, 1, 1, 1, 1, 1, 0, 1, 1, 1, 1, 1, 1, 1, 1, 1, 1, 0, 1, 1, 1, 1,\n",
              "       1, 1, 1, 0, 1, 0, 1, 1, 0, 1, 1, 1, 1, 1, 0, 0, 1, 0, 1, 0, 1, 1,\n",
              "       1, 1, 1, 0, 1, 1, 0, 1, 0, 1, 0, 0, 1, 1, 1, 0, 1, 1, 1, 1, 1, 1,\n",
              "       1, 1, 1, 1, 1, 0, 1, 0, 0, 1, 1, 1, 1, 1, 1, 1, 1, 1, 1, 1, 1, 1,\n",
              "       1, 1, 1, 1, 1, 1, 1, 1, 1, 1, 1, 1, 0, 0, 0, 0, 0, 0, 1])"
            ]
          },
          "metadata": {},
          "execution_count": 25
        }
      ]
    },
    {
      "cell_type": "code",
      "source": [
        "# their meaning\n",
        "data.target_names"
      ],
      "metadata": {
        "colab": {
          "base_uri": "https://localhost:8080/"
        },
        "id": "0iBDJkeMTBn3",
        "outputId": "3a1d0d93-3859-40ae-f4cc-e9c50fdd326f"
      },
      "execution_count": 26,
      "outputs": [
        {
          "output_type": "execute_result",
          "data": {
            "text/plain": [
              "array(['malignant', 'benign'], dtype='<U9')"
            ]
          },
          "metadata": {},
          "execution_count": 26
        }
      ]
    },
    {
      "cell_type": "code",
      "source": [
        "# There are also 569 corresponding targets\n",
        "data.target.shape"
      ],
      "metadata": {
        "colab": {
          "base_uri": "https://localhost:8080/"
        },
        "id": "WdWTVmaMTNH4",
        "outputId": "10a5a887-1660-4bfd-874a-bdbb324cf33a"
      },
      "execution_count": 27,
      "outputs": [
        {
          "output_type": "execute_result",
          "data": {
            "text/plain": [
              "(569,)"
            ]
          },
          "metadata": {},
          "execution_count": 27
        }
      ]
    },
    {
      "cell_type": "code",
      "source": [
        "# you can also deterine the meaning of each feature\n",
        "data.feature_names"
      ],
      "metadata": {
        "colab": {
          "base_uri": "https://localhost:8080/"
        },
        "id": "9tO729_dTZFJ",
        "outputId": "f7f6f699-87f5-4794-91aa-7118d9aee66b"
      },
      "execution_count": 28,
      "outputs": [
        {
          "output_type": "execute_result",
          "data": {
            "text/plain": [
              "array(['mean radius', 'mean texture', 'mean perimeter', 'mean area',\n",
              "       'mean smoothness', 'mean compactness', 'mean concavity',\n",
              "       'mean concave points', 'mean symmetry', 'mean fractal dimension',\n",
              "       'radius error', 'texture error', 'perimeter error', 'area error',\n",
              "       'smoothness error', 'compactness error', 'concavity error',\n",
              "       'concave points error', 'symmetry error',\n",
              "       'fractal dimension error', 'worst radius', 'worst texture',\n",
              "       'worst perimeter', 'worst area', 'worst smoothness',\n",
              "       'worst compactness', 'worst concavity', 'worst concave points',\n",
              "       'worst symmetry', 'worst fractal dimension'], dtype='<U23')"
            ]
          },
          "metadata": {},
          "execution_count": 28
        }
      ]
    },
    {
      "cell_type": "code",
      "source": [
        "# Split the data into train and test sets\n",
        "# This lets us simulate how our model will perform in the future\n",
        "X_train, X_test, y_train, y_test = train_test_split(data.data, data.target, test_size= 0.33)\n",
        "N, D = X_train.shape"
      ],
      "metadata": {
        "id": "1cuB9Wq0TvlQ"
      },
      "execution_count": 29,
      "outputs": []
    },
    {
      "cell_type": "code",
      "source": [
        "# Scale the data\n",
        "\n",
        "scaler = StandardScaler()\n",
        "X_train = scaler.fit_transform(X_train)\n",
        "X_test = scaler.fit_transform(X_test)"
      ],
      "metadata": {
        "id": "Gkwg_h4FWrdS"
      },
      "execution_count": 30,
      "outputs": []
    },
    {
      "cell_type": "code",
      "source": [
        "#Build the model\n",
        "\n",
        "model = tf.keras.models.Sequential([\n",
        "    tf.keras.layers.Input(shape=(D,)),\n",
        "    tf.keras.layers.Dense(1, activation = 'sigmoid')\n",
        "])\n",
        "\n",
        "# Alternatively, you can do:\n",
        "# model = tf.keras.models.Sequential()\n",
        "# model.add(tf.keras.layers.Dense(1, input_shape=(D,), activation = 'sigmoid')\n",
        "\n",
        "model.compile(optimizer= 'adam',\n",
        "              loss = 'binary_crossentropy',\n",
        "              metrics = ['accuracy'])\n",
        "\n",
        "# Train the model\n",
        "r = model.fit(X_train, y_train, validation_data =(X_test, y_test), epochs=100)\n",
        "\n",
        "# Evaluate the model - evalute() return loss and accuracy\n",
        "print(\"Train score:\", model.evaluate(X_train, y_train))\n",
        "print(\"Test score:\", model.evaluate(X_test, y_test))"
      ],
      "metadata": {
        "colab": {
          "base_uri": "https://localhost:8080/"
        },
        "id": "uOQOEjh3bLxH",
        "outputId": "0be9a673-c06a-499e-b15d-32f6a8f527f6"
      },
      "execution_count": 31,
      "outputs": [
        {
          "output_type": "stream",
          "name": "stdout",
          "text": [
            "Epoch 1/100\n",
            "12/12 [==============================] - 1s 16ms/step - loss: 0.3511 - accuracy: 0.8976 - val_loss: 0.3443 - val_accuracy: 0.8670\n",
            "Epoch 2/100\n",
            "12/12 [==============================] - 0s 8ms/step - loss: 0.3246 - accuracy: 0.9186 - val_loss: 0.3179 - val_accuracy: 0.8830\n",
            "Epoch 3/100\n",
            "12/12 [==============================] - 0s 6ms/step - loss: 0.3028 - accuracy: 0.9213 - val_loss: 0.2957 - val_accuracy: 0.9149\n",
            "Epoch 4/100\n",
            "12/12 [==============================] - 0s 8ms/step - loss: 0.2842 - accuracy: 0.9265 - val_loss: 0.2772 - val_accuracy: 0.9255\n",
            "Epoch 5/100\n",
            "12/12 [==============================] - 0s 8ms/step - loss: 0.2690 - accuracy: 0.9318 - val_loss: 0.2610 - val_accuracy: 0.9362\n",
            "Epoch 6/100\n",
            "12/12 [==============================] - 0s 6ms/step - loss: 0.2558 - accuracy: 0.9344 - val_loss: 0.2469 - val_accuracy: 0.9415\n",
            "Epoch 7/100\n",
            "12/12 [==============================] - 0s 5ms/step - loss: 0.2443 - accuracy: 0.9396 - val_loss: 0.2346 - val_accuracy: 0.9415\n",
            "Epoch 8/100\n",
            "12/12 [==============================] - 0s 7ms/step - loss: 0.2345 - accuracy: 0.9396 - val_loss: 0.2234 - val_accuracy: 0.9468\n",
            "Epoch 9/100\n",
            "12/12 [==============================] - 0s 6ms/step - loss: 0.2257 - accuracy: 0.9396 - val_loss: 0.2138 - val_accuracy: 0.9521\n",
            "Epoch 10/100\n",
            "12/12 [==============================] - 0s 5ms/step - loss: 0.2177 - accuracy: 0.9396 - val_loss: 0.2053 - val_accuracy: 0.9521\n",
            "Epoch 11/100\n",
            "12/12 [==============================] - 0s 5ms/step - loss: 0.2106 - accuracy: 0.9449 - val_loss: 0.1972 - val_accuracy: 0.9521\n",
            "Epoch 12/100\n",
            "12/12 [==============================] - 0s 6ms/step - loss: 0.2041 - accuracy: 0.9423 - val_loss: 0.1900 - val_accuracy: 0.9521\n",
            "Epoch 13/100\n",
            "12/12 [==============================] - 0s 5ms/step - loss: 0.1983 - accuracy: 0.9449 - val_loss: 0.1835 - val_accuracy: 0.9521\n",
            "Epoch 14/100\n",
            "12/12 [==============================] - 0s 5ms/step - loss: 0.1930 - accuracy: 0.9449 - val_loss: 0.1772 - val_accuracy: 0.9521\n",
            "Epoch 15/100\n",
            "12/12 [==============================] - 0s 6ms/step - loss: 0.1879 - accuracy: 0.9475 - val_loss: 0.1719 - val_accuracy: 0.9521\n",
            "Epoch 16/100\n",
            "12/12 [==============================] - 0s 10ms/step - loss: 0.1834 - accuracy: 0.9475 - val_loss: 0.1666 - val_accuracy: 0.9521\n",
            "Epoch 17/100\n",
            "12/12 [==============================] - 0s 7ms/step - loss: 0.1791 - accuracy: 0.9501 - val_loss: 0.1619 - val_accuracy: 0.9574\n",
            "Epoch 18/100\n",
            "12/12 [==============================] - 0s 7ms/step - loss: 0.1750 - accuracy: 0.9501 - val_loss: 0.1574 - val_accuracy: 0.9574\n",
            "Epoch 19/100\n",
            "12/12 [==============================] - 0s 5ms/step - loss: 0.1714 - accuracy: 0.9501 - val_loss: 0.1530 - val_accuracy: 0.9574\n",
            "Epoch 20/100\n",
            "12/12 [==============================] - 0s 6ms/step - loss: 0.1679 - accuracy: 0.9554 - val_loss: 0.1491 - val_accuracy: 0.9574\n",
            "Epoch 21/100\n",
            "12/12 [==============================] - 0s 5ms/step - loss: 0.1647 - accuracy: 0.9554 - val_loss: 0.1454 - val_accuracy: 0.9574\n",
            "Epoch 22/100\n",
            "12/12 [==============================] - 0s 15ms/step - loss: 0.1615 - accuracy: 0.9554 - val_loss: 0.1419 - val_accuracy: 0.9574\n",
            "Epoch 23/100\n",
            "12/12 [==============================] - 0s 11ms/step - loss: 0.1584 - accuracy: 0.9554 - val_loss: 0.1387 - val_accuracy: 0.9574\n",
            "Epoch 24/100\n",
            "12/12 [==============================] - 0s 6ms/step - loss: 0.1557 - accuracy: 0.9554 - val_loss: 0.1355 - val_accuracy: 0.9574\n",
            "Epoch 25/100\n",
            "12/12 [==============================] - 0s 6ms/step - loss: 0.1531 - accuracy: 0.9554 - val_loss: 0.1325 - val_accuracy: 0.9574\n",
            "Epoch 26/100\n",
            "12/12 [==============================] - 0s 5ms/step - loss: 0.1508 - accuracy: 0.9554 - val_loss: 0.1296 - val_accuracy: 0.9574\n",
            "Epoch 27/100\n",
            "12/12 [==============================] - 0s 8ms/step - loss: 0.1483 - accuracy: 0.9580 - val_loss: 0.1267 - val_accuracy: 0.9574\n",
            "Epoch 28/100\n",
            "12/12 [==============================] - 0s 9ms/step - loss: 0.1460 - accuracy: 0.9580 - val_loss: 0.1242 - val_accuracy: 0.9574\n",
            "Epoch 29/100\n",
            "12/12 [==============================] - 0s 16ms/step - loss: 0.1438 - accuracy: 0.9580 - val_loss: 0.1218 - val_accuracy: 0.9628\n",
            "Epoch 30/100\n",
            "12/12 [==============================] - 0s 10ms/step - loss: 0.1419 - accuracy: 0.9580 - val_loss: 0.1194 - val_accuracy: 0.9628\n",
            "Epoch 31/100\n",
            "12/12 [==============================] - 0s 8ms/step - loss: 0.1398 - accuracy: 0.9580 - val_loss: 0.1171 - val_accuracy: 0.9628\n",
            "Epoch 32/100\n",
            "12/12 [==============================] - 0s 8ms/step - loss: 0.1379 - accuracy: 0.9606 - val_loss: 0.1150 - val_accuracy: 0.9628\n",
            "Epoch 33/100\n",
            "12/12 [==============================] - 0s 10ms/step - loss: 0.1361 - accuracy: 0.9606 - val_loss: 0.1131 - val_accuracy: 0.9628\n",
            "Epoch 34/100\n",
            "12/12 [==============================] - 0s 16ms/step - loss: 0.1345 - accuracy: 0.9606 - val_loss: 0.1110 - val_accuracy: 0.9628\n",
            "Epoch 35/100\n",
            "12/12 [==============================] - 0s 10ms/step - loss: 0.1328 - accuracy: 0.9606 - val_loss: 0.1091 - val_accuracy: 0.9681\n",
            "Epoch 36/100\n",
            "12/12 [==============================] - 0s 9ms/step - loss: 0.1312 - accuracy: 0.9606 - val_loss: 0.1071 - val_accuracy: 0.9681\n",
            "Epoch 37/100\n",
            "12/12 [==============================] - 0s 14ms/step - loss: 0.1296 - accuracy: 0.9633 - val_loss: 0.1054 - val_accuracy: 0.9681\n",
            "Epoch 38/100\n",
            "12/12 [==============================] - 0s 9ms/step - loss: 0.1282 - accuracy: 0.9633 - val_loss: 0.1038 - val_accuracy: 0.9681\n",
            "Epoch 39/100\n",
            "12/12 [==============================] - 0s 7ms/step - loss: 0.1270 - accuracy: 0.9580 - val_loss: 0.1022 - val_accuracy: 0.9681\n",
            "Epoch 40/100\n",
            "12/12 [==============================] - 0s 12ms/step - loss: 0.1255 - accuracy: 0.9606 - val_loss: 0.1006 - val_accuracy: 0.9681\n",
            "Epoch 41/100\n",
            "12/12 [==============================] - 0s 12ms/step - loss: 0.1245 - accuracy: 0.9606 - val_loss: 0.0992 - val_accuracy: 0.9681\n",
            "Epoch 42/100\n",
            "12/12 [==============================] - 0s 9ms/step - loss: 0.1231 - accuracy: 0.9606 - val_loss: 0.0976 - val_accuracy: 0.9681\n",
            "Epoch 43/100\n",
            "12/12 [==============================] - 0s 11ms/step - loss: 0.1219 - accuracy: 0.9580 - val_loss: 0.0962 - val_accuracy: 0.9681\n",
            "Epoch 44/100\n",
            "12/12 [==============================] - 0s 8ms/step - loss: 0.1207 - accuracy: 0.9633 - val_loss: 0.0948 - val_accuracy: 0.9681\n",
            "Epoch 45/100\n",
            "12/12 [==============================] - 0s 16ms/step - loss: 0.1196 - accuracy: 0.9633 - val_loss: 0.0935 - val_accuracy: 0.9681\n",
            "Epoch 46/100\n",
            "12/12 [==============================] - 0s 7ms/step - loss: 0.1186 - accuracy: 0.9633 - val_loss: 0.0922 - val_accuracy: 0.9681\n",
            "Epoch 47/100\n",
            "12/12 [==============================] - 0s 11ms/step - loss: 0.1176 - accuracy: 0.9606 - val_loss: 0.0911 - val_accuracy: 0.9681\n",
            "Epoch 48/100\n",
            "12/12 [==============================] - 0s 12ms/step - loss: 0.1166 - accuracy: 0.9606 - val_loss: 0.0898 - val_accuracy: 0.9734\n",
            "Epoch 49/100\n",
            "12/12 [==============================] - 0s 11ms/step - loss: 0.1156 - accuracy: 0.9633 - val_loss: 0.0887 - val_accuracy: 0.9787\n",
            "Epoch 50/100\n",
            "12/12 [==============================] - 0s 8ms/step - loss: 0.1148 - accuracy: 0.9659 - val_loss: 0.0875 - val_accuracy: 0.9787\n",
            "Epoch 51/100\n",
            "12/12 [==============================] - 0s 10ms/step - loss: 0.1139 - accuracy: 0.9659 - val_loss: 0.0865 - val_accuracy: 0.9840\n",
            "Epoch 52/100\n",
            "12/12 [==============================] - 0s 12ms/step - loss: 0.1130 - accuracy: 0.9685 - val_loss: 0.0854 - val_accuracy: 0.9840\n",
            "Epoch 53/100\n",
            "12/12 [==============================] - 0s 11ms/step - loss: 0.1123 - accuracy: 0.9685 - val_loss: 0.0844 - val_accuracy: 0.9840\n",
            "Epoch 54/100\n",
            "12/12 [==============================] - 0s 8ms/step - loss: 0.1115 - accuracy: 0.9711 - val_loss: 0.0834 - val_accuracy: 0.9840\n",
            "Epoch 55/100\n",
            "12/12 [==============================] - 0s 9ms/step - loss: 0.1107 - accuracy: 0.9711 - val_loss: 0.0824 - val_accuracy: 0.9840\n",
            "Epoch 56/100\n",
            "12/12 [==============================] - 0s 9ms/step - loss: 0.1100 - accuracy: 0.9685 - val_loss: 0.0816 - val_accuracy: 0.9840\n",
            "Epoch 57/100\n",
            "12/12 [==============================] - 0s 12ms/step - loss: 0.1094 - accuracy: 0.9685 - val_loss: 0.0806 - val_accuracy: 0.9840\n",
            "Epoch 58/100\n",
            "12/12 [==============================] - 0s 7ms/step - loss: 0.1086 - accuracy: 0.9711 - val_loss: 0.0797 - val_accuracy: 0.9840\n",
            "Epoch 59/100\n",
            "12/12 [==============================] - 0s 7ms/step - loss: 0.1079 - accuracy: 0.9711 - val_loss: 0.0788 - val_accuracy: 0.9840\n",
            "Epoch 60/100\n",
            "12/12 [==============================] - 0s 13ms/step - loss: 0.1072 - accuracy: 0.9711 - val_loss: 0.0780 - val_accuracy: 0.9840\n",
            "Epoch 61/100\n",
            "12/12 [==============================] - 0s 12ms/step - loss: 0.1066 - accuracy: 0.9738 - val_loss: 0.0772 - val_accuracy: 0.9840\n",
            "Epoch 62/100\n",
            "12/12 [==============================] - 0s 7ms/step - loss: 0.1061 - accuracy: 0.9738 - val_loss: 0.0764 - val_accuracy: 0.9840\n",
            "Epoch 63/100\n",
            "12/12 [==============================] - 0s 7ms/step - loss: 0.1054 - accuracy: 0.9738 - val_loss: 0.0757 - val_accuracy: 0.9840\n",
            "Epoch 64/100\n",
            "12/12 [==============================] - 0s 20ms/step - loss: 0.1049 - accuracy: 0.9738 - val_loss: 0.0750 - val_accuracy: 0.9840\n",
            "Epoch 65/100\n",
            "12/12 [==============================] - 0s 12ms/step - loss: 0.1044 - accuracy: 0.9738 - val_loss: 0.0742 - val_accuracy: 0.9840\n",
            "Epoch 66/100\n",
            "12/12 [==============================] - 0s 7ms/step - loss: 0.1038 - accuracy: 0.9738 - val_loss: 0.0736 - val_accuracy: 0.9840\n",
            "Epoch 67/100\n",
            "12/12 [==============================] - 0s 12ms/step - loss: 0.1033 - accuracy: 0.9738 - val_loss: 0.0728 - val_accuracy: 0.9840\n",
            "Epoch 68/100\n",
            "12/12 [==============================] - 0s 12ms/step - loss: 0.1028 - accuracy: 0.9738 - val_loss: 0.0722 - val_accuracy: 0.9840\n",
            "Epoch 69/100\n",
            "12/12 [==============================] - 0s 10ms/step - loss: 0.1023 - accuracy: 0.9764 - val_loss: 0.0716 - val_accuracy: 0.9840\n",
            "Epoch 70/100\n",
            "12/12 [==============================] - 0s 8ms/step - loss: 0.1018 - accuracy: 0.9764 - val_loss: 0.0709 - val_accuracy: 0.9840\n",
            "Epoch 71/100\n",
            "12/12 [==============================] - 0s 8ms/step - loss: 0.1014 - accuracy: 0.9764 - val_loss: 0.0702 - val_accuracy: 0.9840\n",
            "Epoch 72/100\n",
            "12/12 [==============================] - 0s 8ms/step - loss: 0.1009 - accuracy: 0.9764 - val_loss: 0.0696 - val_accuracy: 0.9840\n",
            "Epoch 73/100\n",
            "12/12 [==============================] - 0s 15ms/step - loss: 0.1004 - accuracy: 0.9764 - val_loss: 0.0690 - val_accuracy: 0.9840\n",
            "Epoch 74/100\n",
            "12/12 [==============================] - 0s 28ms/step - loss: 0.1000 - accuracy: 0.9764 - val_loss: 0.0684 - val_accuracy: 0.9894\n",
            "Epoch 75/100\n",
            "12/12 [==============================] - 0s 14ms/step - loss: 0.0996 - accuracy: 0.9764 - val_loss: 0.0678 - val_accuracy: 0.9894\n",
            "Epoch 76/100\n",
            "12/12 [==============================] - 0s 13ms/step - loss: 0.0991 - accuracy: 0.9764 - val_loss: 0.0673 - val_accuracy: 0.9894\n",
            "Epoch 77/100\n",
            "12/12 [==============================] - 0s 12ms/step - loss: 0.0988 - accuracy: 0.9764 - val_loss: 0.0668 - val_accuracy: 0.9894\n",
            "Epoch 78/100\n",
            "12/12 [==============================] - 0s 16ms/step - loss: 0.0984 - accuracy: 0.9764 - val_loss: 0.0663 - val_accuracy: 0.9894\n",
            "Epoch 79/100\n",
            "12/12 [==============================] - 0s 13ms/step - loss: 0.0980 - accuracy: 0.9764 - val_loss: 0.0658 - val_accuracy: 0.9894\n",
            "Epoch 80/100\n",
            "12/12 [==============================] - 0s 15ms/step - loss: 0.0976 - accuracy: 0.9764 - val_loss: 0.0652 - val_accuracy: 0.9894\n",
            "Epoch 81/100\n",
            "12/12 [==============================] - 0s 9ms/step - loss: 0.0972 - accuracy: 0.9764 - val_loss: 0.0648 - val_accuracy: 0.9894\n",
            "Epoch 82/100\n",
            "12/12 [==============================] - 0s 11ms/step - loss: 0.0969 - accuracy: 0.9764 - val_loss: 0.0642 - val_accuracy: 0.9894\n",
            "Epoch 83/100\n",
            "12/12 [==============================] - 0s 14ms/step - loss: 0.0965 - accuracy: 0.9764 - val_loss: 0.0638 - val_accuracy: 0.9894\n",
            "Epoch 84/100\n",
            "12/12 [==============================] - 0s 12ms/step - loss: 0.0962 - accuracy: 0.9764 - val_loss: 0.0634 - val_accuracy: 0.9894\n",
            "Epoch 85/100\n",
            "12/12 [==============================] - 0s 11ms/step - loss: 0.0958 - accuracy: 0.9764 - val_loss: 0.0628 - val_accuracy: 0.9894\n",
            "Epoch 86/100\n",
            "12/12 [==============================] - 0s 12ms/step - loss: 0.0955 - accuracy: 0.9764 - val_loss: 0.0623 - val_accuracy: 0.9894\n",
            "Epoch 87/100\n",
            "12/12 [==============================] - 0s 11ms/step - loss: 0.0952 - accuracy: 0.9764 - val_loss: 0.0619 - val_accuracy: 0.9894\n",
            "Epoch 88/100\n",
            "12/12 [==============================] - 0s 9ms/step - loss: 0.0949 - accuracy: 0.9764 - val_loss: 0.0615 - val_accuracy: 0.9894\n",
            "Epoch 89/100\n",
            "12/12 [==============================] - 0s 12ms/step - loss: 0.0946 - accuracy: 0.9764 - val_loss: 0.0611 - val_accuracy: 0.9894\n",
            "Epoch 90/100\n",
            "12/12 [==============================] - 0s 10ms/step - loss: 0.0942 - accuracy: 0.9764 - val_loss: 0.0607 - val_accuracy: 0.9894\n",
            "Epoch 91/100\n",
            "12/12 [==============================] - 0s 19ms/step - loss: 0.0939 - accuracy: 0.9764 - val_loss: 0.0602 - val_accuracy: 0.9894\n",
            "Epoch 92/100\n",
            "12/12 [==============================] - 0s 10ms/step - loss: 0.0937 - accuracy: 0.9764 - val_loss: 0.0599 - val_accuracy: 0.9894\n",
            "Epoch 93/100\n",
            "12/12 [==============================] - 0s 12ms/step - loss: 0.0934 - accuracy: 0.9764 - val_loss: 0.0594 - val_accuracy: 0.9894\n",
            "Epoch 94/100\n",
            "12/12 [==============================] - 0s 10ms/step - loss: 0.0931 - accuracy: 0.9764 - val_loss: 0.0591 - val_accuracy: 0.9894\n",
            "Epoch 95/100\n",
            "12/12 [==============================] - 0s 14ms/step - loss: 0.0928 - accuracy: 0.9764 - val_loss: 0.0586 - val_accuracy: 0.9894\n",
            "Epoch 96/100\n",
            "12/12 [==============================] - 0s 10ms/step - loss: 0.0926 - accuracy: 0.9764 - val_loss: 0.0583 - val_accuracy: 0.9894\n",
            "Epoch 97/100\n",
            "12/12 [==============================] - 0s 18ms/step - loss: 0.0923 - accuracy: 0.9764 - val_loss: 0.0580 - val_accuracy: 0.9894\n",
            "Epoch 98/100\n",
            "12/12 [==============================] - 0s 15ms/step - loss: 0.0920 - accuracy: 0.9764 - val_loss: 0.0575 - val_accuracy: 0.9894\n",
            "Epoch 99/100\n",
            "12/12 [==============================] - 0s 8ms/step - loss: 0.0917 - accuracy: 0.9764 - val_loss: 0.0572 - val_accuracy: 0.9894\n",
            "Epoch 100/100\n",
            "12/12 [==============================] - 0s 9ms/step - loss: 0.0915 - accuracy: 0.9764 - val_loss: 0.0569 - val_accuracy: 0.9894\n",
            "12/12 [==============================] - 0s 2ms/step - loss: 0.0913 - accuracy: 0.9764\n",
            "Train score: [0.09132608771324158, 0.9763779640197754]\n",
            "6/6 [==============================] - 0s 3ms/step - loss: 0.0569 - accuracy: 0.9894\n",
            "Test score: [0.056877251714468, 0.9893617033958435]\n"
          ]
        }
      ]
    },
    {
      "cell_type": "code",
      "source": [
        "# Plot what's returned by model.fit()\n",
        "plt.plot(r.history['loss'], label='loss')\n",
        "plt.plot(r.history['val_loss'], label='val_loss')\n",
        "plt.legend()"
      ],
      "metadata": {
        "colab": {
          "base_uri": "https://localhost:8080/",
          "height": 283
        },
        "id": "CG7K_UFah66q",
        "outputId": "8ba12731-5cf4-40a2-fd8c-8d96896b5dd7"
      },
      "execution_count": 32,
      "outputs": [
        {
          "output_type": "execute_result",
          "data": {
            "text/plain": [
              "<matplotlib.legend.Legend at 0x7f69d8573fa0>"
            ]
          },
          "metadata": {},
          "execution_count": 32
        },
        {
          "output_type": "display_data",
          "data": {
            "text/plain": [
              "<Figure size 432x288 with 1 Axes>"
            ],
            "image/png": "[encoded data removed]"
          },
          "metadata": {
            "needs_background": "light"
          }
        }
      ]
    },
    {
      "cell_type": "code",
      "source": [
        "# Plot the accuracy too\n",
        "plt.plot(r.history['accuracy'], label='acc')\n",
        "plt.plot(r.history['val_accuracy'], label='val_acc')\n",
        "plt.legend()"
      ],
      "metadata": {
        "colab": {
          "base_uri": "https://localhost:8080/",
          "height": 283
        },
        "id": "XekXzpRmihX4",
        "outputId": "ba743f84-e7e4-4df5-92cb-1ecdaac0391e"
      },
      "execution_count": 33,
      "outputs": [
        {
          "output_type": "execute_result",
          "data": {
            "text/plain": [
              "<matplotlib.legend.Legend at 0x7f69d853db50>"
            ]
          },
          "metadata": {},
          "execution_count": 33
        },
        {
          "output_type": "display_data",
          "data": {
            "text/plain": [
              "<Figure size 432x288 with 1 Axes>"
            ],
            "image/png": "[encoded data removed]"
          },
          "metadata": {
            "needs_background": "light"
          }
        }
      ]
    },
    {
      "cell_type": "code",
      "source": [
        "# Make predictions\n",
        "P = model.predict(X_test)\n",
        "print(P) # They are outputs of the sigmoid, interpreted as probabilities p(y = 1 | x)"
      ],
      "metadata": {
        "id": "_oHGUXV5SvMY",
        "outputId": "3c0c6722-ed3d-4fa6-aa7a-8704da2d8d52",
        "colab": {
          "base_uri": "https://localhost:8080/"
        }
      },
      "execution_count": 34,
      "outputs": [
        {
          "output_type": "stream",
          "name": "stdout",
          "text": [
            "6/6 [==============================] - 0s 3ms/step\n",
            "[[4.5362165e-05]\n",
            " [9.7706348e-01]\n",
            " [9.9445671e-01]\n",
            " [9.9918997e-01]\n",
            " [9.7981745e-01]\n",
            " [9.9790281e-01]\n",
            " [9.9483025e-01]\n",
            " [5.8218125e-06]\n",
            " [8.9811057e-01]\n",
            " [1.2007492e-01]\n",
            " [7.6434773e-04]\n",
            " [6.7603844e-01]\n",
            " [9.6325386e-01]\n",
            " [7.8163438e-08]\n",
            " [9.9886870e-01]\n",
            " [1.1159191e-07]\n",
            " [9.9891424e-01]\n",
            " [9.2354417e-01]\n",
            " [9.9937814e-01]\n",
            " [9.9516022e-01]\n",
            " [9.9303615e-01]\n",
            " [9.9698877e-01]\n",
            " [9.9909949e-01]\n",
            " [9.9576169e-01]\n",
            " [8.5931045e-01]\n",
            " [9.9918675e-01]\n",
            " [3.8856236e-04]\n",
            " [9.7104502e-01]\n",
            " [9.9807698e-01]\n",
            " [1.0640542e-03]\n",
            " [9.9051827e-01]\n",
            " [9.9961579e-01]\n",
            " [9.9604779e-01]\n",
            " [6.7516335e-04]\n",
            " [7.1223688e-01]\n",
            " [1.3466705e-07]\n",
            " [9.9710631e-01]\n",
            " [9.9980038e-01]\n",
            " [9.9887472e-01]\n",
            " [1.1003678e-04]\n",
            " [9.9774003e-01]\n",
            " [2.0840483e-04]\n",
            " [5.6092602e-01]\n",
            " [9.9760514e-01]\n",
            " [9.9987483e-01]\n",
            " [6.3680005e-01]\n",
            " [8.5561771e-07]\n",
            " [7.4742604e-03]\n",
            " [9.9902576e-01]\n",
            " [1.4025970e-02]\n",
            " [2.6900776e-02]\n",
            " [9.9967712e-01]\n",
            " [9.9994385e-01]\n",
            " [8.7290828e-15]\n",
            " [4.7525842e-02]\n",
            " [5.9499975e-02]\n",
            " [9.9962848e-01]\n",
            " [9.7669232e-01]\n",
            " [3.5044082e-02]\n",
            " [4.3083423e-01]\n",
            " [9.0019107e-01]\n",
            " [9.8937023e-01]\n",
            " [9.6854520e-01]\n",
            " [9.7096610e-01]\n",
            " [3.1977869e-04]\n",
            " [4.4309581e-05]\n",
            " [9.9933666e-01]\n",
            " [9.9493051e-01]\n",
            " [9.9925727e-01]\n",
            " [9.9634045e-01]\n",
            " [3.7880796e-05]\n",
            " [2.8432410e-03]\n",
            " [9.9430299e-01]\n",
            " [9.9990177e-01]\n",
            " [9.7331339e-01]\n",
            " [9.9707198e-01]\n",
            " [7.2463749e-06]\n",
            " [9.7716939e-01]\n",
            " [9.6740115e-01]\n",
            " [9.8911923e-01]\n",
            " [1.4911624e-02]\n",
            " [5.9771478e-01]\n",
            " [9.9933863e-01]\n",
            " [8.6676484e-01]\n",
            " [8.7563509e-01]\n",
            " [9.5509255e-01]\n",
            " [9.9662626e-01]\n",
            " [1.1992016e-04]\n",
            " [7.3914917e-04]\n",
            " [9.9953175e-01]\n",
            " [9.8452199e-01]\n",
            " [9.2114633e-01]\n",
            " [9.9882108e-01]\n",
            " [9.9736530e-01]\n",
            " [9.9931747e-01]\n",
            " [2.5843441e-01]\n",
            " [9.8769486e-01]\n",
            " [9.9508506e-01]\n",
            " [1.6884935e-05]\n",
            " [9.9978846e-01]\n",
            " [1.3622040e-02]\n",
            " [8.9532530e-01]\n",
            " [9.5344788e-01]\n",
            " [9.9981678e-01]\n",
            " [9.5266891e-01]\n",
            " [3.2455458e-03]\n",
            " [9.9775046e-01]\n",
            " [9.5365936e-01]\n",
            " [9.9688566e-01]\n",
            " [9.2537147e-01]\n",
            " [6.7728049e-01]\n",
            " [2.1845275e-04]\n",
            " [9.7489977e-01]\n",
            " [9.9794418e-01]\n",
            " [9.9252963e-01]\n",
            " [9.9739671e-01]\n",
            " [1.1407151e-03]\n",
            " [9.8824626e-01]\n",
            " [9.9951953e-01]\n",
            " [9.9502283e-01]\n",
            " [9.9244523e-01]\n",
            " [2.3707181e-01]\n",
            " [9.1217689e-02]\n",
            " [9.1964060e-01]\n",
            " [2.5026747e-08]\n",
            " [9.9072152e-01]\n",
            " [8.6819971e-01]\n",
            " [1.2853708e-04]\n",
            " [9.9314648e-01]\n",
            " [8.9200646e-01]\n",
            " [9.9991322e-01]\n",
            " [1.3730081e-04]\n",
            " [9.8536092e-01]\n",
            " [9.7655147e-01]\n",
            " [9.9112839e-01]\n",
            " [3.5426870e-03]\n",
            " [9.4411373e-01]\n",
            " [8.1918687e-01]\n",
            " [9.9809033e-01]\n",
            " [1.0679180e-03]\n",
            " [3.3505574e-02]\n",
            " [9.4858281e-02]\n",
            " [1.2377540e-02]\n",
            " [9.9996167e-01]\n",
            " [2.1314923e-08]\n",
            " [1.6256287e-03]\n",
            " [9.9737155e-01]\n",
            " [9.9860984e-01]\n",
            " [5.3658067e-07]\n",
            " [9.9579209e-01]\n",
            " [5.9222121e-04]\n",
            " [7.4721812e-03]\n",
            " [9.9498433e-01]\n",
            " [6.4187121e-01]\n",
            " [9.9871343e-01]\n",
            " [7.0074856e-02]\n",
            " [5.0615773e-07]\n",
            " [9.9932253e-01]\n",
            " [3.9809484e-02]\n",
            " [5.2328348e-02]\n",
            " [9.9433780e-01]\n",
            " [9.9853599e-01]\n",
            " [9.7106308e-01]\n",
            " [1.8753336e-01]\n",
            " [9.7343040e-01]\n",
            " [1.3989577e-08]\n",
            " [3.1981847e-01]\n",
            " [9.9946326e-01]\n",
            " [6.2332938e-06]\n",
            " [9.9207920e-01]\n",
            " [9.3595512e-02]\n",
            " [9.9949175e-01]\n",
            " [7.1830934e-01]\n",
            " [9.9901867e-01]\n",
            " [9.9869466e-01]\n",
            " [1.2799554e-02]\n",
            " [9.2803115e-01]\n",
            " [1.1813348e-01]\n",
            " [9.9749488e-01]\n",
            " [5.3344492e-04]\n",
            " [1.7535782e-01]\n",
            " [5.9224289e-02]\n",
            " [1.3201620e-03]\n",
            " [1.7747309e-02]\n",
            " [3.5813864e-04]\n",
            " [1.2670273e-05]\n",
            " [9.6813631e-01]\n",
            " [5.2783795e-02]]\n"
          ]
        }
      ]
    },
    {
      "cell_type": "code",
      "source": [
        "# Round to get the actual predictions\n",
        "# Note: has to be flattened since the target are size (N,) while the presictions are size (N,1)\n",
        "P = np.round(P).flatten()\n",
        "print(P)"
      ],
      "metadata": {
        "id": "WJ0uqYUcTajX",
        "outputId": "9c595a5a-81c3-4f40-9cca-f2141fcc8061",
        "colab": {
          "base_uri": "https://localhost:8080/"
        }
      },
      "execution_count": 35,
      "outputs": [
        {
          "output_type": "stream",
          "name": "stdout",
          "text": [
            "[0. 1. 1. 1. 1. 1. 1. 0. 1. 0. 0. 1. 1. 0. 1. 0. 1. 1. 1. 1. 1. 1. 1. 1.\n",
            " 1. 1. 0. 1. 1. 0. 1. 1. 1. 0. 1. 0. 1. 1. 1. 0. 1. 0. 1. 1. 1. 1. 0. 0.\n",
            " 1. 0. 0. 1. 1. 0. 0. 0. 1. 1. 0. 0. 1. 1. 1. 1. 0. 0. 1. 1. 1. 1. 0. 0.\n",
            " 1. 1. 1. 1. 0. 1. 1. 1. 0. 1. 1. 1. 1. 1. 1. 0. 0. 1. 1. 1. 1. 1. 1. 0.\n",
            " 1. 1. 0. 1. 0. 1. 1. 1. 1. 0. 1. 1. 1. 1. 1. 0. 1. 1. 1. 1. 0. 1. 1. 1.\n",
            " 1. 0. 0. 1. 0. 1. 1. 0. 1. 1. 1. 0. 1. 1. 1. 0. 1. 1. 1. 0. 0. 0. 0. 1.\n",
            " 0. 0. 1. 1. 0. 1. 0. 0. 1. 1. 1. 0. 0. 1. 0. 0. 1. 1. 1. 0. 1. 0. 0. 1.\n",
            " 0. 1. 0. 1. 1. 1. 1. 0. 1. 0. 1. 0. 0. 0. 0. 0. 0. 0. 1. 0.]\n"
          ]
        }
      ]
    },
    {
      "cell_type": "code",
      "source": [
        "# Calculate the accuracy, compare it to evaluate() output\n",
        "print(\"Manually calculated accuracy: \", np.mean(P == y_test))\n",
        "print(\"Evaluate output: \", model.evaluate(X_test, y_test))"
      ],
      "metadata": {
        "id": "2AL6H0acT63d",
        "outputId": "d58321df-6b35-4845-f0a0-44f88ba5e6e8",
        "colab": {
          "base_uri": "https://localhost:8080/"
        }
      },
      "execution_count": 36,
      "outputs": [
        {
          "output_type": "stream",
          "name": "stdout",
          "text": [
            "Manually calculated accuracy:  0.9893617021276596\n",
            "6/6 [==============================] - 0s 3ms/step - loss: 0.0569 - accuracy: 0.9894\n",
            "Evaluate output:  [0.056877251714468, 0.9893617033958435]\n"
          ]
        }
      ]
    },
    {
      "cell_type": "code",
      "source": [
        "# Let's now save our model to a file\n",
        "model.save('linearclassifier.h5')"
      ],
      "metadata": {
        "id": "h76EaG0lbeLY"
      },
      "execution_count": 37,
      "outputs": []
    },
    {
      "cell_type": "code",
      "source": [
        "# Check that the model file exists\n",
        "!ls -1h"
      ],
      "metadata": {
        "id": "DR9_7lXGbkHo",
        "outputId": "cf19a043-f4c4-4764-def1-62a6fa1dad85",
        "colab": {
          "base_uri": "https://localhost:8080/"
        }
      },
      "execution_count": 38,
      "outputs": [
        {
          "output_type": "stream",
          "name": "stdout",
          "text": [
            "linearclassifier.h5\n",
            "sample_data\n"
          ]
        }
      ]
    },
    {
      "cell_type": "code",
      "source": [
        "# Let's load the model and confirm that it still works\n",
        "model = tf.keras.models.load_model('linearclassifier.h5')\n",
        "print(model.layers)\n",
        "model.evaluate(X_test, y_test)"
      ],
      "metadata": {
        "id": "cCx9mqJybm3n",
        "outputId": "18a86d9d-e385-49a3-8109-46f5d8bfc74a",
        "colab": {
          "base_uri": "https://localhost:8080/"
        }
      },
      "execution_count": 39,
      "outputs": [
        {
          "output_type": "stream",
          "name": "stdout",
          "text": [
            "[<keras.layers.core.dense.Dense object at 0x7f69d85433a0>]\n",
            "6/6 [==============================] - 0s 2ms/step - loss: 0.0569 - accuracy: 0.9894\n"
          ]
        },
        {
          "output_type": "execute_result",
          "data": {
            "text/plain": [
              "[0.056877251714468, 0.9893617033958435]"
            ]
          },
          "metadata": {},
          "execution_count": 39
        }
      ]
    }
  ]
}
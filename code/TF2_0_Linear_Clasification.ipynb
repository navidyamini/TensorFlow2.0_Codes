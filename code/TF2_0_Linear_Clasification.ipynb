{
  "nbformat": 4,
  "nbformat_minor": 0,
  "metadata": {
    "colab": {
      "provenance": [],
      "authorship_tag": "ABX9TyN+hC/EshanGGyTVH2DwAt2",
      "include_colab_link": true
    },
    "kernelspec": {
      "name": "python3",
      "display_name": "Python 3"
    },
    "language_info": {
      "name": "python"
    }
  },
  "cells": [
    {
      "cell_type": "markdown",
      "metadata": {
        "id": "view-in-github",
        "colab_type": "text"
      },
      "source": [
        "<a href=\"https://colab.research.google.com/github/navidyamini/TensorFlow2.0_Codes/blob/main/code/TF2_0_Linear_Clasification.ipynb\" target=\"_parent\"><img src=\"https://colab.research.google.com/assets/colab-badge.svg\" alt=\"Open In Colab\"/></a>"
      ]
    },
    {
      "cell_type": "code",
      "execution_count": 1,
      "metadata": {
        "id": "sylKis8QKCrX",
        "colab": {
          "base_uri": "https://localhost:8080/"
        },
        "outputId": "d2c7ea76-caca-49d4-a547-48439ceaa7e4"
      },
      "outputs": [
        {
          "output_type": "stream",
          "name": "stdout",
          "text": [
            "2.9.2\n"
          ]
        }
      ],
      "source": [
        "import tensorflow as tf\n",
        "print(tf.__version__) "
      ]
    },
    {
      "cell_type": "code",
      "source": [
        "# Load in the data\n",
        "from sklearn.datasets import load_breast_cancer\n",
        "from sklearn.model_selection import train_test_split\n",
        "from sklearn.preprocessing import StandardScaler\n",
        "import numpy as np\n",
        "import matplotlib.pyplot as plt"
      ],
      "metadata": {
        "id": "hzBaSjMEPRQv"
      },
      "execution_count": 2,
      "outputs": []
    },
    {
      "cell_type": "code",
      "source": [
        "# Load in data\n",
        "data = load_breast_cancer()"
      ],
      "metadata": {
        "id": "oFaMgGp8QsDc"
      },
      "execution_count": 3,
      "outputs": []
    },
    {
      "cell_type": "code",
      "source": [
        "# Check the type of data\n",
        "type(data)"
      ],
      "metadata": {
        "colab": {
          "base_uri": "https://localhost:8080/"
        },
        "id": "8o8l7nuPQ5Xx",
        "outputId": "071602d0-cb24-4210-92ab-b3ab1c272314"
      },
      "execution_count": 4,
      "outputs": [
        {
          "output_type": "execute_result",
          "data": {
            "text/plain": [
              "sklearn.utils.Bunch"
            ]
          },
          "metadata": {},
          "execution_count": 4
        }
      ]
    },
    {
      "cell_type": "code",
      "source": [
        "# IT is a Bunch object\n",
        "# this basicaly acts like a dictionary where you can reat the keays like attributes\n",
        "data.keys()"
      ],
      "metadata": {
        "colab": {
          "base_uri": "https://localhost:8080/"
        },
        "id": "Se-dMkkxRGvb",
        "outputId": "82e24dd9-26b9-4970-8d12-b70991da471f"
      },
      "execution_count": 5,
      "outputs": [
        {
          "output_type": "execute_result",
          "data": {
            "text/plain": [
              "dict_keys(['data', 'target', 'frame', 'target_names', 'DESCR', 'feature_names', 'filename', 'data_module'])"
            ]
          },
          "metadata": {},
          "execution_count": 5
        }
      ]
    },
    {
      "cell_type": "code",
      "source": [
        "# 'data' the attribute means the input data\n",
        "data.data.shape"
      ],
      "metadata": {
        "colab": {
          "base_uri": "https://localhost:8080/"
        },
        "id": "MAyPzAIRRZkQ",
        "outputId": "a9f85ede-e7a5-4619-8f3b-c10c1c44af0f"
      },
      "execution_count": 6,
      "outputs": [
        {
          "output_type": "execute_result",
          "data": {
            "text/plain": [
              "(569, 30)"
            ]
          },
          "metadata": {},
          "execution_count": 6
        }
      ]
    },
    {
      "cell_type": "code",
      "source": [
        "# 'target'\n",
        "data.target"
      ],
      "metadata": {
        "colab": {
          "base_uri": "https://localhost:8080/"
        },
        "id": "k5q5-SbqSz3G",
        "outputId": "21b5aab6-9ac8-467f-863f-978bcd01b3dd"
      },
      "execution_count": 7,
      "outputs": [
        {
          "output_type": "execute_result",
          "data": {
            "text/plain": [
              "array([0, 0, 0, 0, 0, 0, 0, 0, 0, 0, 0, 0, 0, 0, 0, 0, 0, 0, 0, 1, 1, 1,\n",
              "       0, 0, 0, 0, 0, 0, 0, 0, 0, 0, 0, 0, 0, 0, 0, 1, 0, 0, 0, 0, 0, 0,\n",
              "       0, 0, 1, 0, 1, 1, 1, 1, 1, 0, 0, 1, 0, 0, 1, 1, 1, 1, 0, 1, 0, 0,\n",
              "       1, 1, 1, 1, 0, 1, 0, 0, 1, 0, 1, 0, 0, 1, 1, 1, 0, 0, 1, 0, 0, 0,\n",
              "       1, 1, 1, 0, 1, 1, 0, 0, 1, 1, 1, 0, 0, 1, 1, 1, 1, 0, 1, 1, 0, 1,\n",
              "       1, 1, 1, 1, 1, 1, 1, 0, 0, 0, 1, 0, 0, 1, 1, 1, 0, 0, 1, 0, 1, 0,\n",
              "       0, 1, 0, 0, 1, 1, 0, 1, 1, 0, 1, 1, 1, 1, 0, 1, 1, 1, 1, 1, 1, 1,\n",
              "       1, 1, 0, 1, 1, 1, 1, 0, 0, 1, 0, 1, 1, 0, 0, 1, 1, 0, 0, 1, 1, 1,\n",
              "       1, 0, 1, 1, 0, 0, 0, 1, 0, 1, 0, 1, 1, 1, 0, 1, 1, 0, 0, 1, 0, 0,\n",
              "       0, 0, 1, 0, 0, 0, 1, 0, 1, 0, 1, 1, 0, 1, 0, 0, 0, 0, 1, 1, 0, 0,\n",
              "       1, 1, 1, 0, 1, 1, 1, 1, 1, 0, 0, 1, 1, 0, 1, 1, 0, 0, 1, 0, 1, 1,\n",
              "       1, 1, 0, 1, 1, 1, 1, 1, 0, 1, 0, 0, 0, 0, 0, 0, 0, 0, 0, 0, 0, 0,\n",
              "       0, 0, 1, 1, 1, 1, 1, 1, 0, 1, 0, 1, 1, 0, 1, 1, 0, 1, 0, 0, 1, 1,\n",
              "       1, 1, 1, 1, 1, 1, 1, 1, 1, 1, 1, 0, 1, 1, 0, 1, 0, 1, 1, 1, 1, 1,\n",
              "       1, 1, 1, 1, 1, 1, 1, 1, 1, 0, 1, 1, 1, 0, 1, 0, 1, 1, 1, 1, 0, 0,\n",
              "       0, 1, 1, 1, 1, 0, 1, 0, 1, 0, 1, 1, 1, 0, 1, 1, 1, 1, 1, 1, 1, 0,\n",
              "       0, 0, 1, 1, 1, 1, 1, 1, 1, 1, 1, 1, 1, 0, 0, 1, 0, 0, 0, 1, 0, 0,\n",
              "       1, 1, 1, 1, 1, 0, 1, 1, 1, 1, 1, 0, 1, 1, 1, 0, 1, 1, 0, 0, 1, 1,\n",
              "       1, 1, 1, 1, 0, 1, 1, 1, 1, 1, 1, 1, 0, 1, 1, 1, 1, 1, 0, 1, 1, 0,\n",
              "       1, 1, 1, 1, 1, 1, 1, 1, 1, 1, 1, 1, 0, 1, 0, 0, 1, 0, 1, 1, 1, 1,\n",
              "       1, 0, 1, 1, 0, 1, 0, 1, 1, 0, 1, 0, 1, 1, 1, 1, 1, 1, 1, 1, 0, 0,\n",
              "       1, 1, 1, 1, 1, 1, 0, 1, 1, 1, 1, 1, 1, 1, 1, 1, 1, 0, 1, 1, 1, 1,\n",
              "       1, 1, 1, 0, 1, 0, 1, 1, 0, 1, 1, 1, 1, 1, 0, 0, 1, 0, 1, 0, 1, 1,\n",
              "       1, 1, 1, 0, 1, 1, 0, 1, 0, 1, 0, 0, 1, 1, 1, 0, 1, 1, 1, 1, 1, 1,\n",
              "       1, 1, 1, 1, 1, 0, 1, 0, 0, 1, 1, 1, 1, 1, 1, 1, 1, 1, 1, 1, 1, 1,\n",
              "       1, 1, 1, 1, 1, 1, 1, 1, 1, 1, 1, 1, 0, 0, 0, 0, 0, 0, 1])"
            ]
          },
          "metadata": {},
          "execution_count": 7
        }
      ]
    },
    {
      "cell_type": "code",
      "source": [
        "# their meaning\n",
        "data.target_names"
      ],
      "metadata": {
        "colab": {
          "base_uri": "https://localhost:8080/"
        },
        "id": "0iBDJkeMTBn3",
        "outputId": "9f641e30-cb75-415c-bb5e-86e2d1a2f4a5"
      },
      "execution_count": 8,
      "outputs": [
        {
          "output_type": "execute_result",
          "data": {
            "text/plain": [
              "array(['malignant', 'benign'], dtype='<U9')"
            ]
          },
          "metadata": {},
          "execution_count": 8
        }
      ]
    },
    {
      "cell_type": "code",
      "source": [
        "# There are also 569 corresponding targets\n",
        "data.target.shape"
      ],
      "metadata": {
        "colab": {
          "base_uri": "https://localhost:8080/"
        },
        "id": "WdWTVmaMTNH4",
        "outputId": "c0652f0f-91bf-4721-9df7-cc79b70935c5"
      },
      "execution_count": 9,
      "outputs": [
        {
          "output_type": "execute_result",
          "data": {
            "text/plain": [
              "(569,)"
            ]
          },
          "metadata": {},
          "execution_count": 9
        }
      ]
    },
    {
      "cell_type": "code",
      "source": [
        "# you can also deterine the meaning of each feature\n",
        "data.feature_names"
      ],
      "metadata": {
        "colab": {
          "base_uri": "https://localhost:8080/"
        },
        "id": "9tO729_dTZFJ",
        "outputId": "bb964826-036d-459b-8013-2615861207e5"
      },
      "execution_count": 10,
      "outputs": [
        {
          "output_type": "execute_result",
          "data": {
            "text/plain": [
              "array(['mean radius', 'mean texture', 'mean perimeter', 'mean area',\n",
              "       'mean smoothness', 'mean compactness', 'mean concavity',\n",
              "       'mean concave points', 'mean symmetry', 'mean fractal dimension',\n",
              "       'radius error', 'texture error', 'perimeter error', 'area error',\n",
              "       'smoothness error', 'compactness error', 'concavity error',\n",
              "       'concave points error', 'symmetry error',\n",
              "       'fractal dimension error', 'worst radius', 'worst texture',\n",
              "       'worst perimeter', 'worst area', 'worst smoothness',\n",
              "       'worst compactness', 'worst concavity', 'worst concave points',\n",
              "       'worst symmetry', 'worst fractal dimension'], dtype='<U23')"
            ]
          },
          "metadata": {},
          "execution_count": 10
        }
      ]
    },
    {
      "cell_type": "code",
      "source": [
        "# Split the data into train and test sets\n",
        "# This lets us simulate how our model will perform in the future\n",
        "X_train, X_test, y_train, y_test = train_test_split(data.data, data.target, test_size= 0.33)\n",
        "N, D = X_train.shape"
      ],
      "metadata": {
        "id": "1cuB9Wq0TvlQ"
      },
      "execution_count": 11,
      "outputs": []
    },
    {
      "cell_type": "code",
      "source": [
        "# Scale the data\n",
        "\n",
        "scaler = StandardScaler()\n",
        "X_train = scaler.fit_transform(X_train)\n",
        "X_test = scaler.fit_transform(X_test)"
      ],
      "metadata": {
        "id": "Gkwg_h4FWrdS"
      },
      "execution_count": 12,
      "outputs": []
    },
    {
      "cell_type": "code",
      "source": [
        "#Build the model\n",
        "\n",
        "model = tf.keras.models.Sequential([\n",
        "    tf.keras.layers.Input(shape=(D,)),\n",
        "    tf.keras.layers.Dense(1, activation = 'sigmoid')\n",
        "])\n",
        "\n",
        "# Alternatively, you can do:\n",
        "# model = tf.keras.models.Sequential()\n",
        "# model.add(tf.keras.layers.Dense(1, input_shape=(D,), activation = 'sigmoid')\n",
        "\n",
        "model.compile(optimizer= 'adam',\n",
        "              loss = 'binary_crossentropy',\n",
        "              metrics = ['accuracy'])\n",
        "\n",
        "# Train the model\n",
        "r = model.fit(X_train, y_train, validation_data =(X_test, y_test), epochs=100)\n",
        "\n",
        "# Evaluate the model - evalute() return loss and accuracy\n",
        "print(\"Train score:\", model.evaluate(X_train, y_train))\n",
        "print(\"Test score:\", model.evaluate(X_test, y_test))"
      ],
      "metadata": {
        "colab": {
          "base_uri": "https://localhost:8080/"
        },
        "id": "uOQOEjh3bLxH",
        "outputId": "623bf226-14ef-4413-e8cc-cb9a5eeabd96"
      },
      "execution_count": 13,
      "outputs": [
        {
          "output_type": "stream",
          "name": "stdout",
          "text": [
            "Epoch 1/100\n",
            "12/12 [==============================] - 1s 44ms/step - loss: 1.1944 - accuracy: 0.2178 - val_loss: 1.1322 - val_accuracy: 0.3085\n",
            "Epoch 2/100\n",
            "12/12 [==============================] - 0s 10ms/step - loss: 1.0959 - accuracy: 0.2782 - val_loss: 1.0365 - val_accuracy: 0.3670\n",
            "Epoch 3/100\n",
            "12/12 [==============================] - 0s 12ms/step - loss: 1.0048 - accuracy: 0.3412 - val_loss: 0.9504 - val_accuracy: 0.4255\n",
            "Epoch 4/100\n",
            "12/12 [==============================] - 0s 14ms/step - loss: 0.9223 - accuracy: 0.4173 - val_loss: 0.8739 - val_accuracy: 0.4840\n",
            "Epoch 5/100\n",
            "12/12 [==============================] - 0s 12ms/step - loss: 0.8475 - accuracy: 0.4882 - val_loss: 0.8076 - val_accuracy: 0.5479\n",
            "Epoch 6/100\n",
            "12/12 [==============================] - 0s 11ms/step - loss: 0.7827 - accuracy: 0.5381 - val_loss: 0.7481 - val_accuracy: 0.5904\n",
            "Epoch 7/100\n",
            "12/12 [==============================] - 0s 8ms/step - loss: 0.7261 - accuracy: 0.5774 - val_loss: 0.6948 - val_accuracy: 0.6543\n",
            "Epoch 8/100\n",
            "12/12 [==============================] - 0s 15ms/step - loss: 0.6745 - accuracy: 0.6220 - val_loss: 0.6488 - val_accuracy: 0.7021\n",
            "Epoch 9/100\n",
            "12/12 [==============================] - 0s 12ms/step - loss: 0.6298 - accuracy: 0.6850 - val_loss: 0.6086 - val_accuracy: 0.7234\n",
            "Epoch 10/100\n",
            "12/12 [==============================] - 0s 8ms/step - loss: 0.5917 - accuracy: 0.7087 - val_loss: 0.5724 - val_accuracy: 0.7394\n",
            "Epoch 11/100\n",
            "12/12 [==============================] - 0s 11ms/step - loss: 0.5574 - accuracy: 0.7375 - val_loss: 0.5405 - val_accuracy: 0.7553\n",
            "Epoch 12/100\n",
            "12/12 [==============================] - 0s 10ms/step - loss: 0.5275 - accuracy: 0.7638 - val_loss: 0.5120 - val_accuracy: 0.7713\n",
            "Epoch 13/100\n",
            "12/12 [==============================] - 0s 14ms/step - loss: 0.5008 - accuracy: 0.7769 - val_loss: 0.4870 - val_accuracy: 0.7979\n",
            "Epoch 14/100\n",
            "12/12 [==============================] - 0s 7ms/step - loss: 0.4774 - accuracy: 0.8058 - val_loss: 0.4646 - val_accuracy: 0.8351\n",
            "Epoch 15/100\n",
            "12/12 [==============================] - 0s 9ms/step - loss: 0.4567 - accuracy: 0.8163 - val_loss: 0.4441 - val_accuracy: 0.8404\n",
            "Epoch 16/100\n",
            "12/12 [==============================] - 0s 7ms/step - loss: 0.4373 - accuracy: 0.8189 - val_loss: 0.4259 - val_accuracy: 0.8404\n",
            "Epoch 17/100\n",
            "12/12 [==============================] - 0s 12ms/step - loss: 0.4203 - accuracy: 0.8373 - val_loss: 0.4092 - val_accuracy: 0.8511\n",
            "Epoch 18/100\n",
            "12/12 [==============================] - 0s 7ms/step - loss: 0.4049 - accuracy: 0.8530 - val_loss: 0.3939 - val_accuracy: 0.8617\n",
            "Epoch 19/100\n",
            "12/12 [==============================] - 0s 8ms/step - loss: 0.3902 - accuracy: 0.8556 - val_loss: 0.3797 - val_accuracy: 0.8670\n",
            "Epoch 20/100\n",
            "12/12 [==============================] - 0s 14ms/step - loss: 0.3771 - accuracy: 0.8661 - val_loss: 0.3667 - val_accuracy: 0.8723\n",
            "Epoch 21/100\n",
            "12/12 [==============================] - 0s 13ms/step - loss: 0.3649 - accuracy: 0.8740 - val_loss: 0.3549 - val_accuracy: 0.8830\n",
            "Epoch 22/100\n",
            "12/12 [==============================] - 0s 12ms/step - loss: 0.3534 - accuracy: 0.8819 - val_loss: 0.3437 - val_accuracy: 0.8883\n",
            "Epoch 23/100\n",
            "12/12 [==============================] - 0s 16ms/step - loss: 0.3428 - accuracy: 0.8898 - val_loss: 0.3337 - val_accuracy: 0.8936\n",
            "Epoch 24/100\n",
            "12/12 [==============================] - 0s 10ms/step - loss: 0.3334 - accuracy: 0.8950 - val_loss: 0.3238 - val_accuracy: 0.8936\n",
            "Epoch 25/100\n",
            "12/12 [==============================] - 0s 15ms/step - loss: 0.3236 - accuracy: 0.9029 - val_loss: 0.3147 - val_accuracy: 0.8936\n",
            "Epoch 26/100\n",
            "12/12 [==============================] - 0s 17ms/step - loss: 0.3148 - accuracy: 0.9029 - val_loss: 0.3062 - val_accuracy: 0.8989\n",
            "Epoch 27/100\n",
            "12/12 [==============================] - 0s 20ms/step - loss: 0.3067 - accuracy: 0.9134 - val_loss: 0.2985 - val_accuracy: 0.8989\n",
            "Epoch 28/100\n",
            "12/12 [==============================] - 0s 9ms/step - loss: 0.2990 - accuracy: 0.9160 - val_loss: 0.2910 - val_accuracy: 0.8989\n",
            "Epoch 29/100\n",
            "12/12 [==============================] - 0s 13ms/step - loss: 0.2916 - accuracy: 0.9186 - val_loss: 0.2840 - val_accuracy: 0.8989\n",
            "Epoch 30/100\n",
            "12/12 [==============================] - 0s 8ms/step - loss: 0.2847 - accuracy: 0.9186 - val_loss: 0.2775 - val_accuracy: 0.8989\n",
            "Epoch 31/100\n",
            "12/12 [==============================] - 0s 9ms/step - loss: 0.2782 - accuracy: 0.9213 - val_loss: 0.2713 - val_accuracy: 0.8989\n",
            "Epoch 32/100\n",
            "12/12 [==============================] - 0s 8ms/step - loss: 0.2719 - accuracy: 0.9239 - val_loss: 0.2653 - val_accuracy: 0.8989\n",
            "Epoch 33/100\n",
            "12/12 [==============================] - 0s 11ms/step - loss: 0.2660 - accuracy: 0.9265 - val_loss: 0.2596 - val_accuracy: 0.9043\n",
            "Epoch 34/100\n",
            "12/12 [==============================] - 0s 7ms/step - loss: 0.2604 - accuracy: 0.9265 - val_loss: 0.2544 - val_accuracy: 0.9043\n",
            "Epoch 35/100\n",
            "12/12 [==============================] - 0s 12ms/step - loss: 0.2549 - accuracy: 0.9265 - val_loss: 0.2491 - val_accuracy: 0.9149\n",
            "Epoch 36/100\n",
            "12/12 [==============================] - 0s 11ms/step - loss: 0.2498 - accuracy: 0.9265 - val_loss: 0.2442 - val_accuracy: 0.9149\n",
            "Epoch 37/100\n",
            "12/12 [==============================] - 0s 14ms/step - loss: 0.2449 - accuracy: 0.9265 - val_loss: 0.2397 - val_accuracy: 0.9149\n",
            "Epoch 38/100\n",
            "12/12 [==============================] - 0s 9ms/step - loss: 0.2403 - accuracy: 0.9265 - val_loss: 0.2352 - val_accuracy: 0.9149\n",
            "Epoch 39/100\n",
            "12/12 [==============================] - 0s 10ms/step - loss: 0.2357 - accuracy: 0.9265 - val_loss: 0.2309 - val_accuracy: 0.9149\n",
            "Epoch 40/100\n",
            "12/12 [==============================] - 0s 9ms/step - loss: 0.2315 - accuracy: 0.9291 - val_loss: 0.2268 - val_accuracy: 0.9149\n",
            "Epoch 41/100\n",
            "12/12 [==============================] - 0s 13ms/step - loss: 0.2273 - accuracy: 0.9291 - val_loss: 0.2228 - val_accuracy: 0.9149\n",
            "Epoch 42/100\n",
            "12/12 [==============================] - 0s 9ms/step - loss: 0.2233 - accuracy: 0.9318 - val_loss: 0.2191 - val_accuracy: 0.9149\n",
            "Epoch 43/100\n",
            "12/12 [==============================] - 0s 13ms/step - loss: 0.2196 - accuracy: 0.9318 - val_loss: 0.2154 - val_accuracy: 0.9149\n",
            "Epoch 44/100\n",
            "12/12 [==============================] - 0s 13ms/step - loss: 0.2160 - accuracy: 0.9370 - val_loss: 0.2120 - val_accuracy: 0.9149\n",
            "Epoch 45/100\n",
            "12/12 [==============================] - 0s 7ms/step - loss: 0.2123 - accuracy: 0.9396 - val_loss: 0.2086 - val_accuracy: 0.9149\n",
            "Epoch 46/100\n",
            "12/12 [==============================] - 0s 11ms/step - loss: 0.2089 - accuracy: 0.9396 - val_loss: 0.2054 - val_accuracy: 0.9202\n",
            "Epoch 47/100\n",
            "12/12 [==============================] - 0s 8ms/step - loss: 0.2059 - accuracy: 0.9396 - val_loss: 0.2022 - val_accuracy: 0.9202\n",
            "Epoch 48/100\n",
            "12/12 [==============================] - 0s 12ms/step - loss: 0.2025 - accuracy: 0.9423 - val_loss: 0.1992 - val_accuracy: 0.9202\n",
            "Epoch 49/100\n",
            "12/12 [==============================] - 0s 10ms/step - loss: 0.1995 - accuracy: 0.9449 - val_loss: 0.1963 - val_accuracy: 0.9202\n",
            "Epoch 50/100\n",
            "12/12 [==============================] - 0s 15ms/step - loss: 0.1966 - accuracy: 0.9475 - val_loss: 0.1936 - val_accuracy: 0.9255\n",
            "Epoch 51/100\n",
            "12/12 [==============================] - 0s 14ms/step - loss: 0.1937 - accuracy: 0.9475 - val_loss: 0.1908 - val_accuracy: 0.9309\n",
            "Epoch 52/100\n",
            "12/12 [==============================] - 0s 8ms/step - loss: 0.1911 - accuracy: 0.9501 - val_loss: 0.1881 - val_accuracy: 0.9362\n",
            "Epoch 53/100\n",
            "12/12 [==============================] - 0s 11ms/step - loss: 0.1884 - accuracy: 0.9501 - val_loss: 0.1857 - val_accuracy: 0.9362\n",
            "Epoch 54/100\n",
            "12/12 [==============================] - 0s 8ms/step - loss: 0.1858 - accuracy: 0.9501 - val_loss: 0.1833 - val_accuracy: 0.9362\n",
            "Epoch 55/100\n",
            "12/12 [==============================] - 0s 15ms/step - loss: 0.1834 - accuracy: 0.9501 - val_loss: 0.1810 - val_accuracy: 0.9362\n",
            "Epoch 56/100\n",
            "12/12 [==============================] - 0s 8ms/step - loss: 0.1810 - accuracy: 0.9501 - val_loss: 0.1788 - val_accuracy: 0.9362\n",
            "Epoch 57/100\n",
            "12/12 [==============================] - 0s 16ms/step - loss: 0.1787 - accuracy: 0.9501 - val_loss: 0.1766 - val_accuracy: 0.9362\n",
            "Epoch 58/100\n",
            "12/12 [==============================] - 0s 12ms/step - loss: 0.1764 - accuracy: 0.9554 - val_loss: 0.1743 - val_accuracy: 0.9415\n",
            "Epoch 59/100\n",
            "12/12 [==============================] - 0s 11ms/step - loss: 0.1743 - accuracy: 0.9554 - val_loss: 0.1722 - val_accuracy: 0.9521\n",
            "Epoch 60/100\n",
            "12/12 [==============================] - 0s 7ms/step - loss: 0.1721 - accuracy: 0.9580 - val_loss: 0.1702 - val_accuracy: 0.9521\n",
            "Epoch 61/100\n",
            "12/12 [==============================] - 0s 7ms/step - loss: 0.1701 - accuracy: 0.9580 - val_loss: 0.1682 - val_accuracy: 0.9521\n",
            "Epoch 62/100\n",
            "12/12 [==============================] - 0s 8ms/step - loss: 0.1681 - accuracy: 0.9580 - val_loss: 0.1665 - val_accuracy: 0.9521\n",
            "Epoch 63/100\n",
            "12/12 [==============================] - 0s 12ms/step - loss: 0.1662 - accuracy: 0.9580 - val_loss: 0.1647 - val_accuracy: 0.9521\n",
            "Epoch 64/100\n",
            "12/12 [==============================] - 0s 16ms/step - loss: 0.1643 - accuracy: 0.9580 - val_loss: 0.1630 - val_accuracy: 0.9521\n",
            "Epoch 65/100\n",
            "12/12 [==============================] - 0s 18ms/step - loss: 0.1625 - accuracy: 0.9580 - val_loss: 0.1613 - val_accuracy: 0.9521\n",
            "Epoch 66/100\n",
            "12/12 [==============================] - 0s 17ms/step - loss: 0.1608 - accuracy: 0.9580 - val_loss: 0.1594 - val_accuracy: 0.9521\n",
            "Epoch 67/100\n",
            "12/12 [==============================] - 0s 9ms/step - loss: 0.1590 - accuracy: 0.9580 - val_loss: 0.1578 - val_accuracy: 0.9521\n",
            "Epoch 68/100\n",
            "12/12 [==============================] - 0s 8ms/step - loss: 0.1574 - accuracy: 0.9580 - val_loss: 0.1563 - val_accuracy: 0.9521\n",
            "Epoch 69/100\n",
            "12/12 [==============================] - 0s 9ms/step - loss: 0.1558 - accuracy: 0.9580 - val_loss: 0.1548 - val_accuracy: 0.9521\n",
            "Epoch 70/100\n",
            "12/12 [==============================] - 0s 7ms/step - loss: 0.1542 - accuracy: 0.9580 - val_loss: 0.1532 - val_accuracy: 0.9574\n",
            "Epoch 71/100\n",
            "12/12 [==============================] - 0s 13ms/step - loss: 0.1527 - accuracy: 0.9580 - val_loss: 0.1517 - val_accuracy: 0.9574\n",
            "Epoch 72/100\n",
            "12/12 [==============================] - 0s 17ms/step - loss: 0.1513 - accuracy: 0.9606 - val_loss: 0.1504 - val_accuracy: 0.9628\n",
            "Epoch 73/100\n",
            "12/12 [==============================] - 0s 12ms/step - loss: 0.1498 - accuracy: 0.9633 - val_loss: 0.1490 - val_accuracy: 0.9628\n",
            "Epoch 74/100\n",
            "12/12 [==============================] - 0s 8ms/step - loss: 0.1484 - accuracy: 0.9633 - val_loss: 0.1477 - val_accuracy: 0.9628\n",
            "Epoch 75/100\n",
            "12/12 [==============================] - 0s 13ms/step - loss: 0.1470 - accuracy: 0.9633 - val_loss: 0.1464 - val_accuracy: 0.9628\n",
            "Epoch 76/100\n",
            "12/12 [==============================] - 0s 12ms/step - loss: 0.1458 - accuracy: 0.9633 - val_loss: 0.1453 - val_accuracy: 0.9628\n",
            "Epoch 77/100\n",
            "12/12 [==============================] - 0s 13ms/step - loss: 0.1445 - accuracy: 0.9633 - val_loss: 0.1439 - val_accuracy: 0.9628\n",
            "Epoch 78/100\n",
            "12/12 [==============================] - 0s 16ms/step - loss: 0.1432 - accuracy: 0.9633 - val_loss: 0.1427 - val_accuracy: 0.9628\n",
            "Epoch 79/100\n",
            "12/12 [==============================] - 0s 11ms/step - loss: 0.1421 - accuracy: 0.9659 - val_loss: 0.1415 - val_accuracy: 0.9628\n",
            "Epoch 80/100\n",
            "12/12 [==============================] - 0s 7ms/step - loss: 0.1408 - accuracy: 0.9659 - val_loss: 0.1404 - val_accuracy: 0.9628\n",
            "Epoch 81/100\n",
            "12/12 [==============================] - 0s 8ms/step - loss: 0.1396 - accuracy: 0.9659 - val_loss: 0.1394 - val_accuracy: 0.9628\n",
            "Epoch 82/100\n",
            "12/12 [==============================] - 0s 12ms/step - loss: 0.1385 - accuracy: 0.9659 - val_loss: 0.1383 - val_accuracy: 0.9628\n",
            "Epoch 83/100\n",
            "12/12 [==============================] - 0s 11ms/step - loss: 0.1374 - accuracy: 0.9659 - val_loss: 0.1371 - val_accuracy: 0.9628\n",
            "Epoch 84/100\n",
            "12/12 [==============================] - 0s 17ms/step - loss: 0.1364 - accuracy: 0.9659 - val_loss: 0.1361 - val_accuracy: 0.9628\n",
            "Epoch 85/100\n",
            "12/12 [==============================] - 0s 10ms/step - loss: 0.1353 - accuracy: 0.9659 - val_loss: 0.1351 - val_accuracy: 0.9628\n",
            "Epoch 86/100\n",
            "12/12 [==============================] - 0s 9ms/step - loss: 0.1343 - accuracy: 0.9659 - val_loss: 0.1340 - val_accuracy: 0.9628\n",
            "Epoch 87/100\n",
            "12/12 [==============================] - 0s 14ms/step - loss: 0.1333 - accuracy: 0.9685 - val_loss: 0.1331 - val_accuracy: 0.9628\n",
            "Epoch 88/100\n",
            "12/12 [==============================] - 0s 7ms/step - loss: 0.1324 - accuracy: 0.9685 - val_loss: 0.1321 - val_accuracy: 0.9628\n",
            "Epoch 89/100\n",
            "12/12 [==============================] - 0s 8ms/step - loss: 0.1314 - accuracy: 0.9685 - val_loss: 0.1313 - val_accuracy: 0.9628\n",
            "Epoch 90/100\n",
            "12/12 [==============================] - 0s 9ms/step - loss: 0.1305 - accuracy: 0.9685 - val_loss: 0.1304 - val_accuracy: 0.9628\n",
            "Epoch 91/100\n",
            "12/12 [==============================] - 0s 8ms/step - loss: 0.1296 - accuracy: 0.9685 - val_loss: 0.1295 - val_accuracy: 0.9628\n",
            "Epoch 92/100\n",
            "12/12 [==============================] - 0s 7ms/step - loss: 0.1287 - accuracy: 0.9685 - val_loss: 0.1287 - val_accuracy: 0.9628\n",
            "Epoch 93/100\n",
            "12/12 [==============================] - 0s 8ms/step - loss: 0.1279 - accuracy: 0.9685 - val_loss: 0.1278 - val_accuracy: 0.9628\n",
            "Epoch 94/100\n",
            "12/12 [==============================] - 0s 17ms/step - loss: 0.1270 - accuracy: 0.9685 - val_loss: 0.1269 - val_accuracy: 0.9628\n",
            "Epoch 95/100\n",
            "12/12 [==============================] - 0s 14ms/step - loss: 0.1262 - accuracy: 0.9685 - val_loss: 0.1262 - val_accuracy: 0.9628\n",
            "Epoch 96/100\n",
            "12/12 [==============================] - 0s 11ms/step - loss: 0.1254 - accuracy: 0.9685 - val_loss: 0.1254 - val_accuracy: 0.9628\n",
            "Epoch 97/100\n",
            "12/12 [==============================] - 0s 11ms/step - loss: 0.1246 - accuracy: 0.9685 - val_loss: 0.1247 - val_accuracy: 0.9628\n",
            "Epoch 98/100\n",
            "12/12 [==============================] - 0s 8ms/step - loss: 0.1239 - accuracy: 0.9685 - val_loss: 0.1239 - val_accuracy: 0.9628\n",
            "Epoch 99/100\n",
            "12/12 [==============================] - 0s 13ms/step - loss: 0.1231 - accuracy: 0.9711 - val_loss: 0.1231 - val_accuracy: 0.9628\n",
            "Epoch 100/100\n",
            "12/12 [==============================] - 0s 9ms/step - loss: 0.1224 - accuracy: 0.9711 - val_loss: 0.1225 - val_accuracy: 0.9628\n",
            "12/12 [==============================] - 0s 2ms/step - loss: 0.1219 - accuracy: 0.9711\n",
            "Train score: [0.12192879617214203, 0.9711285829544067]\n",
            "6/6 [==============================] - 0s 3ms/step - loss: 0.1225 - accuracy: 0.9628\n",
            "Test score: [0.12250333279371262, 0.9627659320831299]\n"
          ]
        }
      ]
    },
    {
      "cell_type": "code",
      "source": [
        "# Plot what's returned by model.fit()\n",
        "plt.plot(r.history['loss'], label='loss')\n",
        "plt.plot(r.history['val_loss'], label='val_loss')\n",
        "plt.legend()"
      ],
      "metadata": {
        "colab": {
          "base_uri": "https://localhost:8080/",
          "height": 283
        },
        "id": "CG7K_UFah66q",
        "outputId": "d44cb3ba-edf0-4cf9-bb13-954dae684bcc"
      },
      "execution_count": 14,
      "outputs": [
        {
          "output_type": "execute_result",
          "data": {
            "text/plain": [
              "<matplotlib.legend.Legend at 0x7f69d8c08f70>"
            ]
          },
          "metadata": {},
          "execution_count": 14
        },
        {
          "output_type": "display_data",
          "data": {
            "text/plain": [
              "<Figure size 432x288 with 1 Axes>"
            ],
            "image/png": "[encoded data removed]"
          },
          "metadata": {
            "needs_background": "light"
          }
        }
      ]
    },
    {
      "cell_type": "code",
      "source": [
        "# Plot the accuracy too\n",
        "plt.plot(r.history['accuracy'], label='acc')\n",
        "plt.plot(r.history['val_accuracy'], label='val_acc')\n",
        "plt.legend()"
      ],
      "metadata": {
        "colab": {
          "base_uri": "https://localhost:8080/",
          "height": 285
        },
        "id": "XekXzpRmihX4",
        "outputId": "ba0fefe3-f56f-44d8-e2d5-fa4275de6a7a"
      },
      "execution_count": 15,
      "outputs": [
        {
          "output_type": "execute_result",
          "data": {
            "text/plain": [
              "<matplotlib.legend.Legend at 0x7f69dd3b4790>"
            ]
          },
          "metadata": {},
          "execution_count": 15
        },
        {
          "output_type": "display_data",
          "data": {
            "text/plain": [
              "<Figure size 432x288 with 1 Axes>"
            ],
            "image/png": "[encoded data removed]"
          },
          "metadata": {
            "needs_background": "light"
          }
        }
      ]
    },
    {
      "cell_type": "code",
      "source": [
        "# Make predictions\n",
        "P = model.predict(X_test)\n",
        "print(P) # They are outputs of the sigmoid, interpreted as probabilities p(y = 1 | x)"
      ],
      "metadata": {
        "id": "_oHGUXV5SvMY",
        "outputId": "2e3aba41-9b5d-45fd-c459-b7494e6fb6c0",
        "colab": {
          "base_uri": "https://localhost:8080/"
        }
      },
      "execution_count": 16,
      "outputs": [
        {
          "output_type": "stream",
          "name": "stdout",
          "text": [
            "6/6 [==============================] - 0s 2ms/step\n",
            "[[9.9051976e-01]\n",
            " [9.9618232e-01]\n",
            " [9.6586400e-01]\n",
            " [2.3483032e-01]\n",
            " [9.7768384e-01]\n",
            " [9.8739517e-01]\n",
            " [6.9311464e-01]\n",
            " [9.7993416e-01]\n",
            " [7.2762209e-01]\n",
            " [9.3259931e-01]\n",
            " [8.0615503e-01]\n",
            " [1.6114021e-02]\n",
            " [9.7792953e-01]\n",
            " [9.8538637e-01]\n",
            " [8.9125234e-01]\n",
            " [4.2000708e-01]\n",
            " [9.4449377e-01]\n",
            " [9.8520577e-01]\n",
            " [9.7641242e-01]\n",
            " [2.0416882e-02]\n",
            " [5.3236371e-01]\n",
            " [1.2978080e-02]\n",
            " [9.9802935e-01]\n",
            " [9.9624848e-01]\n",
            " [2.3124175e-02]\n",
            " [9.8510832e-01]\n",
            " [9.9987686e-01]\n",
            " [3.4749608e-02]\n",
            " [1.8323448e-06]\n",
            " [8.6386895e-01]\n",
            " [6.9004077e-01]\n",
            " [9.2088240e-01]\n",
            " [6.6360131e-02]\n",
            " [9.9670744e-01]\n",
            " [8.2956779e-01]\n",
            " [8.8082904e-01]\n",
            " [9.9602181e-01]\n",
            " [9.3291605e-01]\n",
            " [9.9908429e-01]\n",
            " [8.4282865e-04]\n",
            " [9.9078292e-01]\n",
            " [9.9929696e-01]\n",
            " [6.2564808e-01]\n",
            " [9.9042487e-01]\n",
            " [9.2247778e-01]\n",
            " [9.9644899e-01]\n",
            " [6.8627101e-01]\n",
            " [1.7689322e-01]\n",
            " [9.9513400e-01]\n",
            " [9.9596673e-01]\n",
            " [8.1498265e-01]\n",
            " [2.5658825e-02]\n",
            " [8.2857460e-03]\n",
            " [9.8844326e-01]\n",
            " [8.2145596e-01]\n",
            " [3.6975839e-03]\n",
            " [9.9917918e-01]\n",
            " [1.0814642e-02]\n",
            " [3.3086024e-03]\n",
            " [3.6497745e-01]\n",
            " [4.4594202e-02]\n",
            " [8.9005768e-01]\n",
            " [1.0797364e-01]\n",
            " [9.9007952e-01]\n",
            " [3.4601089e-01]\n",
            " [8.4163749e-01]\n",
            " [1.5977155e-03]\n",
            " [6.2362097e-02]\n",
            " [2.0523565e-02]\n",
            " [9.1782808e-01]\n",
            " [2.7201098e-01]\n",
            " [9.9802995e-01]\n",
            " [9.9365026e-01]\n",
            " [8.8465196e-01]\n",
            " [9.2040217e-01]\n",
            " [9.5024490e-01]\n",
            " [9.8844522e-01]\n",
            " [4.3883684e-01]\n",
            " [9.9856788e-01]\n",
            " [8.1983411e-01]\n",
            " [9.0761238e-01]\n",
            " [9.6723729e-01]\n",
            " [9.7899210e-01]\n",
            " [9.8928285e-01]\n",
            " [4.3431362e-03]\n",
            " [9.9628890e-01]\n",
            " [9.9446023e-01]\n",
            " [9.9242753e-01]\n",
            " [5.6089854e-01]\n",
            " [5.7482284e-02]\n",
            " [1.6601441e-03]\n",
            " [9.4828779e-01]\n",
            " [8.8899517e-01]\n",
            " [9.7614390e-01]\n",
            " [2.4209420e-01]\n",
            " [9.8395985e-01]\n",
            " [9.7623742e-01]\n",
            " [9.7969931e-01]\n",
            " [9.9253428e-01]\n",
            " [9.9624246e-01]\n",
            " [1.3134208e-01]\n",
            " [2.5168171e-03]\n",
            " [2.9926464e-01]\n",
            " [1.3508101e-03]\n",
            " [1.2200659e-02]\n",
            " [6.1735094e-02]\n",
            " [9.9214298e-01]\n",
            " [4.2349264e-01]\n",
            " [8.8274533e-01]\n",
            " [4.8807207e-03]\n",
            " [9.9194336e-01]\n",
            " [6.6788951e-03]\n",
            " [2.5517072e-03]\n",
            " [1.1389121e-02]\n",
            " [9.6883619e-01]\n",
            " [9.9321115e-01]\n",
            " [3.9344093e-01]\n",
            " [9.8285317e-01]\n",
            " [9.3125701e-01]\n",
            " [9.8985213e-01]\n",
            " [4.2256840e-02]\n",
            " [2.1446291e-02]\n",
            " [4.9775826e-05]\n",
            " [9.9693954e-01]\n",
            " [3.7231694e-03]\n",
            " [2.6217499e-01]\n",
            " [8.9974534e-03]\n",
            " [1.5944251e-01]\n",
            " [6.1089773e-02]\n",
            " [9.5727617e-01]\n",
            " [9.6177405e-01]\n",
            " [9.6616995e-01]\n",
            " [6.3163871e-03]\n",
            " [9.1550291e-01]\n",
            " [9.8949724e-01]\n",
            " [8.1587672e-01]\n",
            " [6.0003752e-01]\n",
            " [3.0145008e-02]\n",
            " [9.8344433e-01]\n",
            " [8.4900492e-01]\n",
            " [9.8210275e-01]\n",
            " [9.2973512e-01]\n",
            " [9.9985486e-01]\n",
            " [9.4617563e-01]\n",
            " [9.9503845e-01]\n",
            " [2.9153949e-01]\n",
            " [9.9651152e-01]\n",
            " [4.2884170e-05]\n",
            " [9.8272431e-01]\n",
            " [6.1961327e-06]\n",
            " [1.2432216e-01]\n",
            " [7.2496122e-01]\n",
            " [9.8472512e-01]\n",
            " [9.9364895e-01]\n",
            " [1.1325524e-03]\n",
            " [2.2128856e-01]\n",
            " [1.3298790e-03]\n",
            " [3.9501239e-02]\n",
            " [2.8042959e-03]\n",
            " [7.6642609e-01]\n",
            " [7.8097808e-01]\n",
            " [7.0613692e-06]\n",
            " [1.4602553e-02]\n",
            " [9.3567991e-01]\n",
            " [9.1578660e-04]\n",
            " [2.0331409e-02]\n",
            " [9.8372394e-01]\n",
            " [1.3707568e-03]\n",
            " [7.4859691e-01]\n",
            " [9.9061507e-01]\n",
            " [9.1219217e-01]\n",
            " [9.5723164e-01]\n",
            " [9.9777246e-01]\n",
            " [7.5732401e-05]\n",
            " [9.6939003e-01]\n",
            " [6.5325201e-02]\n",
            " [9.9474865e-01]\n",
            " [9.5683771e-01]\n",
            " [5.9659004e-02]\n",
            " [4.0202893e-02]\n",
            " [9.5919329e-01]\n",
            " [7.4613166e-01]\n",
            " [4.7375046e-04]\n",
            " [1.9085437e-01]\n",
            " [9.4398665e-01]\n",
            " [9.2307287e-01]\n",
            " [9.1265666e-01]\n",
            " [1.7637401e-03]]\n"
          ]
        }
      ]
    },
    {
      "cell_type": "code",
      "source": [
        "# Round to get the actual predictions\n",
        "# Note: has to be flattened since the target are size (N,) while the presictions are size (N,1)\n",
        "P = np.round(P).flatten()\n",
        "print(P)"
      ],
      "metadata": {
        "id": "WJ0uqYUcTajX",
        "outputId": "aa6131fd-5a17-4083-9d36-cf9dc137196a",
        "colab": {
          "base_uri": "https://localhost:8080/"
        }
      },
      "execution_count": 17,
      "outputs": [
        {
          "output_type": "stream",
          "name": "stdout",
          "text": [
            "[1. 1. 1. 0. 1. 1. 1. 1. 1. 1. 1. 0. 1. 1. 1. 0. 1. 1. 1. 0. 1. 0. 1. 1.\n",
            " 0. 1. 1. 0. 0. 1. 1. 1. 0. 1. 1. 1. 1. 1. 1. 0. 1. 1. 1. 1. 1. 1. 1. 0.\n",
            " 1. 1. 1. 0. 0. 1. 1. 0. 1. 0. 0. 0. 0. 1. 0. 1. 0. 1. 0. 0. 0. 1. 0. 1.\n",
            " 1. 1. 1. 1. 1. 0. 1. 1. 1. 1. 1. 1. 0. 1. 1. 1. 1. 0. 0. 1. 1. 1. 0. 1.\n",
            " 1. 1. 1. 1. 0. 0. 0. 0. 0. 0. 1. 0. 1. 0. 1. 0. 0. 0. 1. 1. 0. 1. 1. 1.\n",
            " 0. 0. 0. 1. 0. 0. 0. 0. 0. 1. 1. 1. 0. 1. 1. 1. 1. 0. 1. 1. 1. 1. 1. 1.\n",
            " 1. 0. 1. 0. 1. 0. 0. 1. 1. 1. 0. 0. 0. 0. 0. 1. 1. 0. 0. 1. 0. 0. 1. 0.\n",
            " 1. 1. 1. 1. 1. 0. 1. 0. 1. 1. 0. 0. 1. 1. 0. 0. 1. 1. 1. 0.]\n"
          ]
        }
      ]
    },
    {
      "cell_type": "code",
      "source": [
        "# Calculate the accuracy, compare it to evaluate() output\n",
        "print(\"Manually calculated accuracy: \", np.mean(P == y_test))\n",
        "print(\"Evaluate output: \", model.evaluate(X_test, y_test))"
      ],
      "metadata": {
        "id": "2AL6H0acT63d",
        "outputId": "f2c7d33d-aefa-4254-b5ad-e4354dc909c0",
        "colab": {
          "base_uri": "https://localhost:8080/"
        }
      },
      "execution_count": 18,
      "outputs": [
        {
          "output_type": "stream",
          "name": "stdout",
          "text": [
            "Manually calculated accuracy:  0.9627659574468085\n",
            "6/6 [==============================] - 0s 3ms/step - loss: 0.1225 - accuracy: 0.9628\n",
            "Evaluate output:  [0.12250333279371262, 0.9627659320831299]\n"
          ]
        }
      ]
    }
  ]
}
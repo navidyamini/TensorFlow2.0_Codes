{
  "nbformat": 4,
  "nbformat_minor": 0,
  "metadata": {
    "colab": {
      "provenance": [],
      "authorship_tag": "ABX9TyP1Gj/4IpFRqOyOHFJJlS3c",
      "include_colab_link": true
    },
    "kernelspec": {
      "name": "python3",
      "display_name": "Python 3"
    },
    "language_info": {
      "name": "python"
    },
    "accelerator": "GPU",
    "gpuClass": "standard"
  },
  "cells": [
    {
      "cell_type": "markdown",
      "metadata": {
        "id": "view-in-github",
        "colab_type": "text"
      },
      "source": [
        "<a href=\"https://colab.research.google.com/github/navidyamini/TensorFlow2.0_Codes/blob/main/code/TF2_0_CIFAR_Improved.ipynb\" target=\"_parent\"><img src=\"https://colab.research.google.com/assets/colab-badge.svg\" alt=\"Open In Colab\"/></a>"
      ]
    },
    {
      "cell_type": "code",
      "execution_count": 27,
      "metadata": {
        "id": "H5f7_H8V-boc"
      },
      "outputs": [],
      "source": [
        "import tensorflow as tf"
      ]
    },
    {
      "cell_type": "code",
      "source": [
        "import numpy as np\n",
        "import matplotlib.pyplot as plt\n",
        "from tensorflow.keras.layers import Input, Conv2D, Dense, Flatten, Dropout, GlobalMaxPooling2D, MaxPooling2D, BatchNormalization\n",
        "from tensorflow.keras.models import Model\n",
        "from sklearn.metrics import confusion_matrix\n",
        "import itertools"
      ],
      "metadata": {
        "id": "3IdTNX4J-muV"
      },
      "execution_count": 28,
      "outputs": []
    },
    {
      "cell_type": "code",
      "source": [
        "# Load in the data\n",
        "cifar10 = tf.keras.datasets.cifar10\n",
        "\n",
        "(x_train, y_train), (x_test, y_test) = cifar10.load_data()\n",
        "x_train, x_test, = x_train / 255.0, x_test / 255.0\n",
        "y_train, y_test = y_train.flatten(), y_test.flatten()\n",
        "print(\"X_train.shape:\", x_train.shape)\n",
        "print(\"y_train.shape:\", y_train.shape)"
      ],
      "metadata": {
        "colab": {
          "base_uri": "https://localhost:8080/"
        },
        "id": "fI1Ew-qL_A3N",
        "outputId": "9fae93b0-09a2-48bc-d16f-5a257743f8f3"
      },
      "execution_count": 29,
      "outputs": [
        {
          "output_type": "stream",
          "name": "stdout",
          "text": [
            "X_train.shape: (50000, 32, 32, 3)\n",
            "y_train.shape: (50000,)\n"
          ]
        }
      ]
    },
    {
      "cell_type": "code",
      "source": [
        "# number of classes\n",
        "K = len(set(y_train))\n",
        "print(\"number of classes:\", K)"
      ],
      "metadata": {
        "colab": {
          "base_uri": "https://localhost:8080/"
        },
        "id": "GS4wr7iIAGk4",
        "outputId": "eace62ec-f241-4f49-d5dd-1965293b1261"
      },
      "execution_count": 30,
      "outputs": [
        {
          "output_type": "stream",
          "name": "stdout",
          "text": [
            "number of classes: 10\n"
          ]
        }
      ]
    },
    {
      "cell_type": "code",
      "source": [
        "# Build the model using the functional API\n",
        "i = Input(shape=x_train[0].shape)\n",
        "# x = Conv2D(32, (3,3), strides=2, activation='relu')(i)\n",
        "# x = Conv2D(64, (3,3), strides=2, activation='relu')(x)\n",
        "# x = Conv2D(128, (3,3), strides=2, activation='relu')(x)\n",
        "\n",
        "x = Conv2D(32, (3,3), activation='relu', padding='same')(i)\n",
        "x = BatchNormalization()(x)\n",
        "x = Conv2D(32, (3,3), activation='relu', padding='same')(x)\n",
        "x = BatchNormalization()(x)\n",
        "x = MaxPooling2D((2,2))(x)\n",
        "# x = Dropout(0.22) (x)\n",
        "x = Conv2D(64, (3,3), activation='relu', padding='same')(i)\n",
        "x = BatchNormalization()(x)\n",
        "x = Conv2D(64, (3,3), activation='relu', padding='same')(x)\n",
        "x = BatchNormalization()(x)\n",
        "x = MaxPooling2D((2,2))(x)\n",
        "# x = Dropout(0.2) (x)\n",
        "x = Conv2D(128, (3,3), activation='relu', padding='same')(i)\n",
        "x = BatchNormalization()(x)\n",
        "x = Conv2D(128, (3,3), activation='relu', padding='same')(x)\n",
        "x = BatchNormalization()(x)\n",
        "x = MaxPooling2D((2,2))(x)\n",
        "# x = Dropout(0.2) (x)\n",
        "\n",
        "# x = GlobalMaxPooling2D()(x)\n",
        "x = Flatten()(x)\n",
        "x = Dropout(0.2)(x)\n",
        "x = Dense(1024, activation='relu')(x)\n",
        "x = Dropout(0.2)(x)\n",
        "x = Dense(K, activation='softmax')(x)\n",
        "\n",
        "model = Model(i, x)"
      ],
      "metadata": {
        "id": "BvTRx6FaBt0q"
      },
      "execution_count": 31,
      "outputs": []
    },
    {
      "cell_type": "code",
      "source": [
        "# Compile and fit\n",
        "# Note: make sure you are using the GPU for this!\n",
        "model.compile(optimizer='adam',\n",
        "              loss='sparse_categorical_crossentropy',\n",
        "              metrics=['accuracy'])\n",
        "r = model.fit(x_train, y_train, validation_data=(x_test, y_test), epochs=50)"
      ],
      "metadata": {
        "colab": {
          "base_uri": "https://localhost:8080/"
        },
        "id": "Cyz4PAonB9U7",
        "outputId": "cf1fa812-6ca4-4284-c306-a9c366e2f7a9"
      },
      "execution_count": 32,
      "outputs": [
        {
          "output_type": "stream",
          "name": "stdout",
          "text": [
            "Epoch 1/50\n",
            "1563/1563 [==============================] - 28s 18ms/step - loss: 1.8815 - accuracy: 0.4224 - val_loss: 1.4287 - val_accuracy: 0.4921\n",
            "Epoch 2/50\n",
            "1563/1563 [==============================] - 29s 18ms/step - loss: 1.2531 - accuracy: 0.5567 - val_loss: 1.4885 - val_accuracy: 0.5113\n",
            "Epoch 3/50\n",
            "1563/1563 [==============================] - 27s 17ms/step - loss: 1.0860 - accuracy: 0.6220 - val_loss: 1.0764 - val_accuracy: 0.6340\n",
            "Epoch 4/50\n",
            "1563/1563 [==============================] - 27s 17ms/step - loss: 0.9657 - accuracy: 0.6661 - val_loss: 1.0615 - val_accuracy: 0.6488\n",
            "Epoch 5/50\n",
            "1563/1563 [==============================] - 27s 17ms/step - loss: 0.8697 - accuracy: 0.6977 - val_loss: 1.1868 - val_accuracy: 0.6276\n",
            "Epoch 6/50\n",
            "1563/1563 [==============================] - 30s 19ms/step - loss: 0.7816 - accuracy: 0.7288 - val_loss: 1.2615 - val_accuracy: 0.5977\n",
            "Epoch 7/50\n",
            "1563/1563 [==============================] - 31s 20ms/step - loss: 0.7217 - accuracy: 0.7524 - val_loss: 1.0948 - val_accuracy: 0.6582\n",
            "Epoch 8/50\n",
            "1563/1563 [==============================] - 27s 17ms/step - loss: 0.6529 - accuracy: 0.7741 - val_loss: 0.9905 - val_accuracy: 0.6894\n",
            "Epoch 9/50\n",
            "1563/1563 [==============================] - 27s 17ms/step - loss: 0.6108 - accuracy: 0.7874 - val_loss: 1.0673 - val_accuracy: 0.6850\n",
            "Epoch 10/50\n",
            "1563/1563 [==============================] - 27s 17ms/step - loss: 0.5549 - accuracy: 0.8065 - val_loss: 1.1921 - val_accuracy: 0.6936\n",
            "Epoch 11/50\n",
            "1563/1563 [==============================] - 27s 17ms/step - loss: 0.5304 - accuracy: 0.8162 - val_loss: 1.1366 - val_accuracy: 0.6901\n",
            "Epoch 12/50\n",
            "1563/1563 [==============================] - 27s 17ms/step - loss: 0.4898 - accuracy: 0.8301 - val_loss: 1.0412 - val_accuracy: 0.6971\n",
            "Epoch 13/50\n",
            "1563/1563 [==============================] - 27s 17ms/step - loss: 0.4589 - accuracy: 0.8390 - val_loss: 1.4118 - val_accuracy: 0.6960\n",
            "Epoch 14/50\n",
            "1563/1563 [==============================] - 28s 18ms/step - loss: 0.4250 - accuracy: 0.8511 - val_loss: 1.1601 - val_accuracy: 0.6938\n",
            "Epoch 15/50\n",
            "1563/1563 [==============================] - 27s 17ms/step - loss: 0.4153 - accuracy: 0.8546 - val_loss: 1.0351 - val_accuracy: 0.6905\n",
            "Epoch 16/50\n",
            "1563/1563 [==============================] - 27s 17ms/step - loss: 0.3911 - accuracy: 0.8637 - val_loss: 1.1664 - val_accuracy: 0.6920\n",
            "Epoch 17/50\n",
            "1563/1563 [==============================] - 27s 17ms/step - loss: 0.3767 - accuracy: 0.8697 - val_loss: 1.2332 - val_accuracy: 0.6978\n",
            "Epoch 18/50\n",
            "1563/1563 [==============================] - 27s 17ms/step - loss: 0.3595 - accuracy: 0.8762 - val_loss: 1.0994 - val_accuracy: 0.6979\n",
            "Epoch 19/50\n",
            "1563/1563 [==============================] - 27s 17ms/step - loss: 0.3415 - accuracy: 0.8823 - val_loss: 1.3675 - val_accuracy: 0.7079\n",
            "Epoch 20/50\n",
            "1563/1563 [==============================] - 27s 17ms/step - loss: 0.3324 - accuracy: 0.8870 - val_loss: 1.3726 - val_accuracy: 0.6968\n",
            "Epoch 21/50\n",
            "1563/1563 [==============================] - 27s 17ms/step - loss: 0.3106 - accuracy: 0.8929 - val_loss: 1.2282 - val_accuracy: 0.7135\n",
            "Epoch 22/50\n",
            "1563/1563 [==============================] - 27s 17ms/step - loss: 0.3084 - accuracy: 0.8938 - val_loss: 1.1953 - val_accuracy: 0.6852\n",
            "Epoch 23/50\n",
            "1563/1563 [==============================] - 27s 17ms/step - loss: 0.2920 - accuracy: 0.8997 - val_loss: 1.2880 - val_accuracy: 0.7043\n",
            "Epoch 24/50\n",
            "1563/1563 [==============================] - 27s 17ms/step - loss: 0.2898 - accuracy: 0.9007 - val_loss: 113.9579 - val_accuracy: 0.3119\n",
            "Epoch 25/50\n",
            "1563/1563 [==============================] - 27s 17ms/step - loss: 0.2827 - accuracy: 0.9027 - val_loss: 1.2707 - val_accuracy: 0.7127\n",
            "Epoch 26/50\n",
            "1563/1563 [==============================] - 27s 17ms/step - loss: 0.2736 - accuracy: 0.9061 - val_loss: 1.1884 - val_accuracy: 0.6974\n",
            "Epoch 27/50\n",
            "1563/1563 [==============================] - 27s 17ms/step - loss: 0.2586 - accuracy: 0.9132 - val_loss: 1.3703 - val_accuracy: 0.7159\n",
            "Epoch 28/50\n",
            "1563/1563 [==============================] - 27s 18ms/step - loss: 0.2508 - accuracy: 0.9138 - val_loss: 1.1950 - val_accuracy: 0.7080\n",
            "Epoch 29/50\n",
            "1563/1563 [==============================] - 27s 17ms/step - loss: 0.2481 - accuracy: 0.9139 - val_loss: 1.1428 - val_accuracy: 0.6773\n",
            "Epoch 30/50\n",
            "1563/1563 [==============================] - 27s 17ms/step - loss: 0.2384 - accuracy: 0.9190 - val_loss: 1.2562 - val_accuracy: 0.7191\n",
            "Epoch 31/50\n",
            "1563/1563 [==============================] - 27s 17ms/step - loss: 0.2334 - accuracy: 0.9214 - val_loss: 1.4738 - val_accuracy: 0.7228\n",
            "Epoch 32/50\n",
            "1563/1563 [==============================] - 27s 17ms/step - loss: 0.2354 - accuracy: 0.9216 - val_loss: 1.3369 - val_accuracy: 0.7206\n",
            "Epoch 33/50\n",
            "1563/1563 [==============================] - 27s 17ms/step - loss: 0.2182 - accuracy: 0.9266 - val_loss: 1.1886 - val_accuracy: 0.7093\n",
            "Epoch 34/50\n",
            "1563/1563 [==============================] - 27s 17ms/step - loss: 0.2158 - accuracy: 0.9279 - val_loss: 2.6222 - val_accuracy: 0.7030\n",
            "Epoch 35/50\n",
            "1563/1563 [==============================] - 27s 17ms/step - loss: 0.2097 - accuracy: 0.9268 - val_loss: 1.2996 - val_accuracy: 0.7112\n",
            "Epoch 36/50\n",
            "1563/1563 [==============================] - 27s 17ms/step - loss: 0.2155 - accuracy: 0.9278 - val_loss: 1.2409 - val_accuracy: 0.7113\n",
            "Epoch 37/50\n",
            "1563/1563 [==============================] - 27s 17ms/step - loss: 0.2044 - accuracy: 0.9305 - val_loss: 1.4356 - val_accuracy: 0.7036\n",
            "Epoch 38/50\n",
            "1563/1563 [==============================] - 27s 17ms/step - loss: 0.1975 - accuracy: 0.9336 - val_loss: 1.8962 - val_accuracy: 0.7185\n",
            "Epoch 39/50\n",
            "1563/1563 [==============================] - 27s 17ms/step - loss: 0.1936 - accuracy: 0.9348 - val_loss: 1.5655 - val_accuracy: 0.7232\n",
            "Epoch 40/50\n",
            "1563/1563 [==============================] - 27s 17ms/step - loss: 0.1916 - accuracy: 0.9361 - val_loss: 1.5874 - val_accuracy: 0.7222\n",
            "Epoch 41/50\n",
            "1563/1563 [==============================] - 27s 17ms/step - loss: 0.1801 - accuracy: 0.9392 - val_loss: 1.8291 - val_accuracy: 0.7209\n",
            "Epoch 42/50\n",
            "1563/1563 [==============================] - 27s 17ms/step - loss: 0.1842 - accuracy: 0.9383 - val_loss: 1.8218 - val_accuracy: 0.7298\n",
            "Epoch 43/50\n",
            "1563/1563 [==============================] - 27s 17ms/step - loss: 0.1843 - accuracy: 0.9387 - val_loss: 312.1224 - val_accuracy: 0.2869\n",
            "Epoch 44/50\n",
            "1563/1563 [==============================] - 27s 18ms/step - loss: 0.1764 - accuracy: 0.9403 - val_loss: 1.6241 - val_accuracy: 0.7277\n",
            "Epoch 45/50\n",
            "1563/1563 [==============================] - 27s 17ms/step - loss: 0.1706 - accuracy: 0.9445 - val_loss: 1.9968 - val_accuracy: 0.7304\n",
            "Epoch 46/50\n",
            "1563/1563 [==============================] - 27s 17ms/step - loss: 0.1660 - accuracy: 0.9449 - val_loss: 1.7555 - val_accuracy: 0.7247\n",
            "Epoch 47/50\n",
            "1563/1563 [==============================] - 27s 17ms/step - loss: 0.1750 - accuracy: 0.9433 - val_loss: 1.6937 - val_accuracy: 0.7215\n",
            "Epoch 48/50\n",
            "1563/1563 [==============================] - 27s 17ms/step - loss: 0.1681 - accuracy: 0.9447 - val_loss: 2.6153 - val_accuracy: 0.7266\n",
            "Epoch 49/50\n",
            "1563/1563 [==============================] - 27s 17ms/step - loss: 0.1581 - accuracy: 0.9474 - val_loss: 1.7689 - val_accuracy: 0.7167\n",
            "Epoch 50/50\n",
            "1563/1563 [==============================] - 27s 17ms/step - loss: 0.1571 - accuracy: 0.9473 - val_loss: 1.8533 - val_accuracy: 0.7331\n"
          ]
        }
      ]
    },
    {
      "cell_type": "code",
      "source": [
        "# Fit with data augmentation\n",
        "# Note: if you run this AFTER calling the previous model.fit(), it will CONTINUE training where it left off\n",
        "batch_size = 32\n",
        "data_generator = tf.keras.preprocessing.image.ImageDataGenerator(width_shift_range=0.1, height_shift_range=0.1, horizontal_flip=True)\n",
        "train_generator = data_generator.flow(x_train, y_train, batch_size)\n",
        "steps_per_epoch = x_train.shape[0] // batch_size\n",
        "r = model.fit_generator(train_generator, validation_data=(x_test, y_test), steps_per_epoch=steps_per_epoch,epochs=50)"
      ],
      "metadata": {
        "colab": {
          "base_uri": "https://localhost:8080/"
        },
        "id": "aLgbwnNhOwWH",
        "outputId": "41bcd22e-ca95-4462-c6f0-275f05c08afd"
      },
      "execution_count": 33,
      "outputs": [
        {
          "output_type": "stream",
          "name": "stdout",
          "text": [
            "Epoch 1/50\n"
          ]
        },
        {
          "output_type": "stream",
          "name": "stderr",
          "text": [
            "<ipython-input-33-5fedb80a228d>:7: UserWarning: `Model.fit_generator` is deprecated and will be removed in a future version. Please use `Model.fit`, which supports generators.\n",
            "  r = model.fit_generator(train_generator, validation_data=(x_test, y_test), steps_per_epoch=steps_per_epoch,epochs=50)\n"
          ]
        },
        {
          "output_type": "stream",
          "name": "stdout",
          "text": [
            "1562/1562 [==============================] - 36s 23ms/step - loss: 1.1476 - accuracy: 0.6275 - val_loss: 1.2012 - val_accuracy: 0.6977\n",
            "Epoch 2/50\n",
            "1562/1562 [==============================] - 36s 23ms/step - loss: 0.9522 - accuracy: 0.6793 - val_loss: 0.8142 - val_accuracy: 0.7404\n",
            "Epoch 3/50\n",
            "1562/1562 [==============================] - 37s 24ms/step - loss: 0.9180 - accuracy: 0.6906 - val_loss: 0.8410 - val_accuracy: 0.7256\n",
            "Epoch 4/50\n",
            "1562/1562 [==============================] - 35s 22ms/step - loss: 0.8862 - accuracy: 0.7011 - val_loss: 0.7832 - val_accuracy: 0.7452\n",
            "Epoch 5/50\n",
            "1562/1562 [==============================] - 36s 23ms/step - loss: 0.8553 - accuracy: 0.7137 - val_loss: 0.8791 - val_accuracy: 0.7400\n",
            "Epoch 6/50\n",
            "1562/1562 [==============================] - 35s 23ms/step - loss: 0.8293 - accuracy: 0.7196 - val_loss: 0.8235 - val_accuracy: 0.7581\n",
            "Epoch 7/50\n",
            "1562/1562 [==============================] - 36s 23ms/step - loss: 0.8162 - accuracy: 0.7247 - val_loss: 0.7362 - val_accuracy: 0.7568\n",
            "Epoch 8/50\n",
            "1562/1562 [==============================] - 35s 22ms/step - loss: 0.8011 - accuracy: 0.7281 - val_loss: 9.0368 - val_accuracy: 0.5818\n",
            "Epoch 9/50\n",
            "1562/1562 [==============================] - 35s 23ms/step - loss: 0.7829 - accuracy: 0.7362 - val_loss: 0.7870 - val_accuracy: 0.7399\n",
            "Epoch 10/50\n",
            "1562/1562 [==============================] - 35s 23ms/step - loss: 0.7728 - accuracy: 0.7391 - val_loss: 0.8057 - val_accuracy: 0.7468\n",
            "Epoch 11/50\n",
            "1562/1562 [==============================] - 35s 22ms/step - loss: 0.7612 - accuracy: 0.7427 - val_loss: 0.7194 - val_accuracy: 0.7614\n",
            "Epoch 12/50\n",
            "1562/1562 [==============================] - 36s 23ms/step - loss: 0.7498 - accuracy: 0.7466 - val_loss: 0.7337 - val_accuracy: 0.7624\n",
            "Epoch 13/50\n",
            "1562/1562 [==============================] - 35s 22ms/step - loss: 0.7387 - accuracy: 0.7492 - val_loss: 0.7873 - val_accuracy: 0.7557\n",
            "Epoch 14/50\n",
            "1562/1562 [==============================] - 35s 23ms/step - loss: 0.7297 - accuracy: 0.7527 - val_loss: 0.7051 - val_accuracy: 0.7665\n",
            "Epoch 15/50\n",
            "1562/1562 [==============================] - 35s 22ms/step - loss: 0.7166 - accuracy: 0.7567 - val_loss: 0.9320 - val_accuracy: 0.7540\n",
            "Epoch 16/50\n",
            "1562/1562 [==============================] - 35s 22ms/step - loss: 0.7141 - accuracy: 0.7591 - val_loss: 0.6931 - val_accuracy: 0.7764\n",
            "Epoch 17/50\n",
            "1562/1562 [==============================] - 35s 22ms/step - loss: 0.7058 - accuracy: 0.7617 - val_loss: 0.7992 - val_accuracy: 0.7731\n",
            "Epoch 18/50\n",
            "1562/1562 [==============================] - 35s 22ms/step - loss: 0.6992 - accuracy: 0.7643 - val_loss: 0.6771 - val_accuracy: 0.7810\n",
            "Epoch 19/50\n",
            "1562/1562 [==============================] - 35s 22ms/step - loss: 0.6846 - accuracy: 0.7684 - val_loss: 0.7323 - val_accuracy: 0.7632\n",
            "Epoch 20/50\n",
            "1562/1562 [==============================] - 34s 22ms/step - loss: 0.6812 - accuracy: 0.7721 - val_loss: 0.7035 - val_accuracy: 0.7826\n",
            "Epoch 21/50\n",
            "1562/1562 [==============================] - 34s 22ms/step - loss: 0.6774 - accuracy: 0.7722 - val_loss: 0.8010 - val_accuracy: 0.7828\n",
            "Epoch 22/50\n",
            "1562/1562 [==============================] - 35s 22ms/step - loss: 0.6718 - accuracy: 0.7727 - val_loss: 0.6958 - val_accuracy: 0.7676\n",
            "Epoch 23/50\n",
            "1562/1562 [==============================] - 35s 23ms/step - loss: 0.6621 - accuracy: 0.7772 - val_loss: 0.8126 - val_accuracy: 0.7617\n",
            "Epoch 24/50\n",
            "1562/1562 [==============================] - 35s 22ms/step - loss: 0.6554 - accuracy: 0.7786 - val_loss: 0.8768 - val_accuracy: 0.7492\n",
            "Epoch 25/50\n",
            "1562/1562 [==============================] - 35s 22ms/step - loss: 0.6577 - accuracy: 0.7776 - val_loss: 0.7503 - val_accuracy: 0.7889\n",
            "Epoch 26/50\n",
            "1562/1562 [==============================] - 35s 22ms/step - loss: 0.6402 - accuracy: 0.7841 - val_loss: 0.7386 - val_accuracy: 0.7807\n",
            "Epoch 27/50\n",
            "1562/1562 [==============================] - 36s 23ms/step - loss: 0.6435 - accuracy: 0.7837 - val_loss: 0.7411 - val_accuracy: 0.7623\n",
            "Epoch 28/50\n",
            "1562/1562 [==============================] - 35s 22ms/step - loss: 0.6332 - accuracy: 0.7863 - val_loss: 0.7386 - val_accuracy: 0.7846\n",
            "Epoch 29/50\n",
            "1562/1562 [==============================] - 35s 22ms/step - loss: 0.6315 - accuracy: 0.7863 - val_loss: 0.7253 - val_accuracy: 0.7860\n",
            "Epoch 30/50\n",
            "1562/1562 [==============================] - 34s 22ms/step - loss: 0.6165 - accuracy: 0.7908 - val_loss: 1.2302 - val_accuracy: 0.7553\n",
            "Epoch 31/50\n",
            "1562/1562 [==============================] - 35s 23ms/step - loss: 0.6151 - accuracy: 0.7941 - val_loss: 0.7282 - val_accuracy: 0.7850\n",
            "Epoch 32/50\n",
            "1562/1562 [==============================] - 35s 22ms/step - loss: 0.6098 - accuracy: 0.7943 - val_loss: 0.6497 - val_accuracy: 0.7934\n",
            "Epoch 33/50\n",
            "1562/1562 [==============================] - 35s 22ms/step - loss: 0.6103 - accuracy: 0.7926 - val_loss: 0.6472 - val_accuracy: 0.7893\n",
            "Epoch 34/50\n",
            "1562/1562 [==============================] - 35s 22ms/step - loss: 0.5990 - accuracy: 0.7970 - val_loss: 0.8072 - val_accuracy: 0.7764\n",
            "Epoch 35/50\n",
            "1562/1562 [==============================] - 36s 23ms/step - loss: 0.6030 - accuracy: 0.7992 - val_loss: 0.7411 - val_accuracy: 0.7744\n",
            "Epoch 36/50\n",
            "1562/1562 [==============================] - 35s 22ms/step - loss: 0.5989 - accuracy: 0.7983 - val_loss: 0.6220 - val_accuracy: 0.7965\n",
            "Epoch 37/50\n",
            "1562/1562 [==============================] - 35s 22ms/step - loss: 0.5926 - accuracy: 0.8004 - val_loss: 0.6759 - val_accuracy: 0.8006\n",
            "Epoch 38/50\n",
            "1562/1562 [==============================] - 35s 22ms/step - loss: 0.5927 - accuracy: 0.8003 - val_loss: 0.6852 - val_accuracy: 0.8007\n",
            "Epoch 39/50\n",
            "1562/1562 [==============================] - 36s 23ms/step - loss: 0.5900 - accuracy: 0.8010 - val_loss: 0.6134 - val_accuracy: 0.8011\n",
            "Epoch 40/50\n",
            "1562/1562 [==============================] - 35s 22ms/step - loss: 0.5840 - accuracy: 0.8009 - val_loss: 0.7221 - val_accuracy: 0.7916\n",
            "Epoch 41/50\n",
            "1562/1562 [==============================] - 35s 23ms/step - loss: 0.5875 - accuracy: 0.8035 - val_loss: 0.6343 - val_accuracy: 0.8045\n",
            "Epoch 42/50\n",
            "1562/1562 [==============================] - 35s 22ms/step - loss: 0.5778 - accuracy: 0.8048 - val_loss: 0.6631 - val_accuracy: 0.8074\n",
            "Epoch 43/50\n",
            "1562/1562 [==============================] - 36s 23ms/step - loss: 0.5679 - accuracy: 0.8086 - val_loss: 0.8528 - val_accuracy: 0.7904\n",
            "Epoch 44/50\n",
            "1562/1562 [==============================] - 35s 22ms/step - loss: 0.5702 - accuracy: 0.8090 - val_loss: 0.9035 - val_accuracy: 0.7883\n",
            "Epoch 45/50\n",
            "1562/1562 [==============================] - 35s 22ms/step - loss: 0.5659 - accuracy: 0.8102 - val_loss: 1.0731 - val_accuracy: 0.7854\n",
            "Epoch 46/50\n",
            "1562/1562 [==============================] - 35s 22ms/step - loss: 0.5683 - accuracy: 0.8083 - val_loss: 0.7389 - val_accuracy: 0.8020\n",
            "Epoch 47/50\n",
            "1562/1562 [==============================] - 36s 23ms/step - loss: 0.5633 - accuracy: 0.8110 - val_loss: 0.6481 - val_accuracy: 0.7946\n",
            "Epoch 48/50\n",
            "1562/1562 [==============================] - 35s 22ms/step - loss: 0.5556 - accuracy: 0.8129 - val_loss: 0.6301 - val_accuracy: 0.7989\n",
            "Epoch 49/50\n",
            "1562/1562 [==============================] - 35s 22ms/step - loss: 0.5572 - accuracy: 0.8120 - val_loss: 0.9588 - val_accuracy: 0.7830\n",
            "Epoch 50/50\n",
            "1562/1562 [==============================] - 36s 23ms/step - loss: 0.5516 - accuracy: 0.8143 - val_loss: 0.7994 - val_accuracy: 0.7874\n"
          ]
        }
      ]
    },
    {
      "cell_type": "code",
      "source": [
        "plt.plot(r.history['loss'], label='loss')\n",
        "plt.plot(r.history['val_loss'], label='val_loss')\n",
        "plt.legend()"
      ],
      "metadata": {
        "colab": {
          "base_uri": "https://localhost:8080/",
          "height": 283
        },
        "id": "H3MYT_dHD8iu",
        "outputId": "119132d2-34f4-4b10-e7ae-2b1b611512d1"
      },
      "execution_count": 34,
      "outputs": [
        {
          "output_type": "execute_result",
          "data": {
            "text/plain": [
              "<matplotlib.legend.Legend at 0x7efd4cf1fc40>"
            ]
          },
          "metadata": {},
          "execution_count": 34
        },
        {
          "output_type": "display_data",
          "data": {
            "text/plain": [
              "<Figure size 432x288 with 1 Axes>"
            ],
            "image/png": "[encoded data removed]"
          },
          "metadata": {
            "needs_background": "light"
          }
        }
      ]
    },
    {
      "cell_type": "code",
      "source": [
        "# Plot accuracy per iteration\n",
        "plt.plot(r.history['accuracy'], label='accuracy')\n",
        "plt.plot(r.history['val_accuracy'], label='val_acc')\n",
        "plt.legend()"
      ],
      "metadata": {
        "colab": {
          "base_uri": "https://localhost:8080/",
          "height": 283
        },
        "id": "s_Rek7RtEC3O",
        "outputId": "90973499-6985-4739-96da-628f18bea30b"
      },
      "execution_count": 35,
      "outputs": [
        {
          "output_type": "execute_result",
          "data": {
            "text/plain": [
              "<matplotlib.legend.Legend at 0x7efd4ced1070>"
            ]
          },
          "metadata": {},
          "execution_count": 35
        },
        {
          "output_type": "display_data",
          "data": {
            "text/plain": [
              "<Figure size 432x288 with 1 Axes>"
            ],
            "image/png": "[encoded data removed]"
          },
          "metadata": {
            "needs_background": "light"
          }
        }
      ]
    },
    {
      "cell_type": "code",
      "source": [
        "# Plot confusion matrix\n",
        "\n",
        "def plot_confusion_matrix(cm, classes,\n",
        "                          normalized=False,\n",
        "                          title='Confusion matrix',\n",
        "                          cmap=plt.cm.Blues):\n",
        "  \"\"\"\n",
        "  This function prints and plots the confusion matrix.\n",
        "  Normalization can be applied by setting 'normalize=True'\n",
        "  \"\"\"\n",
        "  if normalized:\n",
        "    cm = cm.astype('float') / cm.sum(axis=1)[:, np.ewaxis]\n",
        "    print(\"Normalized confusion matrix\")\n",
        "  else:\n",
        "    print('Confusion matrix, without normalization')\n",
        "\n",
        "  print(cm)\n",
        "\n",
        "  plt.imshow(cm, interpolation='nearest', cmap=cmap)\n",
        "  plt.title(title)\n",
        "  plt.colorbar()\n",
        "  tick_marks = np.arange(len(classes))\n",
        "  plt.xticks(tick_marks, classes, rotation=45)\n",
        "  plt.yticks(tick_marks, classes)\n",
        "\n",
        "  fmt = '.2f' if normalized else 'd'\n",
        "  thresh = cm.max() / 2.\n",
        "  for i, j in itertools.product(range(cm.shape[0]), range(cm.shape[1])):\n",
        "    plt.text(j, i, format(cm[i, j], fmt),\n",
        "             horizontalalignment=\"center\",\n",
        "             color=\"white\" if cm[i, j] > thresh else \"black\")\n",
        "  \n",
        "  plt.tight_layout()\n",
        "  plt.ylabel('True label')\n",
        "  plt.xlabel('Predicted label')\n",
        "  plt.show()\n",
        "\n",
        "p_test = model.predict(x_test).argmax(axis=1)\n",
        "cm = confusion_matrix(y_test, p_test)\n",
        "plot_confusion_matrix(cm, list(range(10)))"
      ],
      "metadata": {
        "colab": {
          "base_uri": "https://localhost:8080/",
          "height": 532
        },
        "id": "PbWARS01EMA8",
        "outputId": "457c6141-4c29-4170-9c27-d563837b722e"
      },
      "execution_count": 36,
      "outputs": [
        {
          "output_type": "stream",
          "name": "stdout",
          "text": [
            "313/313 [==============================] - 1s 3ms/step\n",
            "Confusion matrix, without normalization\n",
            "[[862  18  23  15   9   4   8   8  21  32]\n",
            " [  9 920   0   6   1   0   6   2   5  51]\n",
            " [ 76   4 640  56  68  20  84  41   0  11]\n",
            " [ 16  14  31 625  59  75 106  43   7  24]\n",
            " [ 16   4  35  53 703  14  90  77   4   4]\n",
            " [ 16  13  17 176  52 602  56  52   1  15]\n",
            " [  6   4  18  25  10   4 919   4   3   7]\n",
            " [  9   6  14  28  37  16  11 870   0   9]\n",
            " [ 64  41   5   9   2   1   4   3 837  34]\n",
            " [ 15  65   2   3   1   0   8   4   6 896]]\n"
          ]
        },
        {
          "output_type": "display_data",
          "data": {
            "text/plain": [
              "<Figure size 432x288 with 2 Axes>"
            ],
            "image/png": "[encoded data removed]"
          },
          "metadata": {
            "needs_background": "light"
          }
        }
      ]
    },
    {
      "cell_type": "code",
      "source": [
        "# label mapping\n",
        "labels = '''airplane\n",
        "automobile\n",
        "bird\n",
        "cat\n",
        "deer\n",
        "dog\n",
        "frog\n",
        "horse\n",
        "ship\n",
        "truck'''.split()"
      ],
      "metadata": {
        "id": "wfAF2wGZEP38"
      },
      "execution_count": 37,
      "outputs": []
    },
    {
      "cell_type": "code",
      "source": [
        "# show some misclassificatied examples\n",
        "misclassified_idx = np.where(p_test != y_test)[0]\n",
        "i = np.random.choice(misclassified_idx)\n",
        "plt.imshow(x_test[i], cmap='gray')\n",
        "plt.title(\"True label: %s Predicted %s\" % (labels[y_test[i]], labels[p_test[i]]));"
      ],
      "metadata": {
        "colab": {
          "base_uri": "https://localhost:8080/",
          "height": 281
        },
        "id": "neQlKZOCEk6y",
        "outputId": "598af217-25d0-4a0a-e5e5-6dde60dd9bae"
      },
      "execution_count": 38,
      "outputs": [
        {
          "output_type": "display_data",
          "data": {
            "text/plain": [
              "<Figure size 432x288 with 1 Axes>"
            ],
            "image/png": "[encoded data removed]"
          },
          "metadata": {
            "needs_background": "light"
          }
        }
      ]
    },
    {
      "cell_type": "code",
      "source": [
        "# Now that the model is so large, it's useful to summarize it\n",
        "model.summary()"
      ],
      "metadata": {
        "colab": {
          "base_uri": "https://localhost:8080/"
        },
        "id": "xjyRWFxaReu2",
        "outputId": "0bad6614-1eb9-4436-84ac-0f98662c6257"
      },
      "execution_count": 39,
      "outputs": [
        {
          "output_type": "stream",
          "name": "stdout",
          "text": [
            "Model: \"model_2\"\n",
            "_________________________________________________________________\n",
            " Layer (type)                Output Shape              Param #   \n",
            "=================================================================\n",
            " input_4 (InputLayer)        [(None, 32, 32, 3)]       0         \n",
            "                                                                 \n",
            " conv2d_15 (Conv2D)          (None, 32, 32, 128)       3584      \n",
            "                                                                 \n",
            " batch_normalization_11 (Bat  (None, 32, 32, 128)      512       \n",
            " chNormalization)                                                \n",
            "                                                                 \n",
            " conv2d_16 (Conv2D)          (None, 32, 32, 128)       147584    \n",
            "                                                                 \n",
            " batch_normalization_12 (Bat  (None, 32, 32, 128)      512       \n",
            " chNormalization)                                                \n",
            "                                                                 \n",
            " max_pooling2d_5 (MaxPooling  (None, 16, 16, 128)      0         \n",
            " 2D)                                                             \n",
            "                                                                 \n",
            " flatten_2 (Flatten)         (None, 32768)             0         \n",
            "                                                                 \n",
            " dropout_4 (Dropout)         (None, 32768)             0         \n",
            "                                                                 \n",
            " dense_4 (Dense)             (None, 1024)              33555456  \n",
            "                                                                 \n",
            " dropout_5 (Dropout)         (None, 1024)              0         \n",
            "                                                                 \n",
            " dense_5 (Dense)             (None, 10)                10250     \n",
            "                                                                 \n",
            "=================================================================\n",
            "Total params: 33,717,898\n",
            "Trainable params: 33,717,386\n",
            "Non-trainable params: 512\n",
            "_________________________________________________________________\n"
          ]
        }
      ]
    }
  ]
}
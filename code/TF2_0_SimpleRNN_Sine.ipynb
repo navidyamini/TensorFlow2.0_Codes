{
  "nbformat": 4,
  "nbformat_minor": 0,
  "metadata": {
    "colab": {
      "provenance": [],
      "authorship_tag": "ABX9TyOUw8EwfM22hBsXadZU/KFB",
      "include_colab_link": true
    },
    "kernelspec": {
      "name": "python3",
      "display_name": "Python 3"
    },
    "language_info": {
      "name": "python"
    }
  },
  "cells": [
    {
      "cell_type": "markdown",
      "metadata": {
        "id": "view-in-github",
        "colab_type": "text"
      },
      "source": [
        "<a href=\"https://colab.research.google.com/github/navidyamini/TensorFlow2.0_Codes/blob/main/code/TF2_0_SimpleRNN_Sine.ipynb\" target=\"_parent\"><img src=\"https://colab.research.google.com/assets/colab-badge.svg\" alt=\"Open In Colab\"/></a>"
      ]
    },
    {
      "cell_type": "code",
      "execution_count": 1,
      "metadata": {
        "id": "c1FyDhKtqhBu"
      },
      "outputs": [],
      "source": [
        "import tensorflow as tf\n",
        "from tensorflow.keras.layers import Input, SimpleRNN, Dense, Flatten\n",
        "from tensorflow.keras.models import Model\n",
        "from tensorflow.keras.optimizers import SGD, Adam\n",
        "\n",
        "import numpy as np\n",
        "import pandas as pd\n",
        "import matplotlib.pyplot as plt"
      ]
    },
    {
      "cell_type": "code",
      "source": [
        "# make the priginal data\n",
        "series = np.sin(0.1*np.arange(200)) + np.random.randn(200)*0.1\n",
        "# plot it\n",
        "plt.plot(series)\n",
        "plt.show()"
      ],
      "metadata": {
        "colab": {
          "base_uri": "https://localhost:8080/",
          "height": 265
        },
        "id": "r8C-WXK2rUJE",
        "outputId": "a82258e3-3a5f-45cd-a332-ad2927d2a321"
      },
      "execution_count": 2,
      "outputs": [
        {
          "output_type": "display_data",
          "data": {
            "text/plain": [
              "<Figure size 432x288 with 1 Axes>"
            ],
            "image/png": "[encoded data removed]"
          },
          "metadata": {
            "needs_background": "light"
          }
        }
      ]
    },
    {
      "cell_type": "code",
      "source": [
        "### build the dataset\n",
        "# let's see if we can use T past values to predict the next value\n",
        "T = 10\n",
        "D = 1\n",
        "X = []\n",
        "Y = []\n",
        "for t in range(len(series) - T):\n",
        "  x = series[t:t+T]\n",
        "  X.append(x)\n",
        "  y = series[t+T]\n",
        "  Y.append(y)\n",
        "\n",
        "X = np.array(X).reshape(-1, T, 1) # Now the data should be N x T x D\n",
        "Y = np.array(Y)\n",
        "N = len(X)\n",
        "print(\"X.shape\", X.shape, \"Y.shape\", Y.shape)"
      ],
      "metadata": {
        "colab": {
          "base_uri": "https://localhost:8080/"
        },
        "id": "DbkJJn7er9SF",
        "outputId": "4d2c1d5c-e7b2-4ef4-d5ad-bb0bf097d47e"
      },
      "execution_count": 3,
      "outputs": [
        {
          "output_type": "stream",
          "name": "stdout",
          "text": [
            "X.shape (190, 10, 1) Y.shape (190,)\n"
          ]
        }
      ]
    },
    {
      "cell_type": "code",
      "source": [
        "### try autoregresssive RNN model\n",
        "i = Input(shape=(T, 1))\n",
        "x = SimpleRNN(5,activation='relu')(i) # SimpleRNN(5,activation=None)(i) # (i)SimpleRNN(5,activation='relu')(i) #SimpleRNN(5)(i) \n",
        "x = Dense(1)(x)\n",
        "model = Model(i, x)\n",
        "model.compile(\n",
        "    loss='mse',\n",
        "    optimizer=Adam(lr=0.1),\n",
        ")\n",
        "# train the RNN\n",
        "r = model.fit(\n",
        "    X[:-N//2], Y[:N//2],\n",
        "    epochs=80,\n",
        "    validation_data=(X[-N//2:], Y[-N//2:])\n",
        ")"
      ],
      "metadata": {
        "colab": {
          "base_uri": "https://localhost:8080/"
        },
        "id": "bUK1qjPpr5Xz",
        "outputId": "a26dfe03-133b-4189-fbbd-cec44377595e"
      },
      "execution_count": 16,
      "outputs": [
        {
          "output_type": "stream",
          "name": "stdout",
          "text": [
            "Epoch 1/80\n"
          ]
        },
        {
          "output_type": "stream",
          "name": "stderr",
          "text": [
            "/usr/local/lib/python3.8/dist-packages/keras/optimizers/optimizer_v2/adam.py:110: UserWarning: The `lr` argument is deprecated, use `learning_rate` instead.\n",
            "  super(Adam, self).__init__(name, **kwargs)\n"
          ]
        },
        {
          "output_type": "stream",
          "name": "stdout",
          "text": [
            "3/3 [==============================] - 3s 153ms/step - loss: 0.8726 - val_loss: 0.1969\n",
            "Epoch 2/80\n",
            "3/3 [==============================] - 0s 25ms/step - loss: 0.2919 - val_loss: 0.4725\n",
            "Epoch 3/80\n",
            "3/3 [==============================] - 0s 25ms/step - loss: 0.5878 - val_loss: 0.5004\n",
            "Epoch 4/80\n",
            "3/3 [==============================] - 0s 21ms/step - loss: 0.5797 - val_loss: 0.4483\n",
            "Epoch 5/80\n",
            "3/3 [==============================] - 0s 22ms/step - loss: 0.4721 - val_loss: 0.4117\n",
            "Epoch 6/80\n",
            "3/3 [==============================] - 0s 29ms/step - loss: 0.3776 - val_loss: 0.4175\n",
            "Epoch 7/80\n",
            "3/3 [==============================] - 0s 35ms/step - loss: 0.3534 - val_loss: 0.4482\n",
            "Epoch 8/80\n",
            "3/3 [==============================] - 0s 24ms/step - loss: 0.3467 - val_loss: 0.4575\n",
            "Epoch 9/80\n",
            "3/3 [==============================] - 0s 25ms/step - loss: 0.3301 - val_loss: 0.4179\n",
            "Epoch 10/80\n",
            "3/3 [==============================] - 0s 30ms/step - loss: 0.2873 - val_loss: 0.3375\n",
            "Epoch 11/80\n",
            "3/3 [==============================] - 0s 28ms/step - loss: 0.2220 - val_loss: 0.2550\n",
            "Epoch 12/80\n",
            "3/3 [==============================] - 0s 31ms/step - loss: 0.1688 - val_loss: 0.1847\n",
            "Epoch 13/80\n",
            "3/3 [==============================] - 0s 23ms/step - loss: 0.1238 - val_loss: 0.1337\n",
            "Epoch 14/80\n",
            "3/3 [==============================] - 0s 31ms/step - loss: 0.0884 - val_loss: 0.0977\n",
            "Epoch 15/80\n",
            "3/3 [==============================] - 0s 25ms/step - loss: 0.0667 - val_loss: 0.0753\n",
            "Epoch 16/80\n",
            "3/3 [==============================] - 0s 26ms/step - loss: 0.0550 - val_loss: 0.0655\n",
            "Epoch 17/80\n",
            "3/3 [==============================] - 0s 28ms/step - loss: 0.0541 - val_loss: 0.0615\n",
            "Epoch 18/80\n",
            "3/3 [==============================] - 0s 26ms/step - loss: 0.0533 - val_loss: 0.0614\n",
            "Epoch 19/80\n",
            "3/3 [==============================] - 0s 23ms/step - loss: 0.0532 - val_loss: 0.0625\n",
            "Epoch 20/80\n",
            "3/3 [==============================] - 0s 25ms/step - loss: 0.0510 - val_loss: 0.0581\n",
            "Epoch 21/80\n",
            "3/3 [==============================] - 0s 21ms/step - loss: 0.0468 - val_loss: 0.0516\n",
            "Epoch 22/80\n",
            "3/3 [==============================] - 0s 23ms/step - loss: 0.0427 - val_loss: 0.0461\n",
            "Epoch 23/80\n",
            "3/3 [==============================] - 0s 30ms/step - loss: 0.0366 - val_loss: 0.0423\n",
            "Epoch 24/80\n",
            "3/3 [==============================] - 0s 32ms/step - loss: 0.0327 - val_loss: 0.0398\n",
            "Epoch 25/80\n",
            "3/3 [==============================] - 0s 24ms/step - loss: 0.0309 - val_loss: 0.0372\n",
            "Epoch 26/80\n",
            "3/3 [==============================] - 0s 28ms/step - loss: 0.0292 - val_loss: 0.0347\n",
            "Epoch 27/80\n",
            "3/3 [==============================] - 0s 24ms/step - loss: 0.0285 - val_loss: 0.0330\n",
            "Epoch 28/80\n",
            "3/3 [==============================] - 0s 19ms/step - loss: 0.0278 - val_loss: 0.0315\n",
            "Epoch 29/80\n",
            "3/3 [==============================] - 0s 22ms/step - loss: 0.0271 - val_loss: 0.0304\n",
            "Epoch 30/80\n",
            "3/3 [==============================] - 0s 20ms/step - loss: 0.0260 - val_loss: 0.0287\n",
            "Epoch 31/80\n",
            "3/3 [==============================] - 0s 29ms/step - loss: 0.0254 - val_loss: 0.0273\n",
            "Epoch 32/80\n",
            "3/3 [==============================] - 0s 20ms/step - loss: 0.0245 - val_loss: 0.0270\n",
            "Epoch 33/80\n",
            "3/3 [==============================] - 0s 27ms/step - loss: 0.0244 - val_loss: 0.0269\n",
            "Epoch 34/80\n",
            "3/3 [==============================] - 0s 23ms/step - loss: 0.0237 - val_loss: 0.0259\n",
            "Epoch 35/80\n",
            "3/3 [==============================] - 0s 19ms/step - loss: 0.0236 - val_loss: 0.0254\n",
            "Epoch 36/80\n",
            "3/3 [==============================] - 0s 20ms/step - loss: 0.0235 - val_loss: 0.0255\n",
            "Epoch 37/80\n",
            "3/3 [==============================] - 0s 21ms/step - loss: 0.0239 - val_loss: 0.0264\n",
            "Epoch 38/80\n",
            "3/3 [==============================] - 0s 20ms/step - loss: 0.0237 - val_loss: 0.0245\n",
            "Epoch 39/80\n",
            "3/3 [==============================] - 0s 19ms/step - loss: 0.0231 - val_loss: 0.0243\n",
            "Epoch 40/80\n",
            "3/3 [==============================] - 0s 25ms/step - loss: 0.0231 - val_loss: 0.0243\n",
            "Epoch 41/80\n",
            "3/3 [==============================] - 0s 29ms/step - loss: 0.0230 - val_loss: 0.0246\n",
            "Epoch 42/80\n",
            "3/3 [==============================] - 0s 21ms/step - loss: 0.0228 - val_loss: 0.0239\n",
            "Epoch 43/80\n",
            "3/3 [==============================] - 0s 27ms/step - loss: 0.0231 - val_loss: 0.0235\n",
            "Epoch 44/80\n",
            "3/3 [==============================] - 0s 19ms/step - loss: 0.0227 - val_loss: 0.0242\n",
            "Epoch 45/80\n",
            "3/3 [==============================] - 0s 19ms/step - loss: 0.0226 - val_loss: 0.0246\n",
            "Epoch 46/80\n",
            "3/3 [==============================] - 0s 31ms/step - loss: 0.0229 - val_loss: 0.0243\n",
            "Epoch 47/80\n",
            "3/3 [==============================] - 0s 25ms/step - loss: 0.0225 - val_loss: 0.0234\n",
            "Epoch 48/80\n",
            "3/3 [==============================] - 0s 21ms/step - loss: 0.0226 - val_loss: 0.0237\n",
            "Epoch 49/80\n",
            "3/3 [==============================] - 0s 20ms/step - loss: 0.0225 - val_loss: 0.0240\n",
            "Epoch 50/80\n",
            "3/3 [==============================] - 0s 36ms/step - loss: 0.0230 - val_loss: 0.0250\n",
            "Epoch 51/80\n",
            "3/3 [==============================] - 0s 27ms/step - loss: 0.0224 - val_loss: 0.0236\n",
            "Epoch 52/80\n",
            "3/3 [==============================] - 0s 28ms/step - loss: 0.0229 - val_loss: 0.0230\n",
            "Epoch 53/80\n",
            "3/3 [==============================] - 0s 20ms/step - loss: 0.0225 - val_loss: 0.0237\n",
            "Epoch 54/80\n",
            "3/3 [==============================] - 0s 27ms/step - loss: 0.0226 - val_loss: 0.0241\n",
            "Epoch 55/80\n",
            "3/3 [==============================] - 0s 20ms/step - loss: 0.0227 - val_loss: 0.0254\n",
            "Epoch 56/80\n",
            "3/3 [==============================] - 0s 24ms/step - loss: 0.0226 - val_loss: 0.0234\n",
            "Epoch 57/80\n",
            "3/3 [==============================] - 0s 27ms/step - loss: 0.0225 - val_loss: 0.0236\n",
            "Epoch 58/80\n",
            "3/3 [==============================] - 0s 21ms/step - loss: 0.0223 - val_loss: 0.0241\n",
            "Epoch 59/80\n",
            "3/3 [==============================] - 0s 20ms/step - loss: 0.0223 - val_loss: 0.0239\n",
            "Epoch 60/80\n",
            "3/3 [==============================] - 0s 22ms/step - loss: 0.0220 - val_loss: 0.0232\n",
            "Epoch 61/80\n",
            "3/3 [==============================] - 0s 23ms/step - loss: 0.0223 - val_loss: 0.0237\n",
            "Epoch 62/80\n",
            "3/3 [==============================] - 0s 31ms/step - loss: 0.0221 - val_loss: 0.0233\n",
            "Epoch 63/80\n",
            "3/3 [==============================] - 0s 25ms/step - loss: 0.0224 - val_loss: 0.0244\n",
            "Epoch 64/80\n",
            "3/3 [==============================] - 0s 22ms/step - loss: 0.0220 - val_loss: 0.0236\n",
            "Epoch 65/80\n",
            "3/3 [==============================] - 0s 22ms/step - loss: 0.0221 - val_loss: 0.0237\n",
            "Epoch 66/80\n",
            "3/3 [==============================] - 0s 26ms/step - loss: 0.0220 - val_loss: 0.0238\n",
            "Epoch 67/80\n",
            "3/3 [==============================] - 0s 25ms/step - loss: 0.0220 - val_loss: 0.0241\n",
            "Epoch 68/80\n",
            "3/3 [==============================] - 0s 31ms/step - loss: 0.0219 - val_loss: 0.0242\n",
            "Epoch 69/80\n",
            "3/3 [==============================] - 0s 32ms/step - loss: 0.0220 - val_loss: 0.0233\n",
            "Epoch 70/80\n",
            "3/3 [==============================] - 0s 26ms/step - loss: 0.0220 - val_loss: 0.0240\n",
            "Epoch 71/80\n",
            "3/3 [==============================] - 0s 23ms/step - loss: 0.0222 - val_loss: 0.0235\n",
            "Epoch 72/80\n",
            "3/3 [==============================] - 0s 28ms/step - loss: 0.0219 - val_loss: 0.0242\n",
            "Epoch 73/80\n",
            "3/3 [==============================] - 0s 23ms/step - loss: 0.0219 - val_loss: 0.0238\n",
            "Epoch 74/80\n",
            "3/3 [==============================] - 0s 33ms/step - loss: 0.0218 - val_loss: 0.0235\n",
            "Epoch 75/80\n",
            "3/3 [==============================] - 0s 22ms/step - loss: 0.0217 - val_loss: 0.0235\n",
            "Epoch 76/80\n",
            "3/3 [==============================] - 0s 20ms/step - loss: 0.0222 - val_loss: 0.0234\n",
            "Epoch 77/80\n",
            "3/3 [==============================] - 0s 18ms/step - loss: 0.0218 - val_loss: 0.0252\n",
            "Epoch 78/80\n",
            "3/3 [==============================] - 0s 23ms/step - loss: 0.0219 - val_loss: 0.0239\n",
            "Epoch 79/80\n",
            "3/3 [==============================] - 0s 28ms/step - loss: 0.0221 - val_loss: 0.0231\n",
            "Epoch 80/80\n",
            "3/3 [==============================] - 0s 20ms/step - loss: 0.0218 - val_loss: 0.0239\n"
          ]
        }
      ]
    },
    {
      "cell_type": "code",
      "source": [
        "plt.plot(r.history['loss'], label='loss')\n",
        "plt.plot(r.history['val_loss'], label='val_loss')\n",
        "plt.legend()"
      ],
      "metadata": {
        "colab": {
          "base_uri": "https://localhost:8080/",
          "height": 283
        },
        "id": "QuKKsrmIt1cs",
        "outputId": "b2ca3e90-05a6-4bbc-e730-87f67003abb2"
      },
      "execution_count": 17,
      "outputs": [
        {
          "output_type": "execute_result",
          "data": {
            "text/plain": [
              "<matplotlib.legend.Legend at 0x7f76bd917ca0>"
            ]
          },
          "metadata": {},
          "execution_count": 17
        },
        {
          "output_type": "display_data",
          "data": {
            "text/plain": [
              "<Figure size 432x288 with 1 Axes>"
            ],
            "image/png": "[encoded data removed]"
          },
          "metadata": {
            "needs_background": "light"
          }
        }
      ]
    },
    {
      "cell_type": "code",
      "source": [
        "# \"Wring\" forecast using true targets\n",
        "validation_target = Y[-N//2:]\n",
        "validation_predictions=[]\n",
        "\n",
        "# index of first validation input\n",
        "i = -N//2\n",
        "\n",
        "while len(validation_predictions) < len(validation_target):\n",
        "  p = model.predict(X[i].reshape(1, -1, 1))[0,0] # 1x1 array -> scalar\n",
        "  i += 1\n",
        "\n",
        "  # update the predictions list\n",
        "  validation_predictions.append(p)"
      ],
      "metadata": {
        "colab": {
          "base_uri": "https://localhost:8080/"
        },
        "id": "r5wk17r_uw3e",
        "outputId": "9018ac8b-325f-442e-9498-ffe3b21cb4da"
      },
      "execution_count": 18,
      "outputs": [
        {
          "output_type": "stream",
          "name": "stdout",
          "text": [
            "1/1 [==============================] - 0s 182ms/step\n",
            "1/1 [==============================] - 0s 22ms/step\n",
            "1/1 [==============================] - 0s 22ms/step\n",
            "1/1 [==============================] - 0s 21ms/step\n",
            "1/1 [==============================] - 0s 38ms/step\n",
            "1/1 [==============================] - 0s 27ms/step\n",
            "1/1 [==============================] - 0s 26ms/step\n",
            "1/1 [==============================] - 0s 25ms/step\n",
            "1/1 [==============================] - 0s 29ms/step\n",
            "1/1 [==============================] - 0s 28ms/step\n",
            "1/1 [==============================] - 0s 27ms/step\n",
            "1/1 [==============================] - 0s 29ms/step\n",
            "1/1 [==============================] - 0s 26ms/step\n",
            "1/1 [==============================] - 0s 25ms/step\n",
            "1/1 [==============================] - 0s 22ms/step\n",
            "1/1 [==============================] - 0s 28ms/step\n",
            "1/1 [==============================] - 0s 29ms/step\n",
            "1/1 [==============================] - 0s 23ms/step\n",
            "1/1 [==============================] - 0s 28ms/step\n",
            "1/1 [==============================] - 0s 31ms/step\n",
            "1/1 [==============================] - 0s 29ms/step\n",
            "1/1 [==============================] - 0s 37ms/step\n",
            "1/1 [==============================] - 0s 30ms/step\n",
            "1/1 [==============================] - 0s 24ms/step\n",
            "1/1 [==============================] - 0s 32ms/step\n",
            "1/1 [==============================] - 0s 25ms/step\n",
            "1/1 [==============================] - 0s 28ms/step\n",
            "1/1 [==============================] - 0s 25ms/step\n",
            "1/1 [==============================] - 0s 27ms/step\n",
            "1/1 [==============================] - 0s 28ms/step\n",
            "1/1 [==============================] - 0s 23ms/step\n",
            "1/1 [==============================] - 0s 24ms/step\n",
            "1/1 [==============================] - 0s 32ms/step\n",
            "1/1 [==============================] - 0s 25ms/step\n",
            "1/1 [==============================] - 0s 28ms/step\n",
            "1/1 [==============================] - 0s 23ms/step\n",
            "1/1 [==============================] - 0s 23ms/step\n",
            "1/1 [==============================] - 0s 25ms/step\n",
            "1/1 [==============================] - 0s 24ms/step\n",
            "1/1 [==============================] - 0s 28ms/step\n",
            "1/1 [==============================] - 0s 25ms/step\n",
            "1/1 [==============================] - 0s 27ms/step\n",
            "1/1 [==============================] - 0s 25ms/step\n",
            "1/1 [==============================] - 0s 28ms/step\n",
            "1/1 [==============================] - 0s 28ms/step\n",
            "1/1 [==============================] - 0s 36ms/step\n",
            "1/1 [==============================] - 0s 26ms/step\n",
            "1/1 [==============================] - 0s 25ms/step\n",
            "1/1 [==============================] - 0s 25ms/step\n",
            "1/1 [==============================] - 0s 36ms/step\n",
            "1/1 [==============================] - 0s 23ms/step\n",
            "1/1 [==============================] - 0s 22ms/step\n",
            "1/1 [==============================] - 0s 25ms/step\n",
            "1/1 [==============================] - 0s 34ms/step\n",
            "1/1 [==============================] - 0s 24ms/step\n",
            "1/1 [==============================] - 0s 23ms/step\n",
            "1/1 [==============================] - 0s 26ms/step\n",
            "1/1 [==============================] - 0s 26ms/step\n",
            "1/1 [==============================] - 0s 25ms/step\n",
            "1/1 [==============================] - 0s 26ms/step\n",
            "1/1 [==============================] - 0s 27ms/step\n",
            "1/1 [==============================] - 0s 30ms/step\n",
            "1/1 [==============================] - 0s 24ms/step\n",
            "1/1 [==============================] - 0s 25ms/step\n",
            "1/1 [==============================] - 0s 24ms/step\n",
            "1/1 [==============================] - 0s 26ms/step\n",
            "1/1 [==============================] - 0s 35ms/step\n",
            "1/1 [==============================] - 0s 26ms/step\n",
            "1/1 [==============================] - 0s 27ms/step\n",
            "1/1 [==============================] - 0s 25ms/step\n",
            "1/1 [==============================] - 0s 38ms/step\n",
            "1/1 [==============================] - 0s 26ms/step\n",
            "1/1 [==============================] - 0s 26ms/step\n",
            "1/1 [==============================] - 0s 25ms/step\n",
            "1/1 [==============================] - 0s 26ms/step\n",
            "1/1 [==============================] - 0s 30ms/step\n",
            "1/1 [==============================] - 0s 23ms/step\n",
            "1/1 [==============================] - 0s 33ms/step\n",
            "1/1 [==============================] - 0s 27ms/step\n",
            "1/1 [==============================] - 0s 24ms/step\n",
            "1/1 [==============================] - 0s 23ms/step\n",
            "1/1 [==============================] - 0s 25ms/step\n",
            "1/1 [==============================] - 0s 36ms/step\n",
            "1/1 [==============================] - 0s 26ms/step\n",
            "1/1 [==============================] - 0s 26ms/step\n",
            "1/1 [==============================] - 0s 33ms/step\n",
            "1/1 [==============================] - 0s 24ms/step\n",
            "1/1 [==============================] - 0s 23ms/step\n",
            "1/1 [==============================] - 0s 23ms/step\n",
            "1/1 [==============================] - 0s 25ms/step\n",
            "1/1 [==============================] - 0s 29ms/step\n",
            "1/1 [==============================] - 0s 29ms/step\n",
            "1/1 [==============================] - 0s 24ms/step\n",
            "1/1 [==============================] - 0s 28ms/step\n",
            "1/1 [==============================] - 0s 32ms/step\n"
          ]
        }
      ]
    },
    {
      "cell_type": "code",
      "source": [
        "plt.plot(validation_target, label='forecast target')\n",
        "plt.plot(validation_predictions, label='forecast prediction')\n",
        "plt.legend()"
      ],
      "metadata": {
        "colab": {
          "base_uri": "https://localhost:8080/",
          "height": 283
        },
        "id": "45WtsEyUvzAT",
        "outputId": "e18624ca-c57b-4d98-c88a-4ea0255c91b3"
      },
      "execution_count": 19,
      "outputs": [
        {
          "output_type": "execute_result",
          "data": {
            "text/plain": [
              "<matplotlib.legend.Legend at 0x7f76b8a0d790>"
            ]
          },
          "metadata": {},
          "execution_count": 19
        },
        {
          "output_type": "display_data",
          "data": {
            "text/plain": [
              "<Figure size 432x288 with 1 Axes>"
            ],
            "image/png": "[encoded data removed]"
          },
          "metadata": {
            "needs_background": "light"
          }
        }
      ]
    },
    {
      "cell_type": "code",
      "source": [
        "# Forecast future values (use only self-predictions for making futire predictions)\n",
        "validation_target = Y[-N//2:]\n",
        "validation_predictions = []\n",
        "\n",
        "# last train input\n",
        "last_x = X[-N//2] # 1-D array of length T\n",
        "\n",
        "while len(validation_predictions) < len(validation_target):\n",
        "\n",
        "  p = model.predict(last_x.reshape(1, -1, 1))[0,0] # 1x1 array -> scalar\n",
        "  \n",
        "  # update the predictions list\n",
        "  validation_predictions.append(p)\n",
        "\n",
        "  # make the new input\n",
        "  last_x = np.roll(last_x, -1)\n",
        "  last_x[-1] = p"
      ],
      "metadata": {
        "colab": {
          "base_uri": "https://localhost:8080/"
        },
        "id": "QMshhQyHwN6K",
        "outputId": "ab3345a1-b22a-4337-8ab0-5b4259789994"
      },
      "execution_count": 20,
      "outputs": [
        {
          "output_type": "stream",
          "name": "stdout",
          "text": [
            "1/1 [==============================] - 0s 28ms/step\n",
            "1/1 [==============================] - 0s 25ms/step\n",
            "1/1 [==============================] - 0s 26ms/step\n",
            "1/1 [==============================] - 0s 27ms/step\n",
            "1/1 [==============================] - 0s 27ms/step\n",
            "1/1 [==============================] - 0s 25ms/step\n",
            "1/1 [==============================] - 0s 26ms/step\n",
            "1/1 [==============================] - 0s 26ms/step\n",
            "1/1 [==============================] - 0s 39ms/step\n",
            "1/1 [==============================] - 0s 26ms/step\n",
            "1/1 [==============================] - 0s 26ms/step\n",
            "1/1 [==============================] - 0s 27ms/step\n",
            "1/1 [==============================] - 0s 25ms/step\n",
            "1/1 [==============================] - 0s 23ms/step\n",
            "1/1 [==============================] - 0s 24ms/step\n",
            "1/1 [==============================] - 0s 24ms/step\n",
            "1/1 [==============================] - 0s 28ms/step\n",
            "1/1 [==============================] - 0s 23ms/step\n",
            "1/1 [==============================] - 0s 26ms/step\n",
            "1/1 [==============================] - 0s 26ms/step\n",
            "1/1 [==============================] - 0s 25ms/step\n",
            "1/1 [==============================] - 0s 22ms/step\n",
            "1/1 [==============================] - 0s 21ms/step\n",
            "1/1 [==============================] - 0s 21ms/step\n",
            "1/1 [==============================] - 0s 27ms/step\n",
            "1/1 [==============================] - 0s 20ms/step\n",
            "1/1 [==============================] - 0s 21ms/step\n",
            "1/1 [==============================] - 0s 21ms/step\n",
            "1/1 [==============================] - 0s 22ms/step\n",
            "1/1 [==============================] - 0s 27ms/step\n",
            "1/1 [==============================] - 0s 24ms/step\n",
            "1/1 [==============================] - 0s 22ms/step\n",
            "1/1 [==============================] - 0s 25ms/step\n",
            "1/1 [==============================] - 0s 25ms/step\n",
            "1/1 [==============================] - 0s 33ms/step\n",
            "1/1 [==============================] - 0s 23ms/step\n",
            "1/1 [==============================] - 0s 29ms/step\n",
            "1/1 [==============================] - 0s 22ms/step\n",
            "1/1 [==============================] - 0s 26ms/step\n",
            "1/1 [==============================] - 0s 32ms/step\n",
            "1/1 [==============================] - 0s 24ms/step\n",
            "1/1 [==============================] - 0s 25ms/step\n",
            "1/1 [==============================] - 0s 22ms/step\n",
            "1/1 [==============================] - 0s 21ms/step\n",
            "1/1 [==============================] - 0s 31ms/step\n",
            "1/1 [==============================] - 0s 24ms/step\n",
            "1/1 [==============================] - 0s 22ms/step\n",
            "1/1 [==============================] - 0s 27ms/step\n",
            "1/1 [==============================] - 0s 26ms/step\n",
            "1/1 [==============================] - 0s 25ms/step\n",
            "1/1 [==============================] - 0s 27ms/step\n",
            "1/1 [==============================] - 0s 24ms/step\n",
            "1/1 [==============================] - 0s 23ms/step\n",
            "1/1 [==============================] - 0s 23ms/step\n",
            "1/1 [==============================] - 0s 31ms/step\n",
            "1/1 [==============================] - 0s 23ms/step\n",
            "1/1 [==============================] - 0s 23ms/step\n",
            "1/1 [==============================] - 0s 23ms/step\n",
            "1/1 [==============================] - 0s 28ms/step\n",
            "1/1 [==============================] - 0s 28ms/step\n",
            "1/1 [==============================] - 0s 28ms/step\n",
            "1/1 [==============================] - 0s 27ms/step\n",
            "1/1 [==============================] - 0s 22ms/step\n",
            "1/1 [==============================] - 0s 24ms/step\n",
            "1/1 [==============================] - 0s 23ms/step\n",
            "1/1 [==============================] - 0s 23ms/step\n",
            "1/1 [==============================] - 0s 24ms/step\n",
            "1/1 [==============================] - 0s 22ms/step\n",
            "1/1 [==============================] - 0s 22ms/step\n",
            "1/1 [==============================] - 0s 29ms/step\n",
            "1/1 [==============================] - 0s 27ms/step\n",
            "1/1 [==============================] - 0s 22ms/step\n",
            "1/1 [==============================] - 0s 30ms/step\n",
            "1/1 [==============================] - 0s 24ms/step\n",
            "1/1 [==============================] - 0s 32ms/step\n",
            "1/1 [==============================] - 0s 25ms/step\n",
            "1/1 [==============================] - 0s 23ms/step\n",
            "1/1 [==============================] - 0s 27ms/step\n",
            "1/1 [==============================] - 0s 23ms/step\n",
            "1/1 [==============================] - 0s 24ms/step\n",
            "1/1 [==============================] - 0s 24ms/step\n",
            "1/1 [==============================] - 0s 23ms/step\n",
            "1/1 [==============================] - 0s 28ms/step\n",
            "1/1 [==============================] - 0s 22ms/step\n",
            "1/1 [==============================] - 0s 25ms/step\n",
            "1/1 [==============================] - 0s 28ms/step\n",
            "1/1 [==============================] - 0s 28ms/step\n",
            "1/1 [==============================] - 0s 23ms/step\n",
            "1/1 [==============================] - 0s 23ms/step\n",
            "1/1 [==============================] - 0s 22ms/step\n",
            "1/1 [==============================] - 0s 29ms/step\n",
            "1/1 [==============================] - 0s 24ms/step\n",
            "1/1 [==============================] - 0s 24ms/step\n",
            "1/1 [==============================] - 0s 31ms/step\n",
            "1/1 [==============================] - 0s 24ms/step\n"
          ]
        }
      ]
    },
    {
      "cell_type": "code",
      "source": [
        "plt.plot(validation_target, label='forecast target')\n",
        "plt.plot(validation_predictions, label='forecast prediction')\n",
        "plt.legend()"
      ],
      "metadata": {
        "colab": {
          "base_uri": "https://localhost:8080/",
          "height": 283
        },
        "id": "f_BTLpaAxgwF",
        "outputId": "c98c4a86-dff3-47cb-95e7-cf92e045f06e"
      },
      "execution_count": 21,
      "outputs": [
        {
          "output_type": "execute_result",
          "data": {
            "text/plain": [
              "<matplotlib.legend.Legend at 0x7f76bd810610>"
            ]
          },
          "metadata": {},
          "execution_count": 21
        },
        {
          "output_type": "display_data",
          "data": {
            "text/plain": [
              "<Figure size 432x288 with 1 Axes>"
            ],
            "image/png": "[encoded data removed]"
          },
          "metadata": {
            "needs_background": "light"
          }
        }
      ]
    }
  ]
}